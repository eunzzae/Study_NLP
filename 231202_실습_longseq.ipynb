{
  "nbformat": 4,
  "nbformat_minor": 0,
  "metadata": {
    "colab": {
      "provenance": [],
      "authorship_tag": "ABX9TyNuHBLY2u+2KsQBdFrK+PhV",
      "include_colab_link": true
    },
    "kernelspec": {
      "name": "python3",
      "display_name": "Python 3"
    },
    "language_info": {
      "name": "python"
    }
  },
  "cells": [
    {
      "cell_type": "markdown",
      "metadata": {
        "id": "view-in-github",
        "colab_type": "text"
      },
      "source": [
        "<a href=\"https://colab.research.google.com/github/eunzzae/Study_NLP/blob/main/231202_%EC%8B%A4%EC%8A%B5_longseq.ipynb\" target=\"_parent\"><img src=\"https://colab.research.google.com/assets/colab-badge.svg\" alt=\"Open In Colab\"/></a>"
      ]
    },
    {
      "cell_type": "markdown",
      "source": [
        "# 다음 문자열을 예측하는 RNN"
      ],
      "metadata": {
        "id": "69F6Uq61qbVE"
      }
    },
    {
      "cell_type": "code",
      "execution_count": 1,
      "metadata": {
        "id": "S6zBQcmqqWxz"
      },
      "outputs": [],
      "source": [
        "import torch\n",
        "import torch.optim as optim\n",
        "import numpy as np"
      ]
    },
    {
      "cell_type": "code",
      "source": [
        "# Random seed to make results deterministic and reproducible\n",
        "torch.manual_seed(0)"
      ],
      "metadata": {
        "colab": {
          "base_uri": "https://localhost:8080/"
        },
        "id": "B3QaYSrJqjJP",
        "outputId": "90825147-8999-44bd-9984-df8d78c92cae"
      },
      "execution_count": 2,
      "outputs": [
        {
          "output_type": "execute_result",
          "data": {
            "text/plain": [
              "<torch._C.Generator at 0x7b7204099570>"
            ]
          },
          "metadata": {},
          "execution_count": 2
        }
      ]
    },
    {
      "cell_type": "markdown",
      "source": [
        "## 학습 문장 생성"
      ],
      "metadata": {
        "id": "aia0o5EDql4K"
      }
    },
    {
      "cell_type": "code",
      "source": [
        "sentence = (\"if you want to build a ship, don't drum up people together to \"\n",
        "            \"collect wood and don't assign them tasks and work, but rather \"\n",
        "            \"teach them to long for the endless immensity of the sea.\")"
      ],
      "metadata": {
        "id": "lGNY6c26qlNA"
      },
      "execution_count": 3,
      "outputs": []
    },
    {
      "cell_type": "code",
      "source": [
        "sentence"
      ],
      "metadata": {
        "colab": {
          "base_uri": "https://localhost:8080/",
          "height": 35
        },
        "id": "TX4x6YAlqomG",
        "outputId": "a26b7cff-b385-4f44-e511-fb589e12b63a"
      },
      "execution_count": 4,
      "outputs": [
        {
          "output_type": "execute_result",
          "data": {
            "text/plain": [
              "\"if you want to build a ship, don't drum up people together to collect wood and don't assign them tasks and work, but rather teach them to long for the endless immensity of the sea.\""
            ],
            "application/vnd.google.colaboratory.intrinsic+json": {
              "type": "string"
            }
          },
          "metadata": {},
          "execution_count": 4
        }
      ]
    },
    {
      "cell_type": "markdown",
      "source": [
        "* char(알파벳) 단위로 문자들을 생성한다.\n",
        "* 똑같이 vacab을 만들자."
      ],
      "metadata": {
        "id": "uaOx5zwoqwg7"
      }
    },
    {
      "cell_type": "code",
      "source": [
        "# make dictionary\n",
        "char_set = list(set(sentence))\n",
        "char_dic = {c: i for i, c in enumerate(char_set)}"
      ],
      "metadata": {
        "id": "pebKcD-rqqSu"
      },
      "execution_count": 5,
      "outputs": []
    },
    {
      "cell_type": "code",
      "source": [
        "# hyperparameters\n",
        "dic_size = len(char_dic)\n",
        "hidden_size = len(char_dic)\n",
        "sequence_length = 10\n",
        "learning_rate = 0.01"
      ],
      "metadata": {
        "id": "MXd6yMY5rBF7"
      },
      "execution_count": 6,
      "outputs": []
    },
    {
      "cell_type": "markdown",
      "source": [
        "* 텍스트 생성을 위해서 아래와 같은 데이터 구성을 제작한다.\n",
        "* 입력된 시퀀스들이 다음 시퀀스들로 연결한다.\n",
        "* 문장을 일정 길이로 잘라서 한칸씩 미루는 구현을 한다.\n",
        "\n",
        "```\n",
        "0 if you wan -> f you want\n",
        "1 f you want ->  you want\n",
        "```"
      ],
      "metadata": {
        "id": "-5Bx901irSSY"
      }
    },
    {
      "cell_type": "code",
      "source": [
        "# data setting\n",
        "x_data = []\n",
        "y_data = []\n",
        "\n",
        "for i in range(0, len(sentence) - sequence_length):\n",
        "   x_str = sentence[i:i+sequence_length]\n",
        "   y_str = sentence[i+1:i+sequence_length+1]\n",
        "   print(i, x_str, '->', y_str)\n",
        "\n",
        "   x_data.append([char_dic[c] for c in x_str])\n",
        "   y_data.append([char_dic[c] for c in y_str])\n",
        "\n",
        "x_one_hot = [np.eye(dic_size)[x] for x in x_data] # 주어진 크기의 단위행렬을 생성하는 np 함수이며, 단위행렬은 주 대각선이 모두 1이고, 나머지 원소는 0인 정사각 행렬이다."
      ],
      "metadata": {
        "colab": {
          "base_uri": "https://localhost:8080/"
        },
        "id": "Xzob4oYhrEGu",
        "outputId": "d759949a-e216-44af-f0b4-eee3bb7fe193"
      },
      "execution_count": 7,
      "outputs": [
        {
          "output_type": "stream",
          "name": "stdout",
          "text": [
            "0 if you wan -> f you want\n",
            "1 f you want ->  you want \n",
            "2  you want  -> you want t\n",
            "3 you want t -> ou want to\n",
            "4 ou want to -> u want to \n",
            "5 u want to  ->  want to b\n",
            "6  want to b -> want to bu\n",
            "7 want to bu -> ant to bui\n",
            "8 ant to bui -> nt to buil\n",
            "9 nt to buil -> t to build\n",
            "10 t to build ->  to build \n",
            "11  to build  -> to build a\n",
            "12 to build a -> o build a \n",
            "13 o build a  ->  build a s\n",
            "14  build a s -> build a sh\n",
            "15 build a sh -> uild a shi\n",
            "16 uild a shi -> ild a ship\n",
            "17 ild a ship -> ld a ship,\n",
            "18 ld a ship, -> d a ship, \n",
            "19 d a ship,  ->  a ship, d\n",
            "20  a ship, d -> a ship, do\n",
            "21 a ship, do ->  ship, don\n",
            "22  ship, don -> ship, don'\n",
            "23 ship, don' -> hip, don't\n",
            "24 hip, don't -> ip, don't \n",
            "25 ip, don't  -> p, don't d\n",
            "26 p, don't d -> , don't dr\n",
            "27 , don't dr ->  don't dru\n",
            "28  don't dru -> don't drum\n",
            "29 don't drum -> on't drum \n",
            "30 on't drum  -> n't drum u\n",
            "31 n't drum u -> 't drum up\n",
            "32 't drum up -> t drum up \n",
            "33 t drum up  ->  drum up p\n",
            "34  drum up p -> drum up pe\n",
            "35 drum up pe -> rum up peo\n",
            "36 rum up peo -> um up peop\n",
            "37 um up peop -> m up peopl\n",
            "38 m up peopl ->  up people\n",
            "39  up people -> up people \n",
            "40 up people  -> p people t\n",
            "41 p people t ->  people to\n",
            "42  people to -> people tog\n",
            "43 people tog -> eople toge\n",
            "44 eople toge -> ople toget\n",
            "45 ople toget -> ple togeth\n",
            "46 ple togeth -> le togethe\n",
            "47 le togethe -> e together\n",
            "48 e together ->  together \n",
            "49  together  -> together t\n",
            "50 together t -> ogether to\n",
            "51 ogether to -> gether to \n",
            "52 gether to  -> ether to c\n",
            "53 ether to c -> ther to co\n",
            "54 ther to co -> her to col\n",
            "55 her to col -> er to coll\n",
            "56 er to coll -> r to colle\n",
            "57 r to colle ->  to collec\n",
            "58  to collec -> to collect\n",
            "59 to collect -> o collect \n",
            "60 o collect  ->  collect w\n",
            "61  collect w -> collect wo\n",
            "62 collect wo -> ollect woo\n",
            "63 ollect woo -> llect wood\n",
            "64 llect wood -> lect wood \n",
            "65 lect wood  -> ect wood a\n",
            "66 ect wood a -> ct wood an\n",
            "67 ct wood an -> t wood and\n",
            "68 t wood and ->  wood and \n",
            "69  wood and  -> wood and d\n",
            "70 wood and d -> ood and do\n",
            "71 ood and do -> od and don\n",
            "72 od and don -> d and don'\n",
            "73 d and don' ->  and don't\n",
            "74  and don't -> and don't \n",
            "75 and don't  -> nd don't a\n",
            "76 nd don't a -> d don't as\n",
            "77 d don't as ->  don't ass\n",
            "78  don't ass -> don't assi\n",
            "79 don't assi -> on't assig\n",
            "80 on't assig -> n't assign\n",
            "81 n't assign -> 't assign \n",
            "82 't assign  -> t assign t\n",
            "83 t assign t ->  assign th\n",
            "84  assign th -> assign the\n",
            "85 assign the -> ssign them\n",
            "86 ssign them -> sign them \n",
            "87 sign them  -> ign them t\n",
            "88 ign them t -> gn them ta\n",
            "89 gn them ta -> n them tas\n",
            "90 n them tas ->  them task\n",
            "91  them task -> them tasks\n",
            "92 them tasks -> hem tasks \n",
            "93 hem tasks  -> em tasks a\n",
            "94 em tasks a -> m tasks an\n",
            "95 m tasks an ->  tasks and\n",
            "96  tasks and -> tasks and \n",
            "97 tasks and  -> asks and w\n",
            "98 asks and w -> sks and wo\n",
            "99 sks and wo -> ks and wor\n",
            "100 ks and wor -> s and work\n",
            "101 s and work ->  and work,\n",
            "102  and work, -> and work, \n",
            "103 and work,  -> nd work, b\n",
            "104 nd work, b -> d work, bu\n",
            "105 d work, bu ->  work, but\n",
            "106  work, but -> work, but \n",
            "107 work, but  -> ork, but r\n",
            "108 ork, but r -> rk, but ra\n",
            "109 rk, but ra -> k, but rat\n",
            "110 k, but rat -> , but rath\n",
            "111 , but rath ->  but rathe\n",
            "112  but rathe -> but rather\n",
            "113 but rather -> ut rather \n",
            "114 ut rather  -> t rather t\n",
            "115 t rather t ->  rather te\n",
            "116  rather te -> rather tea\n",
            "117 rather tea -> ather teac\n",
            "118 ather teac -> ther teach\n",
            "119 ther teach -> her teach \n",
            "120 her teach  -> er teach t\n",
            "121 er teach t -> r teach th\n",
            "122 r teach th ->  teach the\n",
            "123  teach the -> teach them\n",
            "124 teach them -> each them \n",
            "125 each them  -> ach them t\n",
            "126 ach them t -> ch them to\n",
            "127 ch them to -> h them to \n",
            "128 h them to  ->  them to l\n",
            "129  them to l -> them to lo\n",
            "130 them to lo -> hem to lon\n",
            "131 hem to lon -> em to long\n",
            "132 em to long -> m to long \n",
            "133 m to long  ->  to long f\n",
            "134  to long f -> to long fo\n",
            "135 to long fo -> o long for\n",
            "136 o long for ->  long for \n",
            "137  long for  -> long for t\n",
            "138 long for t -> ong for th\n",
            "139 ong for th -> ng for the\n",
            "140 ng for the -> g for the \n",
            "141 g for the  ->  for the e\n",
            "142  for the e -> for the en\n",
            "143 for the en -> or the end\n",
            "144 or the end -> r the endl\n",
            "145 r the endl ->  the endle\n",
            "146  the endle -> the endles\n",
            "147 the endles -> he endless\n",
            "148 he endless -> e endless \n",
            "149 e endless  ->  endless i\n",
            "150  endless i -> endless im\n",
            "151 endless im -> ndless imm\n",
            "152 ndless imm -> dless imme\n",
            "153 dless imme -> less immen\n",
            "154 less immen -> ess immens\n",
            "155 ess immens -> ss immensi\n",
            "156 ss immensi -> s immensit\n",
            "157 s immensit ->  immensity\n",
            "158  immensity -> immensity \n",
            "159 immensity  -> mmensity o\n",
            "160 mmensity o -> mensity of\n",
            "161 mensity of -> ensity of \n",
            "162 ensity of  -> nsity of t\n",
            "163 nsity of t -> sity of th\n",
            "164 sity of th -> ity of the\n",
            "165 ity of the -> ty of the \n",
            "166 ty of the  -> y of the s\n",
            "167 y of the s ->  of the se\n",
            "168  of the se -> of the sea\n",
            "169 of the sea -> f the sea.\n"
          ]
        }
      ]
    },
    {
      "cell_type": "code",
      "source": [
        "x_data[0]"
      ],
      "metadata": {
        "colab": {
          "base_uri": "https://localhost:8080/"
        },
        "id": "HQitWoASsQTq",
        "outputId": "a08fec51-c3d3-40b6-b452-7c89df517b11"
      },
      "execution_count": 8,
      "outputs": [
        {
          "output_type": "execute_result",
          "data": {
            "text/plain": [
              "[4, 5, 13, 1, 3, 17, 13, 8, 16, 20]"
            ]
          },
          "metadata": {},
          "execution_count": 8
        }
      ]
    },
    {
      "cell_type": "code",
      "source": [
        "x_one_hot[0]"
      ],
      "metadata": {
        "colab": {
          "base_uri": "https://localhost:8080/"
        },
        "id": "Tg1LyHxnt1Ih",
        "outputId": "78194aa4-4b57-4484-cfea-413cc9f1137d"
      },
      "execution_count": 9,
      "outputs": [
        {
          "output_type": "execute_result",
          "data": {
            "text/plain": [
              "array([[0., 0., 0., 0., 1., 0., 0., 0., 0., 0., 0., 0., 0., 0., 0., 0.,\n",
              "        0., 0., 0., 0., 0., 0., 0., 0., 0.],\n",
              "       [0., 0., 0., 0., 0., 1., 0., 0., 0., 0., 0., 0., 0., 0., 0., 0.,\n",
              "        0., 0., 0., 0., 0., 0., 0., 0., 0.],\n",
              "       [0., 0., 0., 0., 0., 0., 0., 0., 0., 0., 0., 0., 0., 1., 0., 0.,\n",
              "        0., 0., 0., 0., 0., 0., 0., 0., 0.],\n",
              "       [0., 1., 0., 0., 0., 0., 0., 0., 0., 0., 0., 0., 0., 0., 0., 0.,\n",
              "        0., 0., 0., 0., 0., 0., 0., 0., 0.],\n",
              "       [0., 0., 0., 1., 0., 0., 0., 0., 0., 0., 0., 0., 0., 0., 0., 0.,\n",
              "        0., 0., 0., 0., 0., 0., 0., 0., 0.],\n",
              "       [0., 0., 0., 0., 0., 0., 0., 0., 0., 0., 0., 0., 0., 0., 0., 0.,\n",
              "        0., 1., 0., 0., 0., 0., 0., 0., 0.],\n",
              "       [0., 0., 0., 0., 0., 0., 0., 0., 0., 0., 0., 0., 0., 1., 0., 0.,\n",
              "        0., 0., 0., 0., 0., 0., 0., 0., 0.],\n",
              "       [0., 0., 0., 0., 0., 0., 0., 0., 1., 0., 0., 0., 0., 0., 0., 0.,\n",
              "        0., 0., 0., 0., 0., 0., 0., 0., 0.],\n",
              "       [0., 0., 0., 0., 0., 0., 0., 0., 0., 0., 0., 0., 0., 0., 0., 0.,\n",
              "        1., 0., 0., 0., 0., 0., 0., 0., 0.],\n",
              "       [0., 0., 0., 0., 0., 0., 0., 0., 0., 0., 0., 0., 0., 0., 0., 0.,\n",
              "        0., 0., 0., 0., 1., 0., 0., 0., 0.]])"
            ]
          },
          "metadata": {},
          "execution_count": 9
        }
      ]
    },
    {
      "cell_type": "markdown",
      "source": [
        "## Data Embedding\n",
        "* one hot 형태로 전처리 된 데이터를 임베딩한다.\n",
        "* torch에서 학습하기 위해서 torch tensor로 변경한다."
      ],
      "metadata": {
        "id": "DicBvHGIt8D0"
      }
    },
    {
      "cell_type": "code",
      "source": [
        "# transform as torch tensro variable\n",
        "X = torch.FloatTensor(x_one_hot)\n",
        "Y = torch.LongTensor(y_data)"
      ],
      "metadata": {
        "colab": {
          "base_uri": "https://localhost:8080/"
        },
        "id": "UMH3WcHIt3kg",
        "outputId": "434a6e53-a28e-46c4-fd24-f236d4173ad8"
      },
      "execution_count": 10,
      "outputs": [
        {
          "output_type": "stream",
          "name": "stderr",
          "text": [
            "<ipython-input-10-3df5115ff887>:2: UserWarning: Creating a tensor from a list of numpy.ndarrays is extremely slow. Please consider converting the list to a single numpy.ndarray with numpy.array() before converting to a tensor. (Triggered internally at ../torch/csrc/utils/tensor_new.cpp:261.)\n",
            "  X = torch.FloatTensor(x_one_hot)\n"
          ]
        }
      ]
    },
    {
      "cell_type": "code",
      "source": [
        "# declare RNN + FC\n",
        "class Net(torch.nn.Module):\n",
        "    def __init__(self, input_dim, hidden_dim, layers):\n",
        "        super(Net, self).__init__()\n",
        "        self.rnn = torch.nn.RNN(input_dim, hidden_dim, num_layers=layers, batch_first=True)\n",
        "        self.fc = torch.nn.Linear(dic_size, hidden_dim, bias=True) ## ??? hidden dim이 두 번 들어간 이\n",
        "    def forward(self, x):\n",
        "        x, _hidden = self.rnn(x)\n",
        "        x = self.fc(x)\n",
        "        return(x)"
      ],
      "metadata": {
        "id": "T9nAmsOJuKdJ"
      },
      "execution_count": 11,
      "outputs": []
    },
    {
      "cell_type": "code",
      "source": [
        "net = Net(dic_size, hidden_size, 2)"
      ],
      "metadata": {
        "id": "rhF2bsCauruP"
      },
      "execution_count": 12,
      "outputs": []
    },
    {
      "cell_type": "markdown",
      "source": [
        "## 모델 학습 파트\n",
        "* 단어를 예측하는 파트는 '다중분류'이다.\n",
        "* 모델의 마지막 Activation이 없는 상태로 Loss 값으로 전달된다."
      ],
      "metadata": {
        "id": "gpNCxWhYvTiM"
      }
    },
    {
      "cell_type": "code",
      "source": [
        "# loss&optimizer setting\n",
        "criterion = torch.nn.CrossEntropyLoss()\n",
        "optimizer = optim.Adam(net.parameters(), lr=learning_rate)"
      ],
      "metadata": {
        "id": "FnUi0qXMu4Km"
      },
      "execution_count": 13,
      "outputs": []
    },
    {
      "cell_type": "markdown",
      "source": [
        "## 테스트를 위해서 위에 구성한 169개의 데이터가 하나의 배치로 들어간다."
      ],
      "metadata": {
        "id": "s206IsoPvkHo"
      }
    },
    {
      "cell_type": "code",
      "source": [
        "# start training\n",
        "for i in range(100):\n",
        "    optimizer.zero_grad()\n",
        "    outputs = net(X)\n",
        "    loss = criterion(outputs.view(-1, dic_size), Y.view(-1))\n",
        "    loss.backward()\n",
        "    optimizer.step()\n",
        "\n",
        "    results = outputs.argmax(dim=2) # 최대값을 가지는 원소의 인덱스를 반환한다.\n",
        "    predict_str = \"i\" # 최초 문자열을 준 후 학습을 시장하면 더 정확한 예측이 가능하다.\n",
        "    for j, result in enumerate(results):\n",
        "        if j == 0:\n",
        "            predict_str += ''.join([char_set[t] for t in result]) # result리스트에 있는 각 예측 토큰을 'char_set'을 사용하여 해당 문자열로 변환하고, 이를 predict_str에 추가한다.\n",
        "        else:\n",
        "            predict_str += char_set[result[-1]]\n",
        "    print(predict_str)"
      ],
      "metadata": {
        "colab": {
          "base_uri": "https://localhost:8080/"
        },
        "id": "qSX3CH3kvivp",
        "outputId": "fa64f173-490c-4c83-d794-5182ba8ddb4c"
      },
      "execution_count": 14,
      "outputs": [
        {
          "output_type": "stream",
          "name": "stdout",
          "text": [
            "io   .p .p.o k. c.    p .pk  ....pp  p..  .  ..p.p k.pgkpp. .. ..ppppk  ...pp.   ..pp ppp  . k.p. k.p p p.   . .. .p.  .o.p k..p..k..p. k. ..pp k.p ..p k. p pp k p .p    .p k.p p p\n",
            "i                                                                                                                                                                                   \n",
            "i                                                                                                                                                                                   \n",
            "i                                                                                                                                                                                   \n",
            "i                                                                                                                                                                                   \n",
            "i                                                                                                                                                                                   \n",
            "i                                                                                                                                                                                   \n",
            "i                                                                                                                                                                                   \n",
            "i                                                                                                                                                                                   \n",
            "i                                                                                                                                                                                   \n",
            "i                                                       e                                     e                          e          e                e                        e     \n",
            "i                        e                              e                                     e                e     e   e          e              e e     e                  e     \n",
            "i                      e e   e     e            e       e             e              e        e          e     e e e e   e          e              e e     e   e              e     \n",
            "i                      e e   e     e            e       e             e              e e e    e        e e e   e e e e e e          e              e e   e e   e              e     \n",
            "i                    e e e   e     e            e       e             e            e e e e    e        e e e   e e e e e e      e   e              e e   e e e e              e     \n",
            "i                  e e e e   e   e e    t       e       e  t          e        t   e e e e    e        e e t   e e e e e e      e   e      e       e e   e e e e              e     \n",
            "i  t        t      e t t e   e     t    t       e t     e  t      e   e      t t     t e e    e  t e e t e t   e t t e e e  t   t   e  t   e       e e   e e   e            t e     \n",
            "i  t      t t    t e t t e   t     t  t t       e t     e  t      e   t      t t     t t e  t e  t e e t t t   e t t e e e  t   t   e  t   e       e e   e e   e            t e     \n",
            "i  t   t  t t    t e t t e   t   e t  t t       e t     e  t  t   e   t    t t t  t  t t e  t e  t e e t t t   e t t t t e  t   t   e  t   e       t e     e   t      e  t  t e     \n",
            "i  t   t  t t  t t e t t e   t  te t  t t       e t     e  t  t  te   t    t t t  te t t e  t e  t e e t t t   e tot t t e  t t t t e  t  te t     t e   t e   t      e  t  t e     \n",
            "i  t  tt  t t  tot t t t e   t  te t  t to t    e to    e  t  to te   to   t t t  te tot e  t e  t ete tot to  t tot t t e  t t t t e  t  te t  o  t e   t e t to     e  t  t e     \n",
            "i  to tt  t to lot t tot e   t  te to t to t   le to    er to to te   to   tot t  te tot e  t er toese tot to  t tot t t e  tot t toe  to le t  o  t e   t t t to  t  e  a  t e t   \n",
            "i  to tto t to lot t tot e   to le to t to to  le to    er to lo te   to   tot to le tot t  t er to ie tot to  t tot tot e  tot t toe  to le t to  t e   t t t to  t  e  a  toe t t \n",
            "i  to  to t to lot t tot e   to le to t to le  le to    er to lo te   to   tot to le tot t  t er to le tot to  t tot tot er to  t toem to le t to  toe t t t t to  t  t  a  toe t t \n",
            "i  to  to t to lot t tot em  to le to t to le  le to    er to lo te   to   tot to le tos t  t er to le tot to  t tot tot er to  t toem to le t to  toert t t t to  t  t  a  toemt t \n",
            "i  to  tont to lot t tot em  to le to t to le  le to l  er to lo te   to   tot to lt tos t  toer toele tot to  t tot tot er to  t toem to le t lo  toert t tot to  t  t  a  themt en\n",
            "it to  tond to lot t tot em  to le to t to le  le to l  er to lo te   to   tos to lt tos t  toer toeie tot to  t tot tot er tot l toem to le t lor toert t tot to  t  t  an thert es\n",
            "it to  tond to lot t tot e   to lt ao t to le  le to l  er toslo te t to   tos to lt aos t  toer toeie tos to  t tot tor er toesl toem to le l lor thert t tos to  t  to an thert es\n",
            "it to  tond to lot t tot e   to lt ao t to le  le to l  er toelo te t to   tos tonlt aos t  toer toeie tos ton t tot torher toesl toem to le l lor thert t tos to  t  to an thert es\n",
            "it tor tond to lot t tothe   to lt ao t to le  le to l  er toelo te t to   tos ton't aos i  toer toeie tod ton t tot torher toesl toem to le l lor thert t tns to  t  to an thert es\n",
            "it tor tond to lot t tothe i to lt ao t to le  le to    er toelo le t to   tos ton't aos i  toer toeie tod ton t tot torher toesl them to le l lor thert t tnt to  t  to an thert es\n",
            "it tor tond to los t tothe i ton't ao t to le  le to   her thelo le t to l tos ton't aos i  toem theie tod ton t tot torher thesl them to le l tor themt e t t to  r  to an themt es\n",
            "it tor tond to los t tothect ton't ao t to tn  le to   her thelo le t to l tos ton't aos i  toem theie tnd tonlt tot torher thest them to le ' tor themtos e t to  rs go an themt es\n",
            "it tor tond to lus t totheci ton't ao t to tn sle to  nher th lo le t to l aos ton't aos i  toem toeie tnd tonlt tot torher thenh them to le ' tor themtos e t to  rs go an themt es\n",
            "it tor tond to lus t tntheci ton't ao t to tn sle to  ther th lo le t tond aos ton't aos i  toem toeie tnd tonlt tot torher thenh them to be ' tor themtosle t to  rsigh an themt ei\n",
            "itntor tand to lus t tntheci ton't ao t to tn sle to  ther th lo le t tond and ton't ans i  toem toeie and tondt tot tother toesh them to be ' tor themtosle t to  rsigh an themt ei\n",
            "itntor tand to lus t antheci ton't ao m to tn sle to  ther to lo le t tond and ton't ans i  toem tosie and tondt tot aother toesh them to le ' tor themt sle t to  rsigh an themt ei\n",
            "itutor tand to luslt antheci ton't ao m to tnosle to  ther to lo le t tond ans aon't ansiin toem tosie and tondt tnt aother toesh them to le ' tor themt sle s ton nsigh an themt ei\n",
            "itutor tand to luslt antheci ton't aoum th t osle to  ther to lo le t aond ans aon't ansiin toem tosie and tondt tnt aother toesh them to le ' tor themt sle s ton nsigh an themt ei\n",
            "itutor tand wo luslt antheci don't aoum th teosle th  ther to lo le t aond and aon't ansiin toem toske and tondt ant aother toesh them to le ' tor the tndle s ton nsigh an the t ei\n",
            "itutor tand wo luslt antheci don't aoum tp teosle th  ther to lo le t wond and won't ansiin toem toske and tondt ant aother toesh them to le ' tor the tndle s ionensigh rn the t ei\n",
            "ituton tand wo luslt antheci don't aoum tp teosle th  ther to lo le t wond and won't ansiin toem toske and tondt ant aother toesh them to le ' wor the tndle s ionensiih rn the t ei\n",
            "ituton tand wo luslt antheci don't aoum tp teosle th  ther to lo lect wond and won't ansiin them toske and tondt ant aother toesh them to le ' wor the tndle s imnensiih rn the t di\n",
            "ituton tand wo luilt a theci don't aoum tp teosle th  ther to lo lect wood and won't ansiin them toske and wondt dnt aother toesh them to lo ' wor the tndlens imrensiih rn the t di\n",
            "ituton tand to luilt a thepi don't aoum tp peosle to  ther to lo lect wood and won't arsiin them toske and wordt dut aother toesh them to lo ' wor the tndlens imrensiih rn the t di\n",
            "ituton tand to luilt a thepi don't aoum tp peosle to  ther to lo lept wood and won't arsiin them toske and wordt dut aother toesh them to lo ' wor the tndlens imrensiih on the tndi\n",
            "ituton tond to luilt a thep, don't aoum tp peosle to  ther to lo lept wood and ton't arsiin them toske and wordt dut aother toesh them to lo ' wor the tndlens immensiih on the tnei\n",
            "ituton tond to luilt t thep, don't aoum tp peosle to  ther to bo lept wood and ton't arsiin them toske and workt dut aother toesh them to lo ' wor the tndle s immensith on the t ei\n",
            "ituton tond to luilt t thep, don't aoum tp peosle to  ther to bo lect wood and ton't arsiin them toske and workt dut aother toesh them to lo ' wor the tndle s immensith on the t ep\n",
            "ituton tond to luilt a thep, don't doum dp peosle tog ther to bo lect wood and won't drsiin them toske and work, dut aother toemh them to lo g wor the tndle s immensity on the t ep\n",
            "ituton tond to luild a thep, don't doum dp peosle tog ther to bo lect wood and won't dnsiin them toske and work, dut dother toamh them to lo g for the tndle s immensity on the t ep\n",
            "ituton tond to luild a thep, don't doum tp peosle tog ther to co lect wood and won't dnsiin them toski and work, but dother toech them to lo g for the tndle s immensity of the tpep\n",
            "ituaon tond to build a shep, don't doum tp peo le together to co lect wood and won't dnsiin them toski and work, but dother toach them to lo g for the tndless immensity of the tpep\n",
            "ituaon tond to build a ship, don't doum tp peo le together to co lect wood and won't dnsiin them tosks and work, but dother toach them to lo g for the tndless immensity of the tpap\n",
            "ituaon wond to build a ship, don't doum up peo le together to co lect wood and won't dssiin them tosks and work, but dother toach them to lo g for the tndless immensity of the tpap\n",
            "ituaon wond to build a ship, don't doum up peo le together to co lect wood and don't dssiin them tosks and work, but dother toach them to co g for the tndless immensity of the tpap\n",
            "ituaon wond to build a ship, don't drum up peo le together to collect wood and don't dssiin them tosks and work, but dother toach them to co g for the tndless immensity of the tpap\n",
            "ituaon wond to build a ship, don't drum up peo le together to collect wood and don't dssiin them tosks and work, but rather toach them to cong for the tndless immensity of the tpap\n",
            "ituaon wond to build a ship, don't drum up peo le together to collect wood and don't dssiin them tosks and work, but rather toach them to cong for the tndless immensity of the tsap\n",
            "ituaon wond to build a ship, don't drum up peo le together to collect wood and don't dssiin them tosks and work, but rather toach them to cong for the tndless immensity of the tsap\n",
            "ituaon wond to build a ship, don't drum up peo le together to collect wood and don't dssiin them tosks and work, but rather toach them to long for the tndless immensity of the tsap\n",
            "ituaon wond to build a ship, don't drum up peo le together to collect wood and don't dssign them tosks and work, but rather toach them to long for the tndless immensity of the tsap\n",
            "ituaon wond to build a ship, don't drum up peo le together to collect wood and don't dssign them tosks and work, but rather toach them to long for the tndless immensity of the tsap\n",
            "ituaon wont to build a ship, don't drum up people together to collect wood and don't dssign them tosks and work, but rather toach them to long for the tndless immensity of the esap\n",
            "ituaou wont to build a ship, don't drum up people together to collect wood and don't dssign them tosks and work, but rather toach them to long for the endless immensity of the e ap\n",
            "ituaou wont to build a ship, don't drum up people together to collect wood and don't dssign them tosks and work, but rather toach them to long for the endless immensity of the e ap\n",
            "ituaou wont to build a ship, don't drum up people together to collect wood and don't dssign them tosks and work, but rather toach them to long for the endless immensity of the e ap\n",
            "ituaou wont to build a ship, don't drum up people together to collect wood and don't dssign them tosks and work, but rather toach them to long for the endless immensity of the e ap\n",
            "ituaou wont to build a ship, don't drum up people together to collect wood and don't assign them tosks and work, but rather toach them to long for the endless immensity of the eeap\n",
            "ituaou want to build a ship, don't drum up people together to collect wood and don't assign them tosks and work, but rather toach them to long for the endless immensity of the eeap\n",
            "ituaou want to build a ship, don't drum up people together to collect wood and don't assign them tosks and work, but rather toach them to long for the endless immensity of the eeap\n",
            "ituaou want to build a ship, don't drum up people together to collect wood and don't assign them tosks and work, but rather toach them to long for the endless immensity of the eeap\n",
            "ituaou want to build a ship, don't drum up people together to collect wood and don't assign them tosks and work, but rather toach them to long for the endless immensity of the eeap\n",
            "ituaou want to build a ship, don't drum up people together to collect wood and don't assign them tosks and work, but rather toach them to long for the endless immensity of the eeap\n",
            "ituaou want to build a ship, don't drum up people together to collect wood and don't assign them tosks and work, but rather teach them to long for the endless immensity of the eeap\n",
            "ituaou want to build a ship, don't drum up people together to collect wood and don't assign them tosks and work, but rather teach them to long for the endless immensity of the eeap\n",
            "ituaou want to build a ship, don't drum up people together to collect wood and don't assign them tosks and work, but rather teach them to long for the endless immensity of the eeap\n",
            "ituaou want to build a ship, don't drum up people together to collect wood and don't assign them tosks and work, but rather teach them to long for the endless immensity of the eeap\n",
            "ituaou want to build a ship, don't drum up people together to collect wood and don't assign them tosks and work, but rather teach them to long for the endless immensity of the eeap\n",
            "itsaou want to build a ship, don't drum up people together to collect wood and don't assign them tosks and work, but rather teach them to long for the endless immensity of the eeap\n",
            "itsaou want to build a ship, don't drum up people together to collect wood and don't assign them tosks and work, but rather teach them to long for the endless immensity of the eeap\n",
            "itsaou want to build a ship, don't drum up people together to collect wood and don't assign them tosks and work, but rather teach them to long for the endless immensity of the eeap\n",
            "itsaou want to build a ship, don't drum up people together to collect wood and don't assign them tosks and work, but rather teach them to long for the endless immensity of the eeap\n",
            "itsaou want to build a ship, don't drum up people together to collect wood and don't assign them tosks and work, but rather teach them to long for the endless immensity of the eeap\n",
            "itsaou want to build a ship, don't drum up people together to collect wood and don't assign them tosks and work, but rather teach them to long for the endless immensity of the eeap\n",
            "itsaou want to build a ship, don't drum up people together to collect wood and don't assign them tosks and work, but rather teach them to long for the endless immensity of the eeap\n",
            "itsaou want to build a ship, don't drum up people together to collect wood and don't assign them tosks and work, but rather teach them to long for the endless immensity of the eeap\n",
            "itsaou want to build a ship, don't drum up people together to collect wood and don't assign them tosks and work, but rather teach them to long for the endless immensity of the eeap\n",
            "itsaou want to build a ship, don't drum up people together to collect wood and don't assign them tosks and work, but rather teach them to long for the endless immensity of the eeap\n",
            "itsaou want to build a ship, don't drum up people together to collect wood and don't assign them tosks and work, but rather teach them to long for the endless immensity of the eeap\n",
            "itsaou want to build a ship, don't drum up people together to collect wood and don't assign them tasks and work, but rather teach them to long for the endless immensity of the eeac\n",
            "ipsaou want to build a ship, don't drum up people together to collect wood and don't assign them tasks and work, but rather teach them to long for the endless immensity of the eeac\n",
            "ipsaou want to build a ship, don't drum up people together to collect wood and don't assign them tasks and work, but rather teach them to long for the endless immensity of the eeac\n",
            "ipnaou want to build a ship, don't drum up people together to collect wood and don't assign them tasks and work, but rather teach them to long for the endless immensity of the eeac\n",
            "ipnaou want to build a ship, don't drum up people together to collect wood and don't assign them tasks and work, but rather teach them to long for the endless immensity of the eeac\n",
            "ipnaou want to build a ship, don't drum up people together to collect wood and don't assign them tasks and work, but rather teach them to long for the endless immensity of the eeac\n",
            "ipnaou want to build a ship, don't drum up people together to collect wood and don't assign them tasks and work, but rather teach them to long for the endless immensity of the eeap\n",
            "ipnaou want to build a ship, don't drum up people together to collect wood and don't assign them tasks and work, but rather teach them to long for the endless immensity of the seap\n",
            "ipnaou want to build a ship, don't drum up people together to collect wood and don't assign them tasks and work, but rather teach them to long for the endless immensity of the seap\n",
            "ipnyou want to build a ship, don't drum up people together to collect wood and don't assign them tasks and work, but rather teach them to long for the endless immensity of the seap\n"
          ]
        }
      ]
    },
    {
      "cell_type": "code",
      "source": [],
      "metadata": {
        "id": "0PUcYGObwTnd"
      },
      "execution_count": 14,
      "outputs": []
    }
  ]
}