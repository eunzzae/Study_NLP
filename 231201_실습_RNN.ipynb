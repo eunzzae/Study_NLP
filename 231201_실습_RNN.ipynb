{
  "nbformat": 4,
  "nbformat_minor": 0,
  "metadata": {
    "colab": {
      "provenance": [],
      "authorship_tag": "ABX9TyO7ltswXuvyWkHWol5UdLOJ",
      "include_colab_link": true
    },
    "kernelspec": {
      "name": "python3",
      "display_name": "Python 3"
    },
    "language_info": {
      "name": "python"
    }
  },
  "cells": [
    {
      "cell_type": "markdown",
      "metadata": {
        "id": "view-in-github",
        "colab_type": "text"
      },
      "source": [
        "<a href=\"https://colab.research.google.com/github/eunzzae/Study_NLP/blob/main/231201_%EC%8B%A4%EC%8A%B5_RNN.ipynb\" target=\"_parent\"><img src=\"https://colab.research.google.com/assets/colab-badge.svg\" alt=\"Open In Colab\"/></a>"
      ]
    },
    {
      "cell_type": "markdown",
      "source": [
        "# RNN"
      ],
      "metadata": {
        "id": "qUzNORY9o6zU"
      }
    },
    {
      "cell_type": "code",
      "execution_count": 2,
      "metadata": {
        "id": "8Bq86ZtonhpJ"
      },
      "outputs": [],
      "source": [
        "import torch\n",
        "import numpy as np"
      ]
    },
    {
      "cell_type": "code",
      "source": [
        "# Random seed to make results deterministic and reproducible\n",
        "# 재현성(reproducibility)를 위해 사용되며, 동일한 결과를 얻기위해 시드 설정 필요함.\n",
        "torch.manual_seed(0)"
      ],
      "metadata": {
        "colab": {
          "base_uri": "https://localhost:8080/"
        },
        "id": "0JrbDaNUpA7Q",
        "outputId": "16583cc6-b48f-4e29-8cbe-778a91886ece"
      },
      "execution_count": 3,
      "outputs": [
        {
          "output_type": "execute_result",
          "data": {
            "text/plain": [
              "<torch._C.Generator at 0x7b16bfff9350>"
            ]
          },
          "metadata": {},
          "execution_count": 3
        }
      ]
    },
    {
      "cell_type": "markdown",
      "source": [
        "## RNN layer의 Hyperparameter\n",
        "* input_size : RNN 레이어로 들어오는 입력 데이터의 feature의 수를 나타낸다. 각 시간 단계에서 입력 벡터의 크기를 의미한다. 예를 들어 단어를 임베딩하는 경우 임베딩 벡터의 크기가 input_size가 된다.\n",
        "* hidden_size : RNN 레이어의 숨겨진 상태(hidden state)의 크기를 정의한다. RNN이 내부적ㅇ로 유지하는 메모리의 크기를 나타내며, 네트워크의 용량(capacity)과 복잡성(complexity)을 결정한다. hidden_size는 각 시간 단계에서 RNN의 출력 벡터의 크기를 결정한다."
      ],
      "metadata": {
        "id": "QFZoakkkpcyw"
      }
    },
    {
      "cell_type": "code",
      "source": [
        "# declare dimension\n",
        "input_size = 4\n",
        "hidden_size = 8"
      ],
      "metadata": {
        "id": "6Ef7QZBMpHGz"
      },
      "execution_count": 4,
      "outputs": []
    },
    {
      "cell_type": "markdown",
      "source": [
        "## 데이터 셋을 구성\n",
        "* one-hot vector를 이용해서 글자들을 벡터화 한다."
      ],
      "metadata": {
        "id": "MAtxeDP1p5yi"
      }
    },
    {
      "cell_type": "code",
      "source": [
        "# singleton example\n",
        "# shape : (1,1,4)\n",
        "# input_data_np = np.array([[1,0,0,0]])\n",
        "\n",
        "# sequential example\n",
        "# shape : (3,5,4)\n",
        "h = [1,0,0,0]\n",
        "e = [0,1,0,0]\n",
        "l = [0,0,1,0]\n",
        "o = [0,0,0,1]\n",
        "input_data_np = np.array([[h,e,l,l,o], [o,l,l,e,h],[l,l,e,e,l]], dtype=np.float32)"
      ],
      "metadata": {
        "id": "BALX-WTipcLx"
      },
      "execution_count": 5,
      "outputs": []
    },
    {
      "cell_type": "code",
      "source": [
        "input_data_np"
      ],
      "metadata": {
        "colab": {
          "base_uri": "https://localhost:8080/"
        },
        "id": "G5BGmu-1qbNG",
        "outputId": "5941621f-9abb-40fa-c175-40671c9b54e9"
      },
      "execution_count": 6,
      "outputs": [
        {
          "output_type": "execute_result",
          "data": {
            "text/plain": [
              "array([[[1., 0., 0., 0.],\n",
              "        [0., 1., 0., 0.],\n",
              "        [0., 0., 1., 0.],\n",
              "        [0., 0., 1., 0.],\n",
              "        [0., 0., 0., 1.]],\n",
              "\n",
              "       [[0., 0., 0., 1.],\n",
              "        [0., 0., 1., 0.],\n",
              "        [0., 0., 1., 0.],\n",
              "        [0., 1., 0., 0.],\n",
              "        [1., 0., 0., 0.]],\n",
              "\n",
              "       [[0., 0., 1., 0.],\n",
              "        [0., 0., 1., 0.],\n",
              "        [0., 1., 0., 0.],\n",
              "        [0., 1., 0., 0.],\n",
              "        [0., 0., 1., 0.]]], dtype=float32)"
            ]
          },
          "metadata": {},
          "execution_count": 6
        }
      ]
    },
    {
      "cell_type": "code",
      "source": [
        "# 데이터의 shape\n",
        "input_data_np.shape"
      ],
      "metadata": {
        "colab": {
          "base_uri": "https://localhost:8080/"
        },
        "id": "wqsNUa5qqf7r",
        "outputId": "4be3908f-5a49-414c-98dd-d83d572f0299"
      },
      "execution_count": 7,
      "outputs": [
        {
          "output_type": "execute_result",
          "data": {
            "text/plain": [
              "(3, 5, 4)"
            ]
          },
          "metadata": {},
          "execution_count": 7
        }
      ]
    },
    {
      "cell_type": "code",
      "source": [
        "# 토치에서 사용하기 위해 변환 필요\n",
        "input_data = torch.Tensor(input_data_np)"
      ],
      "metadata": {
        "id": "qQIFzA4CqvIA"
      },
      "execution_count": 8,
      "outputs": []
    },
    {
      "cell_type": "markdown",
      "source": [
        "## 모델 구현"
      ],
      "metadata": {
        "id": "IG0SaI8kq_Rj"
      }
    },
    {
      "cell_type": "code",
      "source": [
        "# declare RNN\n",
        "rnn = torch.nn.RNN(input_size=input_size, hidden_size=hidden_size)"
      ],
      "metadata": {
        "id": "L-8YcxESq37s"
      },
      "execution_count": 9,
      "outputs": []
    },
    {
      "cell_type": "markdown",
      "source": [
        "## 모델 call\n",
        "* 모델의 출력결과를 확인"
      ],
      "metadata": {
        "id": "HikP8U77rJtD"
      }
    },
    {
      "cell_type": "code",
      "source": [
        "# check output\n",
        "outputs, _hidden = rnn(input_data)\n",
        "print(outputs)\n",
        "print(outputs.size()) # batch, seq, hidden"
      ],
      "metadata": {
        "colab": {
          "base_uri": "https://localhost:8080/"
        },
        "id": "tGFcOVgKrICE",
        "outputId": "ead1d226-46cc-41d6-ef6d-41ca9e7c7ccc"
      },
      "execution_count": 10,
      "outputs": [
        {
          "output_type": "stream",
          "name": "stdout",
          "text": [
            "tensor([[[-0.1615, -0.0684, -0.5179, -0.6718,  0.4243,  0.3967, -0.3416,\n",
            "          -0.1014],\n",
            "         [ 0.0294,  0.1610, -0.4207, -0.6110,  0.4818,  0.5262, -0.2557,\n",
            "           0.0313],\n",
            "         [-0.4229,  0.0606, -0.5709, -0.5525,  0.0733,  0.2151,  0.0212,\n",
            "          -0.0170],\n",
            "         [-0.4229,  0.0606, -0.5709, -0.5525,  0.0733,  0.2151,  0.0212,\n",
            "          -0.0170],\n",
            "         [-0.3973,  0.3346, -0.5452, -0.4327,  0.1578,  0.5049, -0.5559,\n",
            "           0.4022]],\n",
            "\n",
            "        [[-0.0601,  0.2639, -0.7259, -0.0205,  0.3823,  0.0636, -0.4274,\n",
            "           0.4885],\n",
            "         [-0.1513, -0.0610, -0.7351, -0.2362,  0.3506, -0.1910,  0.1731,\n",
            "           0.0632],\n",
            "         [ 0.0105,  0.1325, -0.7052, -0.3710,  0.0212, -0.2232,  0.2113,\n",
            "          -0.2132],\n",
            "         [ 0.4551,  0.2309, -0.5897, -0.4447,  0.4407,  0.1384, -0.0681,\n",
            "          -0.1666],\n",
            "         [ 0.2484, -0.1967, -0.7443, -0.4324,  0.5535, -0.0911, -0.1648,\n",
            "          -0.1634]],\n",
            "\n",
            "        [[-0.3254, -0.1276, -0.7445, -0.2957,  0.1946, -0.0568, -0.0964,\n",
            "          -0.0354],\n",
            "         [-0.2347,  0.0995, -0.6672, -0.3736, -0.0257, -0.0451, -0.0481,\n",
            "          -0.1722],\n",
            "         [ 0.2232,  0.2516, -0.5750, -0.5377,  0.3631,  0.3941, -0.2404,\n",
            "          -0.1992],\n",
            "         [ 0.0920,  0.0530, -0.6203, -0.4065,  0.6308,  0.3959, -0.2810,\n",
            "           0.0806],\n",
            "         [-0.3320,  0.0037, -0.7340, -0.1952,  0.2369, -0.0706, -0.0917,\n",
            "           0.1069]]], grad_fn=<StackBackward0>)\n",
            "torch.Size([3, 5, 8])\n"
          ]
        }
      ]
    },
    {
      "cell_type": "code",
      "source": [
        "print(_hidden)\n",
        "print(_hidden.size()) # 1, seq, hidden"
      ],
      "metadata": {
        "id": "yv2j7YrGrXOx",
        "colab": {
          "base_uri": "https://localhost:8080/"
        },
        "outputId": "92769803-e4a9-4ca0-ba7e-620b89b2a70d"
      },
      "execution_count": 11,
      "outputs": [
        {
          "output_type": "stream",
          "name": "stdout",
          "text": [
            "tensor([[[-0.3254, -0.1276, -0.7445, -0.2957,  0.1946, -0.0568, -0.0964,\n",
            "          -0.0354],\n",
            "         [-0.2347,  0.0995, -0.6672, -0.3736, -0.0257, -0.0451, -0.0481,\n",
            "          -0.1722],\n",
            "         [ 0.2232,  0.2516, -0.5750, -0.5377,  0.3631,  0.3941, -0.2404,\n",
            "          -0.1992],\n",
            "         [ 0.0920,  0.0530, -0.6203, -0.4065,  0.6308,  0.3959, -0.2810,\n",
            "           0.0806],\n",
            "         [-0.3320,  0.0037, -0.7340, -0.1952,  0.2369, -0.0706, -0.0917,\n",
            "           0.1069]]], grad_fn=<StackBackward0>)\n",
            "torch.Size([1, 5, 8])\n"
          ]
        }
      ]
    },
    {
      "cell_type": "code",
      "source": [],
      "metadata": {
        "id": "zBItWV_VR0Vq"
      },
      "execution_count": null,
      "outputs": []
    }
  ]
}