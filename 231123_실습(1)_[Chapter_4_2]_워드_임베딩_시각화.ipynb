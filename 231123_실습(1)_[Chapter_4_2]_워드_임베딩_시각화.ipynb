{
  "nbformat": 4,
  "nbformat_minor": 0,
  "metadata": {
    "colab": {
      "provenance": [],
      "include_colab_link": true
    },
    "kernelspec": {
      "name": "python3",
      "display_name": "Python 3"
    },
    "language_info": {
      "name": "python"
    },
    "accelerator": "GPU",
    "gpuClass": "standard"
  },
  "cells": [
    {
      "cell_type": "markdown",
      "metadata": {
        "id": "view-in-github",
        "colab_type": "text"
      },
      "source": [
        "<a href=\"https://colab.research.google.com/github/eunzzae/Study_NLP/blob/main/231123_%EC%8B%A4%EC%8A%B5(1)_%5BChapter_4_2%5D_%EC%9B%8C%EB%93%9C_%EC%9E%84%EB%B2%A0%EB%94%A9_%EC%8B%9C%EA%B0%81%ED%99%94.ipynb\" target=\"_parent\"><img src=\"https://colab.research.google.com/assets/colab-badge.svg\" alt=\"Open In Colab\"/></a>"
      ]
    },
    {
      "cell_type": "markdown",
      "source": [
        "## 워드 임베딩 시각화"
      ],
      "metadata": {
        "id": "c-0a4xxkjlYK"
      }
    },
    {
      "cell_type": "markdown",
      "source": [
        "## Introduction\n",
        "**Chapter 4. 단어 임베딩 만들기** 강의의 **워드 임베딩 시각화** 실습 강의입니다.\n",
        "\n",
        "이전 실습에서처럼 (1) 단어 임베딩의 대표적인 방법인 Word2Vec을 활용하여 워드 임베딩을 직접 구축해보고, (2) 이번 실습에서는 구축한 워드 임베딩을 2차원으로 시각화하여 임베딩의 품질을 보다 정교하게 측정해보겠습니다."
      ],
      "metadata": {
        "id": "u59Rz4wGjojE"
      }
    },
    {
      "cell_type": "markdown",
      "source": [
        "*이후 실습의 용이성을 위해 한국어 글꼴을 설치합니다!*"
      ],
      "metadata": {
        "id": "BPMoNEJDFWJB"
      }
    },
    {
      "cell_type": "code",
      "source": [
        "!sudo apt-get install -y fonts-nanum\n",
        "!sudo fc-cache -fv\n",
        "!rm ~/.cache/matplotlib -rf"
      ],
      "metadata": {
        "id": "k20X8WFQD8pg",
        "colab": {
          "base_uri": "https://localhost:8080/"
        },
        "outputId": "d6634ec3-eb6a-444c-ef5d-03ca41632561"
      },
      "execution_count": 3,
      "outputs": [
        {
          "output_type": "stream",
          "name": "stdout",
          "text": [
            "Reading package lists... Done\n",
            "Building dependency tree... Done\n",
            "Reading state information... Done\n",
            "fonts-nanum is already the newest version (20200506-1).\n",
            "0 upgraded, 0 newly installed, 0 to remove and 10 not upgraded.\n",
            "/usr/share/fonts: caching, new cache contents: 0 fonts, 1 dirs\n",
            "/usr/share/fonts/truetype: caching, new cache contents: 0 fonts, 3 dirs\n",
            "/usr/share/fonts/truetype/humor-sans: caching, new cache contents: 1 fonts, 0 dirs\n",
            "/usr/share/fonts/truetype/liberation: caching, new cache contents: 16 fonts, 0 dirs\n",
            "/usr/share/fonts/truetype/nanum: caching, new cache contents: 12 fonts, 0 dirs\n",
            "/usr/local/share/fonts: caching, new cache contents: 0 fonts, 0 dirs\n",
            "/root/.local/share/fonts: skipping, no such directory\n",
            "/root/.fonts: skipping, no such directory\n",
            "/usr/share/fonts/truetype: skipping, looped directory detected\n",
            "/usr/share/fonts/truetype/humor-sans: skipping, looped directory detected\n",
            "/usr/share/fonts/truetype/liberation: skipping, looped directory detected\n",
            "/usr/share/fonts/truetype/nanum: skipping, looped directory detected\n",
            "/var/cache/fontconfig: cleaning cache directory\n",
            "/root/.cache/fontconfig: not cleaning non-existent cache directory\n",
            "/root/.fontconfig: not cleaning non-existent cache directory\n",
            "fc-cache: succeeded\n"
          ]
        }
      ]
    },
    {
      "cell_type": "markdown",
      "source": [
        "# 1. 한국어 워드 임베딩 구축"
      ],
      "metadata": {
        "id": "IaloZZ62mhu7"
      }
    },
    {
      "cell_type": "markdown",
      "source": [
        "워드 임베딩 구축 과정은 지난 실습에서 다뤘으므로, 이번 실습에서는 빠르게 구축을 진행해볼게요!"
      ],
      "metadata": {
        "id": "7SWDqqo1ny3a"
      }
    },
    {
      "cell_type": "markdown",
      "source": [
        "오늘 사용할 학습 데이터셋은 [네이버 영화 리뷰 데이터셋](https://github.com/e9t/nsmc)입니다.\n",
        "\n",
        "네이버 영화 리뷰 데이터셋은 총 200,000개 리뷰로 구성된 데이터로, 원래 목적은 영화 리뷰를 긍/부정으로 분류하기 위해 만들어진 데이터셋입니다.\n",
        "\n",
        "따라서, 주어진 리뷰가 긍정인 경우 1, 부정인 경우 0을 표시한 레이블로 구성되어져 있습니다.\n",
        "\n",
        "이번 강의에서는 이 데이터셋을 활용하여 단어 임베딩을 구축해볼게요!"
      ],
      "metadata": {
        "id": "4cMpVEDFn6e3"
      }
    },
    {
      "cell_type": "markdown",
      "source": [
        "![image.png](data:image/png;base64,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)"
      ],
      "metadata": {
        "id": "B0sJ34V1o_PY"
      }
    },
    {
      "cell_type": "markdown",
      "source": [
        "### 1.1. 데이터 수집\n",
        "\n",
        "*   학습 데이터셋 경로: https://raw.githubusercontent.com/e9t/nsmc/master/ratings_train.txt\"\n",
        "*   테스트 데이터셋 경로 : https://raw.githubusercontent.com/e9t/nsmc/master/ratings_test.txt"
      ],
      "metadata": {
        "id": "CR_XyOwsoSPN"
      }
    },
    {
      "cell_type": "code",
      "source": [
        "import urllib.request\n",
        "import pandas as pd"
      ],
      "metadata": {
        "id": "8DOMxqB1mlyn"
      },
      "execution_count": 4,
      "outputs": []
    },
    {
      "cell_type": "code",
      "source": [
        "urllib.request.urlretrieve(\"https://raw.githubusercontent.com/e9t/nsmc/master/ratings_train.txt\", filename=\"ratings_train.txt\")\n",
        "urllib.request.urlretrieve(\"https://raw.githubusercontent.com/e9t/nsmc/master/ratings_test.txt\", filename=\"ratings_test.txt\")"
      ],
      "metadata": {
        "colab": {
          "base_uri": "https://localhost:8080/"
        },
        "id": "ldDLW-9cozuE",
        "outputId": "0b869084-691c-46b2-bdc5-e1bddaa1ed62"
      },
      "execution_count": 5,
      "outputs": [
        {
          "output_type": "execute_result",
          "data": {
            "text/plain": [
              "('ratings_test.txt', <http.client.HTTPMessage at 0x7a00bf67c160>)"
            ]
          },
          "metadata": {},
          "execution_count": 5
        }
      ]
    },
    {
      "cell_type": "markdown",
      "source": [
        "오늘 사용할 학습 데이터를 다운로드합니다.\n",
        "\n",
        "원 데이터셋의 학습 데이터셋은 150,000개, 테스트 데이터셋은 50,000개인데, 데이터가 너무 크면 학습이 오래 걸리므로, 이번 강의에서는 테스트 데이터셋을 학습 데이터셋으로 활용해볼게요!"
      ],
      "metadata": {
        "id": "SezGi4GImqlw"
      }
    },
    {
      "cell_type": "code",
      "source": [
        "train_dataset = pd.read_table('ratings_test.txt')\n",
        "print(len(train_dataset))"
      ],
      "metadata": {
        "colab": {
          "base_uri": "https://localhost:8080/"
        },
        "id": "cdgHQy7mpc5G",
        "outputId": "433feddd-3f95-4663-9fbe-b6b143cb2968"
      },
      "execution_count": 6,
      "outputs": [
        {
          "output_type": "stream",
          "name": "stdout",
          "text": [
            "50000\n"
          ]
        }
      ]
    },
    {
      "cell_type": "code",
      "source": [
        "train_dataset[:5]"
      ],
      "metadata": {
        "colab": {
          "base_uri": "https://localhost:8080/",
          "height": 206
        },
        "id": "4xWA_y5hpkB4",
        "outputId": "60c90ea0-e8d5-4c0a-a8ea-b3731c32d4ba"
      },
      "execution_count": 7,
      "outputs": [
        {
          "output_type": "execute_result",
          "data": {
            "text/plain": [
              "        id                                           document  label\n",
              "0  6270596                                                굳 ㅋ      1\n",
              "1  9274899                               GDNTOPCLASSINTHECLUB      0\n",
              "2  8544678             뭐야 이 평점들은.... 나쁘진 않지만 10점 짜리는 더더욱 아니잖아      0\n",
              "3  6825595                   지루하지는 않은데 완전 막장임... 돈주고 보기에는....      0\n",
              "4  6723715  3D만 아니었어도 별 다섯 개 줬을텐데.. 왜 3D로 나와서 제 심기를 불편하게 하죠??      0"
            ],
            "text/html": [
              "\n",
              "  <div id=\"df-289b3707-0eee-4db9-b483-59f3b0333c63\" class=\"colab-df-container\">\n",
              "    <div>\n",
              "<style scoped>\n",
              "    .dataframe tbody tr th:only-of-type {\n",
              "        vertical-align: middle;\n",
              "    }\n",
              "\n",
              "    .dataframe tbody tr th {\n",
              "        vertical-align: top;\n",
              "    }\n",
              "\n",
              "    .dataframe thead th {\n",
              "        text-align: right;\n",
              "    }\n",
              "</style>\n",
              "<table border=\"1\" class=\"dataframe\">\n",
              "  <thead>\n",
              "    <tr style=\"text-align: right;\">\n",
              "      <th></th>\n",
              "      <th>id</th>\n",
              "      <th>document</th>\n",
              "      <th>label</th>\n",
              "    </tr>\n",
              "  </thead>\n",
              "  <tbody>\n",
              "    <tr>\n",
              "      <th>0</th>\n",
              "      <td>6270596</td>\n",
              "      <td>굳 ㅋ</td>\n",
              "      <td>1</td>\n",
              "    </tr>\n",
              "    <tr>\n",
              "      <th>1</th>\n",
              "      <td>9274899</td>\n",
              "      <td>GDNTOPCLASSINTHECLUB</td>\n",
              "      <td>0</td>\n",
              "    </tr>\n",
              "    <tr>\n",
              "      <th>2</th>\n",
              "      <td>8544678</td>\n",
              "      <td>뭐야 이 평점들은.... 나쁘진 않지만 10점 짜리는 더더욱 아니잖아</td>\n",
              "      <td>0</td>\n",
              "    </tr>\n",
              "    <tr>\n",
              "      <th>3</th>\n",
              "      <td>6825595</td>\n",
              "      <td>지루하지는 않은데 완전 막장임... 돈주고 보기에는....</td>\n",
              "      <td>0</td>\n",
              "    </tr>\n",
              "    <tr>\n",
              "      <th>4</th>\n",
              "      <td>6723715</td>\n",
              "      <td>3D만 아니었어도 별 다섯 개 줬을텐데.. 왜 3D로 나와서 제 심기를 불편하게 하죠??</td>\n",
              "      <td>0</td>\n",
              "    </tr>\n",
              "  </tbody>\n",
              "</table>\n",
              "</div>\n",
              "    <div class=\"colab-df-buttons\">\n",
              "\n",
              "  <div class=\"colab-df-container\">\n",
              "    <button class=\"colab-df-convert\" onclick=\"convertToInteractive('df-289b3707-0eee-4db9-b483-59f3b0333c63')\"\n",
              "            title=\"Convert this dataframe to an interactive table.\"\n",
              "            style=\"display:none;\">\n",
              "\n",
              "  <svg xmlns=\"http://www.w3.org/2000/svg\" height=\"24px\" viewBox=\"0 -960 960 960\">\n",
              "    <path d=\"M120-120v-720h720v720H120Zm60-500h600v-160H180v160Zm220 220h160v-160H400v160Zm0 220h160v-160H400v160ZM180-400h160v-160H180v160Zm440 0h160v-160H620v160ZM180-180h160v-160H180v160Zm440 0h160v-160H620v160Z\"/>\n",
              "  </svg>\n",
              "    </button>\n",
              "\n",
              "  <style>\n",
              "    .colab-df-container {\n",
              "      display:flex;\n",
              "      gap: 12px;\n",
              "    }\n",
              "\n",
              "    .colab-df-convert {\n",
              "      background-color: #E8F0FE;\n",
              "      border: none;\n",
              "      border-radius: 50%;\n",
              "      cursor: pointer;\n",
              "      display: none;\n",
              "      fill: #1967D2;\n",
              "      height: 32px;\n",
              "      padding: 0 0 0 0;\n",
              "      width: 32px;\n",
              "    }\n",
              "\n",
              "    .colab-df-convert:hover {\n",
              "      background-color: #E2EBFA;\n",
              "      box-shadow: 0px 1px 2px rgba(60, 64, 67, 0.3), 0px 1px 3px 1px rgba(60, 64, 67, 0.15);\n",
              "      fill: #174EA6;\n",
              "    }\n",
              "\n",
              "    .colab-df-buttons div {\n",
              "      margin-bottom: 4px;\n",
              "    }\n",
              "\n",
              "    [theme=dark] .colab-df-convert {\n",
              "      background-color: #3B4455;\n",
              "      fill: #D2E3FC;\n",
              "    }\n",
              "\n",
              "    [theme=dark] .colab-df-convert:hover {\n",
              "      background-color: #434B5C;\n",
              "      box-shadow: 0px 1px 3px 1px rgba(0, 0, 0, 0.15);\n",
              "      filter: drop-shadow(0px 1px 2px rgba(0, 0, 0, 0.3));\n",
              "      fill: #FFFFFF;\n",
              "    }\n",
              "  </style>\n",
              "\n",
              "    <script>\n",
              "      const buttonEl =\n",
              "        document.querySelector('#df-289b3707-0eee-4db9-b483-59f3b0333c63 button.colab-df-convert');\n",
              "      buttonEl.style.display =\n",
              "        google.colab.kernel.accessAllowed ? 'block' : 'none';\n",
              "\n",
              "      async function convertToInteractive(key) {\n",
              "        const element = document.querySelector('#df-289b3707-0eee-4db9-b483-59f3b0333c63');\n",
              "        const dataTable =\n",
              "          await google.colab.kernel.invokeFunction('convertToInteractive',\n",
              "                                                    [key], {});\n",
              "        if (!dataTable) return;\n",
              "\n",
              "        const docLinkHtml = 'Like what you see? Visit the ' +\n",
              "          '<a target=\"_blank\" href=https://colab.research.google.com/notebooks/data_table.ipynb>data table notebook</a>'\n",
              "          + ' to learn more about interactive tables.';\n",
              "        element.innerHTML = '';\n",
              "        dataTable['output_type'] = 'display_data';\n",
              "        await google.colab.output.renderOutput(dataTable, element);\n",
              "        const docLink = document.createElement('div');\n",
              "        docLink.innerHTML = docLinkHtml;\n",
              "        element.appendChild(docLink);\n",
              "      }\n",
              "    </script>\n",
              "  </div>\n",
              "\n",
              "\n",
              "<div id=\"df-28b85964-5868-4125-87fb-27165d7b2a2c\">\n",
              "  <button class=\"colab-df-quickchart\" onclick=\"quickchart('df-28b85964-5868-4125-87fb-27165d7b2a2c')\"\n",
              "            title=\"Suggest charts\"\n",
              "            style=\"display:none;\">\n",
              "\n",
              "<svg xmlns=\"http://www.w3.org/2000/svg\" height=\"24px\"viewBox=\"0 0 24 24\"\n",
              "     width=\"24px\">\n",
              "    <g>\n",
              "        <path d=\"M19 3H5c-1.1 0-2 .9-2 2v14c0 1.1.9 2 2 2h14c1.1 0 2-.9 2-2V5c0-1.1-.9-2-2-2zM9 17H7v-7h2v7zm4 0h-2V7h2v10zm4 0h-2v-4h2v4z\"/>\n",
              "    </g>\n",
              "</svg>\n",
              "  </button>\n",
              "\n",
              "<style>\n",
              "  .colab-df-quickchart {\n",
              "      --bg-color: #E8F0FE;\n",
              "      --fill-color: #1967D2;\n",
              "      --hover-bg-color: #E2EBFA;\n",
              "      --hover-fill-color: #174EA6;\n",
              "      --disabled-fill-color: #AAA;\n",
              "      --disabled-bg-color: #DDD;\n",
              "  }\n",
              "\n",
              "  [theme=dark] .colab-df-quickchart {\n",
              "      --bg-color: #3B4455;\n",
              "      --fill-color: #D2E3FC;\n",
              "      --hover-bg-color: #434B5C;\n",
              "      --hover-fill-color: #FFFFFF;\n",
              "      --disabled-bg-color: #3B4455;\n",
              "      --disabled-fill-color: #666;\n",
              "  }\n",
              "\n",
              "  .colab-df-quickchart {\n",
              "    background-color: var(--bg-color);\n",
              "    border: none;\n",
              "    border-radius: 50%;\n",
              "    cursor: pointer;\n",
              "    display: none;\n",
              "    fill: var(--fill-color);\n",
              "    height: 32px;\n",
              "    padding: 0;\n",
              "    width: 32px;\n",
              "  }\n",
              "\n",
              "  .colab-df-quickchart:hover {\n",
              "    background-color: var(--hover-bg-color);\n",
              "    box-shadow: 0 1px 2px rgba(60, 64, 67, 0.3), 0 1px 3px 1px rgba(60, 64, 67, 0.15);\n",
              "    fill: var(--button-hover-fill-color);\n",
              "  }\n",
              "\n",
              "  .colab-df-quickchart-complete:disabled,\n",
              "  .colab-df-quickchart-complete:disabled:hover {\n",
              "    background-color: var(--disabled-bg-color);\n",
              "    fill: var(--disabled-fill-color);\n",
              "    box-shadow: none;\n",
              "  }\n",
              "\n",
              "  .colab-df-spinner {\n",
              "    border: 2px solid var(--fill-color);\n",
              "    border-color: transparent;\n",
              "    border-bottom-color: var(--fill-color);\n",
              "    animation:\n",
              "      spin 1s steps(1) infinite;\n",
              "  }\n",
              "\n",
              "  @keyframes spin {\n",
              "    0% {\n",
              "      border-color: transparent;\n",
              "      border-bottom-color: var(--fill-color);\n",
              "      border-left-color: var(--fill-color);\n",
              "    }\n",
              "    20% {\n",
              "      border-color: transparent;\n",
              "      border-left-color: var(--fill-color);\n",
              "      border-top-color: var(--fill-color);\n",
              "    }\n",
              "    30% {\n",
              "      border-color: transparent;\n",
              "      border-left-color: var(--fill-color);\n",
              "      border-top-color: var(--fill-color);\n",
              "      border-right-color: var(--fill-color);\n",
              "    }\n",
              "    40% {\n",
              "      border-color: transparent;\n",
              "      border-right-color: var(--fill-color);\n",
              "      border-top-color: var(--fill-color);\n",
              "    }\n",
              "    60% {\n",
              "      border-color: transparent;\n",
              "      border-right-color: var(--fill-color);\n",
              "    }\n",
              "    80% {\n",
              "      border-color: transparent;\n",
              "      border-right-color: var(--fill-color);\n",
              "      border-bottom-color: var(--fill-color);\n",
              "    }\n",
              "    90% {\n",
              "      border-color: transparent;\n",
              "      border-bottom-color: var(--fill-color);\n",
              "    }\n",
              "  }\n",
              "</style>\n",
              "\n",
              "  <script>\n",
              "    async function quickchart(key) {\n",
              "      const quickchartButtonEl =\n",
              "        document.querySelector('#' + key + ' button');\n",
              "      quickchartButtonEl.disabled = true;  // To prevent multiple clicks.\n",
              "      quickchartButtonEl.classList.add('colab-df-spinner');\n",
              "      try {\n",
              "        const charts = await google.colab.kernel.invokeFunction(\n",
              "            'suggestCharts', [key], {});\n",
              "      } catch (error) {\n",
              "        console.error('Error during call to suggestCharts:', error);\n",
              "      }\n",
              "      quickchartButtonEl.classList.remove('colab-df-spinner');\n",
              "      quickchartButtonEl.classList.add('colab-df-quickchart-complete');\n",
              "    }\n",
              "    (() => {\n",
              "      let quickchartButtonEl =\n",
              "        document.querySelector('#df-28b85964-5868-4125-87fb-27165d7b2a2c button');\n",
              "      quickchartButtonEl.style.display =\n",
              "        google.colab.kernel.accessAllowed ? 'block' : 'none';\n",
              "    })();\n",
              "  </script>\n",
              "</div>\n",
              "\n",
              "    </div>\n",
              "  </div>\n"
            ]
          },
          "metadata": {},
          "execution_count": 7
        }
      ]
    },
    {
      "cell_type": "markdown",
      "source": [
        "### 1.2. 데이터 전처리"
      ],
      "metadata": {
        "id": "XxQiZbfIp3Bw"
      }
    },
    {
      "cell_type": "markdown",
      "source": [
        "데이터셋 다운로드가 완료되었으니, 이제 데이터를 분석하고 간단한 전처리를 진행해볼게요"
      ],
      "metadata": {
        "id": "HR9JptN-p6j5"
      }
    },
    {
      "cell_type": "markdown",
      "source": [
        "#### 1.2.1. 데이터셋 내 결측값 확인"
      ],
      "metadata": {
        "id": "D0T_jsu9qCaQ"
      }
    },
    {
      "cell_type": "code",
      "source": [
        "train_dataset.replace(\"\", float(\"NaN\"), inplace=True)\n",
        "print(train_dataset.isnull().values.any())"
      ],
      "metadata": {
        "colab": {
          "base_uri": "https://localhost:8080/"
        },
        "id": "8YP3I14sqF1U",
        "outputId": "e182c037-ad54-47c2-a5f5-4205aef1614d"
      },
      "execution_count": 8,
      "outputs": [
        {
          "output_type": "stream",
          "name": "stdout",
          "text": [
            "True\n"
          ]
        }
      ]
    },
    {
      "cell_type": "code",
      "source": [
        "train_dataset = train_dataset.dropna().reset_index(drop=True)\n",
        "print(f\"필터링된 데이터셋 총 개수 : {len(train_dataset)}\")"
      ],
      "metadata": {
        "colab": {
          "base_uri": "https://localhost:8080/"
        },
        "id": "VdXa0qYf8LzF",
        "outputId": "7765d19a-be18-4e92-894a-5453e88a37bb"
      },
      "execution_count": 9,
      "outputs": [
        {
          "output_type": "stream",
          "name": "stdout",
          "text": [
            "필터링된 데이터셋 총 개수 : 49997\n"
          ]
        }
      ]
    },
    {
      "cell_type": "markdown",
      "source": [
        "#### 1.2.2. 데이터셋 내 중복 데이터 제거\n",
        "\n"
      ],
      "metadata": {
        "id": "y27CrGJD9UEN"
      }
    },
    {
      "cell_type": "code",
      "source": [
        "# 열을 기준으로 중복제거\n",
        "train_dataset = train_dataset.drop_duplicates(['document']).reset_index(drop=True)\n",
        "print(f\"필터링된 데이터셋 총 개수 : {len(train_dataset)}\")"
      ],
      "metadata": {
        "colab": {
          "base_uri": "https://localhost:8080/"
        },
        "id": "pFpYEJ7a8YNp",
        "outputId": "f0aa6f8b-7ecf-4ba8-abc0-7269cacf0919"
      },
      "execution_count": 10,
      "outputs": [
        {
          "output_type": "stream",
          "name": "stdout",
          "text": [
            "필터링된 데이터셋 총 개수 : 49157\n"
          ]
        }
      ]
    },
    {
      "cell_type": "markdown",
      "source": [
        "#### 1.2.3. 한글이 아닌 문자를 포함하는 데이터 제거"
      ],
      "metadata": {
        "id": "DxPCC4hs9Yka"
      }
    },
    {
      "cell_type": "code",
      "source": [
        "# 정규 표현식을 사용하여 한글이 아닌 문자 제거\n",
        "train_dataset['document'] = train_dataset['document'].str.replace(\"[^ㄱ-ㅎㅏ-ㅣ가-힣 ]\",\"\")\n",
        "train_dataset"
      ],
      "metadata": {
        "colab": {
          "base_uri": "https://localhost:8080/",
          "height": 460
        },
        "id": "uOnXsyMm8q1R",
        "outputId": "d26a6bf7-c9b3-4a93-f9cd-3696805a8469"
      },
      "execution_count": 11,
      "outputs": [
        {
          "output_type": "stream",
          "name": "stderr",
          "text": [
            "<ipython-input-11-d36d30030d16>:2: FutureWarning: The default value of regex will change from True to False in a future version.\n",
            "  train_dataset['document'] = train_dataset['document'].str.replace(\"[^ㄱ-ㅎㅏ-ㅣ가-힣 ]\",\"\")\n"
          ]
        },
        {
          "output_type": "execute_result",
          "data": {
            "text/plain": [
              "            id                                    document  label\n",
              "0      6270596                                         굳 ㅋ      1\n",
              "1      9274899                                                  0\n",
              "2      8544678            뭐야 이 평점들은 나쁘진 않지만 점 짜리는 더더욱 아니잖아      0\n",
              "3      6825595                   지루하지는 않은데 완전 막장임 돈주고 보기에는      0\n",
              "4      6723715   만 아니었어도 별 다섯 개 줬을텐데 왜 로 나와서 제 심기를 불편하게 하죠      0\n",
              "...        ...                                         ...    ...\n",
              "49152  4608761   오랜만에 평점 로긴했네ㅋㅋ 킹왕짱 쌈뽕한 영화를 만났습니다 강렬하게 육쾌함      1\n",
              "49153  5308387    의지 박약들이나 하는거다 탈영은 일단 주인공 김대희 닮았고 이등병 찐따       0\n",
              "49154  9072549             그림도 좋고 완성도도 높았지만 보는 내내 불안하게 만든다      0\n",
              "49155  5802125  절대 봐서는 안 될 영화 재미도 없고 기분만 잡치고 한 세트장에서 다 해먹네      0\n",
              "49156  6070594                                  마무리는 또 왜이래      0\n",
              "\n",
              "[49157 rows x 3 columns]"
            ],
            "text/html": [
              "\n",
              "  <div id=\"df-c6169741-a160-43c8-85aa-09fb7d7c23cc\" class=\"colab-df-container\">\n",
              "    <div>\n",
              "<style scoped>\n",
              "    .dataframe tbody tr th:only-of-type {\n",
              "        vertical-align: middle;\n",
              "    }\n",
              "\n",
              "    .dataframe tbody tr th {\n",
              "        vertical-align: top;\n",
              "    }\n",
              "\n",
              "    .dataframe thead th {\n",
              "        text-align: right;\n",
              "    }\n",
              "</style>\n",
              "<table border=\"1\" class=\"dataframe\">\n",
              "  <thead>\n",
              "    <tr style=\"text-align: right;\">\n",
              "      <th></th>\n",
              "      <th>id</th>\n",
              "      <th>document</th>\n",
              "      <th>label</th>\n",
              "    </tr>\n",
              "  </thead>\n",
              "  <tbody>\n",
              "    <tr>\n",
              "      <th>0</th>\n",
              "      <td>6270596</td>\n",
              "      <td>굳 ㅋ</td>\n",
              "      <td>1</td>\n",
              "    </tr>\n",
              "    <tr>\n",
              "      <th>1</th>\n",
              "      <td>9274899</td>\n",
              "      <td></td>\n",
              "      <td>0</td>\n",
              "    </tr>\n",
              "    <tr>\n",
              "      <th>2</th>\n",
              "      <td>8544678</td>\n",
              "      <td>뭐야 이 평점들은 나쁘진 않지만 점 짜리는 더더욱 아니잖아</td>\n",
              "      <td>0</td>\n",
              "    </tr>\n",
              "    <tr>\n",
              "      <th>3</th>\n",
              "      <td>6825595</td>\n",
              "      <td>지루하지는 않은데 완전 막장임 돈주고 보기에는</td>\n",
              "      <td>0</td>\n",
              "    </tr>\n",
              "    <tr>\n",
              "      <th>4</th>\n",
              "      <td>6723715</td>\n",
              "      <td>만 아니었어도 별 다섯 개 줬을텐데 왜 로 나와서 제 심기를 불편하게 하죠</td>\n",
              "      <td>0</td>\n",
              "    </tr>\n",
              "    <tr>\n",
              "      <th>...</th>\n",
              "      <td>...</td>\n",
              "      <td>...</td>\n",
              "      <td>...</td>\n",
              "    </tr>\n",
              "    <tr>\n",
              "      <th>49152</th>\n",
              "      <td>4608761</td>\n",
              "      <td>오랜만에 평점 로긴했네ㅋㅋ 킹왕짱 쌈뽕한 영화를 만났습니다 강렬하게 육쾌함</td>\n",
              "      <td>1</td>\n",
              "    </tr>\n",
              "    <tr>\n",
              "      <th>49153</th>\n",
              "      <td>5308387</td>\n",
              "      <td>의지 박약들이나 하는거다 탈영은 일단 주인공 김대희 닮았고 이등병 찐따</td>\n",
              "      <td>0</td>\n",
              "    </tr>\n",
              "    <tr>\n",
              "      <th>49154</th>\n",
              "      <td>9072549</td>\n",
              "      <td>그림도 좋고 완성도도 높았지만 보는 내내 불안하게 만든다</td>\n",
              "      <td>0</td>\n",
              "    </tr>\n",
              "    <tr>\n",
              "      <th>49155</th>\n",
              "      <td>5802125</td>\n",
              "      <td>절대 봐서는 안 될 영화 재미도 없고 기분만 잡치고 한 세트장에서 다 해먹네</td>\n",
              "      <td>0</td>\n",
              "    </tr>\n",
              "    <tr>\n",
              "      <th>49156</th>\n",
              "      <td>6070594</td>\n",
              "      <td>마무리는 또 왜이래</td>\n",
              "      <td>0</td>\n",
              "    </tr>\n",
              "  </tbody>\n",
              "</table>\n",
              "<p>49157 rows × 3 columns</p>\n",
              "</div>\n",
              "    <div class=\"colab-df-buttons\">\n",
              "\n",
              "  <div class=\"colab-df-container\">\n",
              "    <button class=\"colab-df-convert\" onclick=\"convertToInteractive('df-c6169741-a160-43c8-85aa-09fb7d7c23cc')\"\n",
              "            title=\"Convert this dataframe to an interactive table.\"\n",
              "            style=\"display:none;\">\n",
              "\n",
              "  <svg xmlns=\"http://www.w3.org/2000/svg\" height=\"24px\" viewBox=\"0 -960 960 960\">\n",
              "    <path d=\"M120-120v-720h720v720H120Zm60-500h600v-160H180v160Zm220 220h160v-160H400v160Zm0 220h160v-160H400v160ZM180-400h160v-160H180v160Zm440 0h160v-160H620v160ZM180-180h160v-160H180v160Zm440 0h160v-160H620v160Z\"/>\n",
              "  </svg>\n",
              "    </button>\n",
              "\n",
              "  <style>\n",
              "    .colab-df-container {\n",
              "      display:flex;\n",
              "      gap: 12px;\n",
              "    }\n",
              "\n",
              "    .colab-df-convert {\n",
              "      background-color: #E8F0FE;\n",
              "      border: none;\n",
              "      border-radius: 50%;\n",
              "      cursor: pointer;\n",
              "      display: none;\n",
              "      fill: #1967D2;\n",
              "      height: 32px;\n",
              "      padding: 0 0 0 0;\n",
              "      width: 32px;\n",
              "    }\n",
              "\n",
              "    .colab-df-convert:hover {\n",
              "      background-color: #E2EBFA;\n",
              "      box-shadow: 0px 1px 2px rgba(60, 64, 67, 0.3), 0px 1px 3px 1px rgba(60, 64, 67, 0.15);\n",
              "      fill: #174EA6;\n",
              "    }\n",
              "\n",
              "    .colab-df-buttons div {\n",
              "      margin-bottom: 4px;\n",
              "    }\n",
              "\n",
              "    [theme=dark] .colab-df-convert {\n",
              "      background-color: #3B4455;\n",
              "      fill: #D2E3FC;\n",
              "    }\n",
              "\n",
              "    [theme=dark] .colab-df-convert:hover {\n",
              "      background-color: #434B5C;\n",
              "      box-shadow: 0px 1px 3px 1px rgba(0, 0, 0, 0.15);\n",
              "      filter: drop-shadow(0px 1px 2px rgba(0, 0, 0, 0.3));\n",
              "      fill: #FFFFFF;\n",
              "    }\n",
              "  </style>\n",
              "\n",
              "    <script>\n",
              "      const buttonEl =\n",
              "        document.querySelector('#df-c6169741-a160-43c8-85aa-09fb7d7c23cc button.colab-df-convert');\n",
              "      buttonEl.style.display =\n",
              "        google.colab.kernel.accessAllowed ? 'block' : 'none';\n",
              "\n",
              "      async function convertToInteractive(key) {\n",
              "        const element = document.querySelector('#df-c6169741-a160-43c8-85aa-09fb7d7c23cc');\n",
              "        const dataTable =\n",
              "          await google.colab.kernel.invokeFunction('convertToInteractive',\n",
              "                                                    [key], {});\n",
              "        if (!dataTable) return;\n",
              "\n",
              "        const docLinkHtml = 'Like what you see? Visit the ' +\n",
              "          '<a target=\"_blank\" href=https://colab.research.google.com/notebooks/data_table.ipynb>data table notebook</a>'\n",
              "          + ' to learn more about interactive tables.';\n",
              "        element.innerHTML = '';\n",
              "        dataTable['output_type'] = 'display_data';\n",
              "        await google.colab.output.renderOutput(dataTable, element);\n",
              "        const docLink = document.createElement('div');\n",
              "        docLink.innerHTML = docLinkHtml;\n",
              "        element.appendChild(docLink);\n",
              "      }\n",
              "    </script>\n",
              "  </div>\n",
              "\n",
              "\n",
              "<div id=\"df-af773736-4c94-4a4b-baf6-2bb2edb4814b\">\n",
              "  <button class=\"colab-df-quickchart\" onclick=\"quickchart('df-af773736-4c94-4a4b-baf6-2bb2edb4814b')\"\n",
              "            title=\"Suggest charts\"\n",
              "            style=\"display:none;\">\n",
              "\n",
              "<svg xmlns=\"http://www.w3.org/2000/svg\" height=\"24px\"viewBox=\"0 0 24 24\"\n",
              "     width=\"24px\">\n",
              "    <g>\n",
              "        <path d=\"M19 3H5c-1.1 0-2 .9-2 2v14c0 1.1.9 2 2 2h14c1.1 0 2-.9 2-2V5c0-1.1-.9-2-2-2zM9 17H7v-7h2v7zm4 0h-2V7h2v10zm4 0h-2v-4h2v4z\"/>\n",
              "    </g>\n",
              "</svg>\n",
              "  </button>\n",
              "\n",
              "<style>\n",
              "  .colab-df-quickchart {\n",
              "      --bg-color: #E8F0FE;\n",
              "      --fill-color: #1967D2;\n",
              "      --hover-bg-color: #E2EBFA;\n",
              "      --hover-fill-color: #174EA6;\n",
              "      --disabled-fill-color: #AAA;\n",
              "      --disabled-bg-color: #DDD;\n",
              "  }\n",
              "\n",
              "  [theme=dark] .colab-df-quickchart {\n",
              "      --bg-color: #3B4455;\n",
              "      --fill-color: #D2E3FC;\n",
              "      --hover-bg-color: #434B5C;\n",
              "      --hover-fill-color: #FFFFFF;\n",
              "      --disabled-bg-color: #3B4455;\n",
              "      --disabled-fill-color: #666;\n",
              "  }\n",
              "\n",
              "  .colab-df-quickchart {\n",
              "    background-color: var(--bg-color);\n",
              "    border: none;\n",
              "    border-radius: 50%;\n",
              "    cursor: pointer;\n",
              "    display: none;\n",
              "    fill: var(--fill-color);\n",
              "    height: 32px;\n",
              "    padding: 0;\n",
              "    width: 32px;\n",
              "  }\n",
              "\n",
              "  .colab-df-quickchart:hover {\n",
              "    background-color: var(--hover-bg-color);\n",
              "    box-shadow: 0 1px 2px rgba(60, 64, 67, 0.3), 0 1px 3px 1px rgba(60, 64, 67, 0.15);\n",
              "    fill: var(--button-hover-fill-color);\n",
              "  }\n",
              "\n",
              "  .colab-df-quickchart-complete:disabled,\n",
              "  .colab-df-quickchart-complete:disabled:hover {\n",
              "    background-color: var(--disabled-bg-color);\n",
              "    fill: var(--disabled-fill-color);\n",
              "    box-shadow: none;\n",
              "  }\n",
              "\n",
              "  .colab-df-spinner {\n",
              "    border: 2px solid var(--fill-color);\n",
              "    border-color: transparent;\n",
              "    border-bottom-color: var(--fill-color);\n",
              "    animation:\n",
              "      spin 1s steps(1) infinite;\n",
              "  }\n",
              "\n",
              "  @keyframes spin {\n",
              "    0% {\n",
              "      border-color: transparent;\n",
              "      border-bottom-color: var(--fill-color);\n",
              "      border-left-color: var(--fill-color);\n",
              "    }\n",
              "    20% {\n",
              "      border-color: transparent;\n",
              "      border-left-color: var(--fill-color);\n",
              "      border-top-color: var(--fill-color);\n",
              "    }\n",
              "    30% {\n",
              "      border-color: transparent;\n",
              "      border-left-color: var(--fill-color);\n",
              "      border-top-color: var(--fill-color);\n",
              "      border-right-color: var(--fill-color);\n",
              "    }\n",
              "    40% {\n",
              "      border-color: transparent;\n",
              "      border-right-color: var(--fill-color);\n",
              "      border-top-color: var(--fill-color);\n",
              "    }\n",
              "    60% {\n",
              "      border-color: transparent;\n",
              "      border-right-color: var(--fill-color);\n",
              "    }\n",
              "    80% {\n",
              "      border-color: transparent;\n",
              "      border-right-color: var(--fill-color);\n",
              "      border-bottom-color: var(--fill-color);\n",
              "    }\n",
              "    90% {\n",
              "      border-color: transparent;\n",
              "      border-bottom-color: var(--fill-color);\n",
              "    }\n",
              "  }\n",
              "</style>\n",
              "\n",
              "  <script>\n",
              "    async function quickchart(key) {\n",
              "      const quickchartButtonEl =\n",
              "        document.querySelector('#' + key + ' button');\n",
              "      quickchartButtonEl.disabled = true;  // To prevent multiple clicks.\n",
              "      quickchartButtonEl.classList.add('colab-df-spinner');\n",
              "      try {\n",
              "        const charts = await google.colab.kernel.invokeFunction(\n",
              "            'suggestCharts', [key], {});\n",
              "      } catch (error) {\n",
              "        console.error('Error during call to suggestCharts:', error);\n",
              "      }\n",
              "      quickchartButtonEl.classList.remove('colab-df-spinner');\n",
              "      quickchartButtonEl.classList.add('colab-df-quickchart-complete');\n",
              "    }\n",
              "    (() => {\n",
              "      let quickchartButtonEl =\n",
              "        document.querySelector('#df-af773736-4c94-4a4b-baf6-2bb2edb4814b button');\n",
              "      quickchartButtonEl.style.display =\n",
              "        google.colab.kernel.accessAllowed ? 'block' : 'none';\n",
              "    })();\n",
              "  </script>\n",
              "</div>\n",
              "\n",
              "  <div id=\"id_a87f136a-db87-444a-bf85-75fafcfd2a5c\">\n",
              "    <style>\n",
              "      .colab-df-generate {\n",
              "        background-color: #E8F0FE;\n",
              "        border: none;\n",
              "        border-radius: 50%;\n",
              "        cursor: pointer;\n",
              "        display: none;\n",
              "        fill: #1967D2;\n",
              "        height: 32px;\n",
              "        padding: 0 0 0 0;\n",
              "        width: 32px;\n",
              "      }\n",
              "\n",
              "      .colab-df-generate:hover {\n",
              "        background-color: #E2EBFA;\n",
              "        box-shadow: 0px 1px 2px rgba(60, 64, 67, 0.3), 0px 1px 3px 1px rgba(60, 64, 67, 0.15);\n",
              "        fill: #174EA6;\n",
              "      }\n",
              "\n",
              "      [theme=dark] .colab-df-generate {\n",
              "        background-color: #3B4455;\n",
              "        fill: #D2E3FC;\n",
              "      }\n",
              "\n",
              "      [theme=dark] .colab-df-generate:hover {\n",
              "        background-color: #434B5C;\n",
              "        box-shadow: 0px 1px 3px 1px rgba(0, 0, 0, 0.15);\n",
              "        filter: drop-shadow(0px 1px 2px rgba(0, 0, 0, 0.3));\n",
              "        fill: #FFFFFF;\n",
              "      }\n",
              "    </style>\n",
              "    <button class=\"colab-df-generate\" onclick=\"generateWithVariable('train_dataset')\"\n",
              "            title=\"Generate code using this dataframe.\"\n",
              "            style=\"display:none;\">\n",
              "\n",
              "  <svg xmlns=\"http://www.w3.org/2000/svg\" height=\"24px\"viewBox=\"0 0 24 24\"\n",
              "       width=\"24px\">\n",
              "    <path d=\"M7,19H8.4L18.45,9,17,7.55,7,17.6ZM5,21V16.75L18.45,3.32a2,2,0,0,1,2.83,0l1.4,1.43a1.91,1.91,0,0,1,.58,1.4,1.91,1.91,0,0,1-.58,1.4L9.25,21ZM18.45,9,17,7.55Zm-12,3A5.31,5.31,0,0,0,4.9,8.1,5.31,5.31,0,0,0,1,6.5,5.31,5.31,0,0,0,4.9,4.9,5.31,5.31,0,0,0,6.5,1,5.31,5.31,0,0,0,8.1,4.9,5.31,5.31,0,0,0,12,6.5,5.46,5.46,0,0,0,6.5,12Z\"/>\n",
              "  </svg>\n",
              "    </button>\n",
              "    <script>\n",
              "      (() => {\n",
              "      const buttonEl =\n",
              "        document.querySelector('#id_a87f136a-db87-444a-bf85-75fafcfd2a5c button.colab-df-generate');\n",
              "      buttonEl.style.display =\n",
              "        google.colab.kernel.accessAllowed ? 'block' : 'none';\n",
              "\n",
              "      buttonEl.onclick = () => {\n",
              "        google.colab.notebook.generateWithVariable('train_dataset');\n",
              "      }\n",
              "      })();\n",
              "    </script>\n",
              "  </div>\n",
              "\n",
              "    </div>\n",
              "  </div>\n"
            ]
          },
          "metadata": {},
          "execution_count": 11
        }
      ]
    },
    {
      "cell_type": "markdown",
      "source": [
        "#### 1.2.4. 길이가 너무 짧은 데이터 제거"
      ],
      "metadata": {
        "id": "GK34cD_t9cyx"
      }
    },
    {
      "cell_type": "code",
      "source": [
        "# 문서 내 길이가 너무 짧은 단어를 제거합니다. (단어의 길이가 2 이하)\n",
        "train_dataset['document'] = train_dataset['document'].apply(lambda x: ' '.join([token for token in x.split() if len(token) > 2]))\n",
        "train_dataset"
      ],
      "metadata": {
        "colab": {
          "base_uri": "https://localhost:8080/",
          "height": 424
        },
        "id": "-8SRBp3f896Z",
        "outputId": "fe0fec1c-29af-46cc-98c1-ca0050508fbe"
      },
      "execution_count": 12,
      "outputs": [
        {
          "output_type": "execute_result",
          "data": {
            "text/plain": [
              "            id                                document  label\n",
              "0      6270596                                              1\n",
              "1      9274899                                              0\n",
              "2      8544678               평점들은 나쁘진 않지만 짜리는 더더욱 아니잖아      0\n",
              "3      6825595                  지루하지는 않은데 막장임 돈주고 보기에는      0\n",
              "4      6723715                 아니었어도 줬을텐데 나와서 심기를 불편하게      0\n",
              "...        ...                                     ...    ...\n",
              "49152  4608761  오랜만에 로긴했네ㅋㅋ 킹왕짱 쌈뽕한 영화를 만났습니다 강렬하게 육쾌함      1\n",
              "49153  5308387          박약들이나 하는거다 탈영은 주인공 김대희 닮았고 이등병      0\n",
              "49154  9072549                  그림도 완성도도 높았지만 불안하게 만든다      0\n",
              "49155  5802125               봐서는 재미도 기분만 잡치고 세트장에서 해먹네      0\n",
              "49156  6070594                                마무리는 왜이래      0\n",
              "\n",
              "[49157 rows x 3 columns]"
            ],
            "text/html": [
              "\n",
              "  <div id=\"df-846fa1e4-3dc6-4cf7-bdef-3632b19ceed0\" class=\"colab-df-container\">\n",
              "    <div>\n",
              "<style scoped>\n",
              "    .dataframe tbody tr th:only-of-type {\n",
              "        vertical-align: middle;\n",
              "    }\n",
              "\n",
              "    .dataframe tbody tr th {\n",
              "        vertical-align: top;\n",
              "    }\n",
              "\n",
              "    .dataframe thead th {\n",
              "        text-align: right;\n",
              "    }\n",
              "</style>\n",
              "<table border=\"1\" class=\"dataframe\">\n",
              "  <thead>\n",
              "    <tr style=\"text-align: right;\">\n",
              "      <th></th>\n",
              "      <th>id</th>\n",
              "      <th>document</th>\n",
              "      <th>label</th>\n",
              "    </tr>\n",
              "  </thead>\n",
              "  <tbody>\n",
              "    <tr>\n",
              "      <th>0</th>\n",
              "      <td>6270596</td>\n",
              "      <td></td>\n",
              "      <td>1</td>\n",
              "    </tr>\n",
              "    <tr>\n",
              "      <th>1</th>\n",
              "      <td>9274899</td>\n",
              "      <td></td>\n",
              "      <td>0</td>\n",
              "    </tr>\n",
              "    <tr>\n",
              "      <th>2</th>\n",
              "      <td>8544678</td>\n",
              "      <td>평점들은 나쁘진 않지만 짜리는 더더욱 아니잖아</td>\n",
              "      <td>0</td>\n",
              "    </tr>\n",
              "    <tr>\n",
              "      <th>3</th>\n",
              "      <td>6825595</td>\n",
              "      <td>지루하지는 않은데 막장임 돈주고 보기에는</td>\n",
              "      <td>0</td>\n",
              "    </tr>\n",
              "    <tr>\n",
              "      <th>4</th>\n",
              "      <td>6723715</td>\n",
              "      <td>아니었어도 줬을텐데 나와서 심기를 불편하게</td>\n",
              "      <td>0</td>\n",
              "    </tr>\n",
              "    <tr>\n",
              "      <th>...</th>\n",
              "      <td>...</td>\n",
              "      <td>...</td>\n",
              "      <td>...</td>\n",
              "    </tr>\n",
              "    <tr>\n",
              "      <th>49152</th>\n",
              "      <td>4608761</td>\n",
              "      <td>오랜만에 로긴했네ㅋㅋ 킹왕짱 쌈뽕한 영화를 만났습니다 강렬하게 육쾌함</td>\n",
              "      <td>1</td>\n",
              "    </tr>\n",
              "    <tr>\n",
              "      <th>49153</th>\n",
              "      <td>5308387</td>\n",
              "      <td>박약들이나 하는거다 탈영은 주인공 김대희 닮았고 이등병</td>\n",
              "      <td>0</td>\n",
              "    </tr>\n",
              "    <tr>\n",
              "      <th>49154</th>\n",
              "      <td>9072549</td>\n",
              "      <td>그림도 완성도도 높았지만 불안하게 만든다</td>\n",
              "      <td>0</td>\n",
              "    </tr>\n",
              "    <tr>\n",
              "      <th>49155</th>\n",
              "      <td>5802125</td>\n",
              "      <td>봐서는 재미도 기분만 잡치고 세트장에서 해먹네</td>\n",
              "      <td>0</td>\n",
              "    </tr>\n",
              "    <tr>\n",
              "      <th>49156</th>\n",
              "      <td>6070594</td>\n",
              "      <td>마무리는 왜이래</td>\n",
              "      <td>0</td>\n",
              "    </tr>\n",
              "  </tbody>\n",
              "</table>\n",
              "<p>49157 rows × 3 columns</p>\n",
              "</div>\n",
              "    <div class=\"colab-df-buttons\">\n",
              "\n",
              "  <div class=\"colab-df-container\">\n",
              "    <button class=\"colab-df-convert\" onclick=\"convertToInteractive('df-846fa1e4-3dc6-4cf7-bdef-3632b19ceed0')\"\n",
              "            title=\"Convert this dataframe to an interactive table.\"\n",
              "            style=\"display:none;\">\n",
              "\n",
              "  <svg xmlns=\"http://www.w3.org/2000/svg\" height=\"24px\" viewBox=\"0 -960 960 960\">\n",
              "    <path d=\"M120-120v-720h720v720H120Zm60-500h600v-160H180v160Zm220 220h160v-160H400v160Zm0 220h160v-160H400v160ZM180-400h160v-160H180v160Zm440 0h160v-160H620v160ZM180-180h160v-160H180v160Zm440 0h160v-160H620v160Z\"/>\n",
              "  </svg>\n",
              "    </button>\n",
              "\n",
              "  <style>\n",
              "    .colab-df-container {\n",
              "      display:flex;\n",
              "      gap: 12px;\n",
              "    }\n",
              "\n",
              "    .colab-df-convert {\n",
              "      background-color: #E8F0FE;\n",
              "      border: none;\n",
              "      border-radius: 50%;\n",
              "      cursor: pointer;\n",
              "      display: none;\n",
              "      fill: #1967D2;\n",
              "      height: 32px;\n",
              "      padding: 0 0 0 0;\n",
              "      width: 32px;\n",
              "    }\n",
              "\n",
              "    .colab-df-convert:hover {\n",
              "      background-color: #E2EBFA;\n",
              "      box-shadow: 0px 1px 2px rgba(60, 64, 67, 0.3), 0px 1px 3px 1px rgba(60, 64, 67, 0.15);\n",
              "      fill: #174EA6;\n",
              "    }\n",
              "\n",
              "    .colab-df-buttons div {\n",
              "      margin-bottom: 4px;\n",
              "    }\n",
              "\n",
              "    [theme=dark] .colab-df-convert {\n",
              "      background-color: #3B4455;\n",
              "      fill: #D2E3FC;\n",
              "    }\n",
              "\n",
              "    [theme=dark] .colab-df-convert:hover {\n",
              "      background-color: #434B5C;\n",
              "      box-shadow: 0px 1px 3px 1px rgba(0, 0, 0, 0.15);\n",
              "      filter: drop-shadow(0px 1px 2px rgba(0, 0, 0, 0.3));\n",
              "      fill: #FFFFFF;\n",
              "    }\n",
              "  </style>\n",
              "\n",
              "    <script>\n",
              "      const buttonEl =\n",
              "        document.querySelector('#df-846fa1e4-3dc6-4cf7-bdef-3632b19ceed0 button.colab-df-convert');\n",
              "      buttonEl.style.display =\n",
              "        google.colab.kernel.accessAllowed ? 'block' : 'none';\n",
              "\n",
              "      async function convertToInteractive(key) {\n",
              "        const element = document.querySelector('#df-846fa1e4-3dc6-4cf7-bdef-3632b19ceed0');\n",
              "        const dataTable =\n",
              "          await google.colab.kernel.invokeFunction('convertToInteractive',\n",
              "                                                    [key], {});\n",
              "        if (!dataTable) return;\n",
              "\n",
              "        const docLinkHtml = 'Like what you see? Visit the ' +\n",
              "          '<a target=\"_blank\" href=https://colab.research.google.com/notebooks/data_table.ipynb>data table notebook</a>'\n",
              "          + ' to learn more about interactive tables.';\n",
              "        element.innerHTML = '';\n",
              "        dataTable['output_type'] = 'display_data';\n",
              "        await google.colab.output.renderOutput(dataTable, element);\n",
              "        const docLink = document.createElement('div');\n",
              "        docLink.innerHTML = docLinkHtml;\n",
              "        element.appendChild(docLink);\n",
              "      }\n",
              "    </script>\n",
              "  </div>\n",
              "\n",
              "\n",
              "<div id=\"df-e84bdee6-ef39-4838-9d34-30836eeb63a8\">\n",
              "  <button class=\"colab-df-quickchart\" onclick=\"quickchart('df-e84bdee6-ef39-4838-9d34-30836eeb63a8')\"\n",
              "            title=\"Suggest charts\"\n",
              "            style=\"display:none;\">\n",
              "\n",
              "<svg xmlns=\"http://www.w3.org/2000/svg\" height=\"24px\"viewBox=\"0 0 24 24\"\n",
              "     width=\"24px\">\n",
              "    <g>\n",
              "        <path d=\"M19 3H5c-1.1 0-2 .9-2 2v14c0 1.1.9 2 2 2h14c1.1 0 2-.9 2-2V5c0-1.1-.9-2-2-2zM9 17H7v-7h2v7zm4 0h-2V7h2v10zm4 0h-2v-4h2v4z\"/>\n",
              "    </g>\n",
              "</svg>\n",
              "  </button>\n",
              "\n",
              "<style>\n",
              "  .colab-df-quickchart {\n",
              "      --bg-color: #E8F0FE;\n",
              "      --fill-color: #1967D2;\n",
              "      --hover-bg-color: #E2EBFA;\n",
              "      --hover-fill-color: #174EA6;\n",
              "      --disabled-fill-color: #AAA;\n",
              "      --disabled-bg-color: #DDD;\n",
              "  }\n",
              "\n",
              "  [theme=dark] .colab-df-quickchart {\n",
              "      --bg-color: #3B4455;\n",
              "      --fill-color: #D2E3FC;\n",
              "      --hover-bg-color: #434B5C;\n",
              "      --hover-fill-color: #FFFFFF;\n",
              "      --disabled-bg-color: #3B4455;\n",
              "      --disabled-fill-color: #666;\n",
              "  }\n",
              "\n",
              "  .colab-df-quickchart {\n",
              "    background-color: var(--bg-color);\n",
              "    border: none;\n",
              "    border-radius: 50%;\n",
              "    cursor: pointer;\n",
              "    display: none;\n",
              "    fill: var(--fill-color);\n",
              "    height: 32px;\n",
              "    padding: 0;\n",
              "    width: 32px;\n",
              "  }\n",
              "\n",
              "  .colab-df-quickchart:hover {\n",
              "    background-color: var(--hover-bg-color);\n",
              "    box-shadow: 0 1px 2px rgba(60, 64, 67, 0.3), 0 1px 3px 1px rgba(60, 64, 67, 0.15);\n",
              "    fill: var(--button-hover-fill-color);\n",
              "  }\n",
              "\n",
              "  .colab-df-quickchart-complete:disabled,\n",
              "  .colab-df-quickchart-complete:disabled:hover {\n",
              "    background-color: var(--disabled-bg-color);\n",
              "    fill: var(--disabled-fill-color);\n",
              "    box-shadow: none;\n",
              "  }\n",
              "\n",
              "  .colab-df-spinner {\n",
              "    border: 2px solid var(--fill-color);\n",
              "    border-color: transparent;\n",
              "    border-bottom-color: var(--fill-color);\n",
              "    animation:\n",
              "      spin 1s steps(1) infinite;\n",
              "  }\n",
              "\n",
              "  @keyframes spin {\n",
              "    0% {\n",
              "      border-color: transparent;\n",
              "      border-bottom-color: var(--fill-color);\n",
              "      border-left-color: var(--fill-color);\n",
              "    }\n",
              "    20% {\n",
              "      border-color: transparent;\n",
              "      border-left-color: var(--fill-color);\n",
              "      border-top-color: var(--fill-color);\n",
              "    }\n",
              "    30% {\n",
              "      border-color: transparent;\n",
              "      border-left-color: var(--fill-color);\n",
              "      border-top-color: var(--fill-color);\n",
              "      border-right-color: var(--fill-color);\n",
              "    }\n",
              "    40% {\n",
              "      border-color: transparent;\n",
              "      border-right-color: var(--fill-color);\n",
              "      border-top-color: var(--fill-color);\n",
              "    }\n",
              "    60% {\n",
              "      border-color: transparent;\n",
              "      border-right-color: var(--fill-color);\n",
              "    }\n",
              "    80% {\n",
              "      border-color: transparent;\n",
              "      border-right-color: var(--fill-color);\n",
              "      border-bottom-color: var(--fill-color);\n",
              "    }\n",
              "    90% {\n",
              "      border-color: transparent;\n",
              "      border-bottom-color: var(--fill-color);\n",
              "    }\n",
              "  }\n",
              "</style>\n",
              "\n",
              "  <script>\n",
              "    async function quickchart(key) {\n",
              "      const quickchartButtonEl =\n",
              "        document.querySelector('#' + key + ' button');\n",
              "      quickchartButtonEl.disabled = true;  // To prevent multiple clicks.\n",
              "      quickchartButtonEl.classList.add('colab-df-spinner');\n",
              "      try {\n",
              "        const charts = await google.colab.kernel.invokeFunction(\n",
              "            'suggestCharts', [key], {});\n",
              "      } catch (error) {\n",
              "        console.error('Error during call to suggestCharts:', error);\n",
              "      }\n",
              "      quickchartButtonEl.classList.remove('colab-df-spinner');\n",
              "      quickchartButtonEl.classList.add('colab-df-quickchart-complete');\n",
              "    }\n",
              "    (() => {\n",
              "      let quickchartButtonEl =\n",
              "        document.querySelector('#df-e84bdee6-ef39-4838-9d34-30836eeb63a8 button');\n",
              "      quickchartButtonEl.style.display =\n",
              "        google.colab.kernel.accessAllowed ? 'block' : 'none';\n",
              "    })();\n",
              "  </script>\n",
              "</div>\n",
              "\n",
              "  <div id=\"id_f529ba37-b238-460e-81a0-c768d8c69c95\">\n",
              "    <style>\n",
              "      .colab-df-generate {\n",
              "        background-color: #E8F0FE;\n",
              "        border: none;\n",
              "        border-radius: 50%;\n",
              "        cursor: pointer;\n",
              "        display: none;\n",
              "        fill: #1967D2;\n",
              "        height: 32px;\n",
              "        padding: 0 0 0 0;\n",
              "        width: 32px;\n",
              "      }\n",
              "\n",
              "      .colab-df-generate:hover {\n",
              "        background-color: #E2EBFA;\n",
              "        box-shadow: 0px 1px 2px rgba(60, 64, 67, 0.3), 0px 1px 3px 1px rgba(60, 64, 67, 0.15);\n",
              "        fill: #174EA6;\n",
              "      }\n",
              "\n",
              "      [theme=dark] .colab-df-generate {\n",
              "        background-color: #3B4455;\n",
              "        fill: #D2E3FC;\n",
              "      }\n",
              "\n",
              "      [theme=dark] .colab-df-generate:hover {\n",
              "        background-color: #434B5C;\n",
              "        box-shadow: 0px 1px 3px 1px rgba(0, 0, 0, 0.15);\n",
              "        filter: drop-shadow(0px 1px 2px rgba(0, 0, 0, 0.3));\n",
              "        fill: #FFFFFF;\n",
              "      }\n",
              "    </style>\n",
              "    <button class=\"colab-df-generate\" onclick=\"generateWithVariable('train_dataset')\"\n",
              "            title=\"Generate code using this dataframe.\"\n",
              "            style=\"display:none;\">\n",
              "\n",
              "  <svg xmlns=\"http://www.w3.org/2000/svg\" height=\"24px\"viewBox=\"0 0 24 24\"\n",
              "       width=\"24px\">\n",
              "    <path d=\"M7,19H8.4L18.45,9,17,7.55,7,17.6ZM5,21V16.75L18.45,3.32a2,2,0,0,1,2.83,0l1.4,1.43a1.91,1.91,0,0,1,.58,1.4,1.91,1.91,0,0,1-.58,1.4L9.25,21ZM18.45,9,17,7.55Zm-12,3A5.31,5.31,0,0,0,4.9,8.1,5.31,5.31,0,0,0,1,6.5,5.31,5.31,0,0,0,4.9,4.9,5.31,5.31,0,0,0,6.5,1,5.31,5.31,0,0,0,8.1,4.9,5.31,5.31,0,0,0,12,6.5,5.46,5.46,0,0,0,6.5,12Z\"/>\n",
              "  </svg>\n",
              "    </button>\n",
              "    <script>\n",
              "      (() => {\n",
              "      const buttonEl =\n",
              "        document.querySelector('#id_f529ba37-b238-460e-81a0-c768d8c69c95 button.colab-df-generate');\n",
              "      buttonEl.style.display =\n",
              "        google.colab.kernel.accessAllowed ? 'block' : 'none';\n",
              "\n",
              "      buttonEl.onclick = () => {\n",
              "        google.colab.notebook.generateWithVariable('train_dataset');\n",
              "      }\n",
              "      })();\n",
              "    </script>\n",
              "  </div>\n",
              "\n",
              "    </div>\n",
              "  </div>\n"
            ]
          },
          "metadata": {},
          "execution_count": 12
        }
      ]
    },
    {
      "cell_type": "markdown",
      "source": [
        "#### 1.2.5. 전체 길이가 10 이하이거나 단어가 5개 이하인 데이터 제거"
      ],
      "metadata": {
        "id": "jWOxfIWK9fdd"
      }
    },
    {
      "cell_type": "code",
      "source": [
        "# 전체 길이가 10 이하이거나 전체 단어 개수가 5개 이하인 데이터를 필터링합니다.\n",
        "train_dataset = train_dataset[train_dataset.document.apply(lambda x: len(str(x)) > 10 and len(str(x).split()) > 5)].reset_index(drop=True)\n",
        "train_dataset"
      ],
      "metadata": {
        "colab": {
          "base_uri": "https://localhost:8080/",
          "height": 424
        },
        "id": "Pp-PwtlL9AZJ",
        "outputId": "3da616c9-1771-42c5-e817-62bfb8051cd9"
      },
      "execution_count": 13,
      "outputs": [
        {
          "output_type": "execute_result",
          "data": {
            "text/plain": [
              "            id                                           document  label\n",
              "0      8544678                          평점들은 나쁘진 않지만 짜리는 더더욱 아니잖아      0\n",
              "1      8932678  갈수록 개판되가는 중국영화 유치하고 내용없음 폼잡다 말도안되는 무기에 유치한남무 그...      0\n",
              "2      6242223                     이별의 아픔뒤에 찾아오는 새로운 인연의 사람이 그렇지는      1\n",
              "3      6900881  청춘은 아름답다 아름다움은 이성을 흔들어 놓는다 찰나의 아름다움을 포착한 섬세하고 ...      1\n",
              "4      9629375                       보이는 반전이었지만 영화의 흡인력은 사라지지 않았다      1\n",
              "...        ...                                                ...    ...\n",
              "15150  2513342                     목소리 보이지는 않지만 아니다 어색하고 면에서 독창성이      0\n",
              "15151  5494272                  액션영화로 기대하지말고 스릴러영화라 생각하고 괜찮은 영화인듯      1\n",
              "15152  4608761             오랜만에 로긴했네ㅋㅋ 킹왕짱 쌈뽕한 영화를 만났습니다 강렬하게 육쾌함      1\n",
              "15153  5308387                     박약들이나 하는거다 탈영은 주인공 김대희 닮았고 이등병      0\n",
              "15154  5802125                          봐서는 재미도 기분만 잡치고 세트장에서 해먹네      0\n",
              "\n",
              "[15155 rows x 3 columns]"
            ],
            "text/html": [
              "\n",
              "  <div id=\"df-fb4479ce-f068-4d4f-ade6-6dda10e8e930\" class=\"colab-df-container\">\n",
              "    <div>\n",
              "<style scoped>\n",
              "    .dataframe tbody tr th:only-of-type {\n",
              "        vertical-align: middle;\n",
              "    }\n",
              "\n",
              "    .dataframe tbody tr th {\n",
              "        vertical-align: top;\n",
              "    }\n",
              "\n",
              "    .dataframe thead th {\n",
              "        text-align: right;\n",
              "    }\n",
              "</style>\n",
              "<table border=\"1\" class=\"dataframe\">\n",
              "  <thead>\n",
              "    <tr style=\"text-align: right;\">\n",
              "      <th></th>\n",
              "      <th>id</th>\n",
              "      <th>document</th>\n",
              "      <th>label</th>\n",
              "    </tr>\n",
              "  </thead>\n",
              "  <tbody>\n",
              "    <tr>\n",
              "      <th>0</th>\n",
              "      <td>8544678</td>\n",
              "      <td>평점들은 나쁘진 않지만 짜리는 더더욱 아니잖아</td>\n",
              "      <td>0</td>\n",
              "    </tr>\n",
              "    <tr>\n",
              "      <th>1</th>\n",
              "      <td>8932678</td>\n",
              "      <td>갈수록 개판되가는 중국영화 유치하고 내용없음 폼잡다 말도안되는 무기에 유치한남무 그...</td>\n",
              "      <td>0</td>\n",
              "    </tr>\n",
              "    <tr>\n",
              "      <th>2</th>\n",
              "      <td>6242223</td>\n",
              "      <td>이별의 아픔뒤에 찾아오는 새로운 인연의 사람이 그렇지는</td>\n",
              "      <td>1</td>\n",
              "    </tr>\n",
              "    <tr>\n",
              "      <th>3</th>\n",
              "      <td>6900881</td>\n",
              "      <td>청춘은 아름답다 아름다움은 이성을 흔들어 놓는다 찰나의 아름다움을 포착한 섬세하고 ...</td>\n",
              "      <td>1</td>\n",
              "    </tr>\n",
              "    <tr>\n",
              "      <th>4</th>\n",
              "      <td>9629375</td>\n",
              "      <td>보이는 반전이었지만 영화의 흡인력은 사라지지 않았다</td>\n",
              "      <td>1</td>\n",
              "    </tr>\n",
              "    <tr>\n",
              "      <th>...</th>\n",
              "      <td>...</td>\n",
              "      <td>...</td>\n",
              "      <td>...</td>\n",
              "    </tr>\n",
              "    <tr>\n",
              "      <th>15150</th>\n",
              "      <td>2513342</td>\n",
              "      <td>목소리 보이지는 않지만 아니다 어색하고 면에서 독창성이</td>\n",
              "      <td>0</td>\n",
              "    </tr>\n",
              "    <tr>\n",
              "      <th>15151</th>\n",
              "      <td>5494272</td>\n",
              "      <td>액션영화로 기대하지말고 스릴러영화라 생각하고 괜찮은 영화인듯</td>\n",
              "      <td>1</td>\n",
              "    </tr>\n",
              "    <tr>\n",
              "      <th>15152</th>\n",
              "      <td>4608761</td>\n",
              "      <td>오랜만에 로긴했네ㅋㅋ 킹왕짱 쌈뽕한 영화를 만났습니다 강렬하게 육쾌함</td>\n",
              "      <td>1</td>\n",
              "    </tr>\n",
              "    <tr>\n",
              "      <th>15153</th>\n",
              "      <td>5308387</td>\n",
              "      <td>박약들이나 하는거다 탈영은 주인공 김대희 닮았고 이등병</td>\n",
              "      <td>0</td>\n",
              "    </tr>\n",
              "    <tr>\n",
              "      <th>15154</th>\n",
              "      <td>5802125</td>\n",
              "      <td>봐서는 재미도 기분만 잡치고 세트장에서 해먹네</td>\n",
              "      <td>0</td>\n",
              "    </tr>\n",
              "  </tbody>\n",
              "</table>\n",
              "<p>15155 rows × 3 columns</p>\n",
              "</div>\n",
              "    <div class=\"colab-df-buttons\">\n",
              "\n",
              "  <div class=\"colab-df-container\">\n",
              "    <button class=\"colab-df-convert\" onclick=\"convertToInteractive('df-fb4479ce-f068-4d4f-ade6-6dda10e8e930')\"\n",
              "            title=\"Convert this dataframe to an interactive table.\"\n",
              "            style=\"display:none;\">\n",
              "\n",
              "  <svg xmlns=\"http://www.w3.org/2000/svg\" height=\"24px\" viewBox=\"0 -960 960 960\">\n",
              "    <path d=\"M120-120v-720h720v720H120Zm60-500h600v-160H180v160Zm220 220h160v-160H400v160Zm0 220h160v-160H400v160ZM180-400h160v-160H180v160Zm440 0h160v-160H620v160ZM180-180h160v-160H180v160Zm440 0h160v-160H620v160Z\"/>\n",
              "  </svg>\n",
              "    </button>\n",
              "\n",
              "  <style>\n",
              "    .colab-df-container {\n",
              "      display:flex;\n",
              "      gap: 12px;\n",
              "    }\n",
              "\n",
              "    .colab-df-convert {\n",
              "      background-color: #E8F0FE;\n",
              "      border: none;\n",
              "      border-radius: 50%;\n",
              "      cursor: pointer;\n",
              "      display: none;\n",
              "      fill: #1967D2;\n",
              "      height: 32px;\n",
              "      padding: 0 0 0 0;\n",
              "      width: 32px;\n",
              "    }\n",
              "\n",
              "    .colab-df-convert:hover {\n",
              "      background-color: #E2EBFA;\n",
              "      box-shadow: 0px 1px 2px rgba(60, 64, 67, 0.3), 0px 1px 3px 1px rgba(60, 64, 67, 0.15);\n",
              "      fill: #174EA6;\n",
              "    }\n",
              "\n",
              "    .colab-df-buttons div {\n",
              "      margin-bottom: 4px;\n",
              "    }\n",
              "\n",
              "    [theme=dark] .colab-df-convert {\n",
              "      background-color: #3B4455;\n",
              "      fill: #D2E3FC;\n",
              "    }\n",
              "\n",
              "    [theme=dark] .colab-df-convert:hover {\n",
              "      background-color: #434B5C;\n",
              "      box-shadow: 0px 1px 3px 1px rgba(0, 0, 0, 0.15);\n",
              "      filter: drop-shadow(0px 1px 2px rgba(0, 0, 0, 0.3));\n",
              "      fill: #FFFFFF;\n",
              "    }\n",
              "  </style>\n",
              "\n",
              "    <script>\n",
              "      const buttonEl =\n",
              "        document.querySelector('#df-fb4479ce-f068-4d4f-ade6-6dda10e8e930 button.colab-df-convert');\n",
              "      buttonEl.style.display =\n",
              "        google.colab.kernel.accessAllowed ? 'block' : 'none';\n",
              "\n",
              "      async function convertToInteractive(key) {\n",
              "        const element = document.querySelector('#df-fb4479ce-f068-4d4f-ade6-6dda10e8e930');\n",
              "        const dataTable =\n",
              "          await google.colab.kernel.invokeFunction('convertToInteractive',\n",
              "                                                    [key], {});\n",
              "        if (!dataTable) return;\n",
              "\n",
              "        const docLinkHtml = 'Like what you see? Visit the ' +\n",
              "          '<a target=\"_blank\" href=https://colab.research.google.com/notebooks/data_table.ipynb>data table notebook</a>'\n",
              "          + ' to learn more about interactive tables.';\n",
              "        element.innerHTML = '';\n",
              "        dataTable['output_type'] = 'display_data';\n",
              "        await google.colab.output.renderOutput(dataTable, element);\n",
              "        const docLink = document.createElement('div');\n",
              "        docLink.innerHTML = docLinkHtml;\n",
              "        element.appendChild(docLink);\n",
              "      }\n",
              "    </script>\n",
              "  </div>\n",
              "\n",
              "\n",
              "<div id=\"df-637a9af7-e75c-4939-a150-973772351678\">\n",
              "  <button class=\"colab-df-quickchart\" onclick=\"quickchart('df-637a9af7-e75c-4939-a150-973772351678')\"\n",
              "            title=\"Suggest charts\"\n",
              "            style=\"display:none;\">\n",
              "\n",
              "<svg xmlns=\"http://www.w3.org/2000/svg\" height=\"24px\"viewBox=\"0 0 24 24\"\n",
              "     width=\"24px\">\n",
              "    <g>\n",
              "        <path d=\"M19 3H5c-1.1 0-2 .9-2 2v14c0 1.1.9 2 2 2h14c1.1 0 2-.9 2-2V5c0-1.1-.9-2-2-2zM9 17H7v-7h2v7zm4 0h-2V7h2v10zm4 0h-2v-4h2v4z\"/>\n",
              "    </g>\n",
              "</svg>\n",
              "  </button>\n",
              "\n",
              "<style>\n",
              "  .colab-df-quickchart {\n",
              "      --bg-color: #E8F0FE;\n",
              "      --fill-color: #1967D2;\n",
              "      --hover-bg-color: #E2EBFA;\n",
              "      --hover-fill-color: #174EA6;\n",
              "      --disabled-fill-color: #AAA;\n",
              "      --disabled-bg-color: #DDD;\n",
              "  }\n",
              "\n",
              "  [theme=dark] .colab-df-quickchart {\n",
              "      --bg-color: #3B4455;\n",
              "      --fill-color: #D2E3FC;\n",
              "      --hover-bg-color: #434B5C;\n",
              "      --hover-fill-color: #FFFFFF;\n",
              "      --disabled-bg-color: #3B4455;\n",
              "      --disabled-fill-color: #666;\n",
              "  }\n",
              "\n",
              "  .colab-df-quickchart {\n",
              "    background-color: var(--bg-color);\n",
              "    border: none;\n",
              "    border-radius: 50%;\n",
              "    cursor: pointer;\n",
              "    display: none;\n",
              "    fill: var(--fill-color);\n",
              "    height: 32px;\n",
              "    padding: 0;\n",
              "    width: 32px;\n",
              "  }\n",
              "\n",
              "  .colab-df-quickchart:hover {\n",
              "    background-color: var(--hover-bg-color);\n",
              "    box-shadow: 0 1px 2px rgba(60, 64, 67, 0.3), 0 1px 3px 1px rgba(60, 64, 67, 0.15);\n",
              "    fill: var(--button-hover-fill-color);\n",
              "  }\n",
              "\n",
              "  .colab-df-quickchart-complete:disabled,\n",
              "  .colab-df-quickchart-complete:disabled:hover {\n",
              "    background-color: var(--disabled-bg-color);\n",
              "    fill: var(--disabled-fill-color);\n",
              "    box-shadow: none;\n",
              "  }\n",
              "\n",
              "  .colab-df-spinner {\n",
              "    border: 2px solid var(--fill-color);\n",
              "    border-color: transparent;\n",
              "    border-bottom-color: var(--fill-color);\n",
              "    animation:\n",
              "      spin 1s steps(1) infinite;\n",
              "  }\n",
              "\n",
              "  @keyframes spin {\n",
              "    0% {\n",
              "      border-color: transparent;\n",
              "      border-bottom-color: var(--fill-color);\n",
              "      border-left-color: var(--fill-color);\n",
              "    }\n",
              "    20% {\n",
              "      border-color: transparent;\n",
              "      border-left-color: var(--fill-color);\n",
              "      border-top-color: var(--fill-color);\n",
              "    }\n",
              "    30% {\n",
              "      border-color: transparent;\n",
              "      border-left-color: var(--fill-color);\n",
              "      border-top-color: var(--fill-color);\n",
              "      border-right-color: var(--fill-color);\n",
              "    }\n",
              "    40% {\n",
              "      border-color: transparent;\n",
              "      border-right-color: var(--fill-color);\n",
              "      border-top-color: var(--fill-color);\n",
              "    }\n",
              "    60% {\n",
              "      border-color: transparent;\n",
              "      border-right-color: var(--fill-color);\n",
              "    }\n",
              "    80% {\n",
              "      border-color: transparent;\n",
              "      border-right-color: var(--fill-color);\n",
              "      border-bottom-color: var(--fill-color);\n",
              "    }\n",
              "    90% {\n",
              "      border-color: transparent;\n",
              "      border-bottom-color: var(--fill-color);\n",
              "    }\n",
              "  }\n",
              "</style>\n",
              "\n",
              "  <script>\n",
              "    async function quickchart(key) {\n",
              "      const quickchartButtonEl =\n",
              "        document.querySelector('#' + key + ' button');\n",
              "      quickchartButtonEl.disabled = true;  // To prevent multiple clicks.\n",
              "      quickchartButtonEl.classList.add('colab-df-spinner');\n",
              "      try {\n",
              "        const charts = await google.colab.kernel.invokeFunction(\n",
              "            'suggestCharts', [key], {});\n",
              "      } catch (error) {\n",
              "        console.error('Error during call to suggestCharts:', error);\n",
              "      }\n",
              "      quickchartButtonEl.classList.remove('colab-df-spinner');\n",
              "      quickchartButtonEl.classList.add('colab-df-quickchart-complete');\n",
              "    }\n",
              "    (() => {\n",
              "      let quickchartButtonEl =\n",
              "        document.querySelector('#df-637a9af7-e75c-4939-a150-973772351678 button');\n",
              "      quickchartButtonEl.style.display =\n",
              "        google.colab.kernel.accessAllowed ? 'block' : 'none';\n",
              "    })();\n",
              "  </script>\n",
              "</div>\n",
              "\n",
              "  <div id=\"id_a3fe85f4-0c5a-4f39-8a70-d8ccb3e2751b\">\n",
              "    <style>\n",
              "      .colab-df-generate {\n",
              "        background-color: #E8F0FE;\n",
              "        border: none;\n",
              "        border-radius: 50%;\n",
              "        cursor: pointer;\n",
              "        display: none;\n",
              "        fill: #1967D2;\n",
              "        height: 32px;\n",
              "        padding: 0 0 0 0;\n",
              "        width: 32px;\n",
              "      }\n",
              "\n",
              "      .colab-df-generate:hover {\n",
              "        background-color: #E2EBFA;\n",
              "        box-shadow: 0px 1px 2px rgba(60, 64, 67, 0.3), 0px 1px 3px 1px rgba(60, 64, 67, 0.15);\n",
              "        fill: #174EA6;\n",
              "      }\n",
              "\n",
              "      [theme=dark] .colab-df-generate {\n",
              "        background-color: #3B4455;\n",
              "        fill: #D2E3FC;\n",
              "      }\n",
              "\n",
              "      [theme=dark] .colab-df-generate:hover {\n",
              "        background-color: #434B5C;\n",
              "        box-shadow: 0px 1px 3px 1px rgba(0, 0, 0, 0.15);\n",
              "        filter: drop-shadow(0px 1px 2px rgba(0, 0, 0, 0.3));\n",
              "        fill: #FFFFFF;\n",
              "      }\n",
              "    </style>\n",
              "    <button class=\"colab-df-generate\" onclick=\"generateWithVariable('train_dataset')\"\n",
              "            title=\"Generate code using this dataframe.\"\n",
              "            style=\"display:none;\">\n",
              "\n",
              "  <svg xmlns=\"http://www.w3.org/2000/svg\" height=\"24px\"viewBox=\"0 0 24 24\"\n",
              "       width=\"24px\">\n",
              "    <path d=\"M7,19H8.4L18.45,9,17,7.55,7,17.6ZM5,21V16.75L18.45,3.32a2,2,0,0,1,2.83,0l1.4,1.43a1.91,1.91,0,0,1,.58,1.4,1.91,1.91,0,0,1-.58,1.4L9.25,21ZM18.45,9,17,7.55Zm-12,3A5.31,5.31,0,0,0,4.9,8.1,5.31,5.31,0,0,0,1,6.5,5.31,5.31,0,0,0,4.9,4.9,5.31,5.31,0,0,0,6.5,1,5.31,5.31,0,0,0,8.1,4.9,5.31,5.31,0,0,0,12,6.5,5.46,5.46,0,0,0,6.5,12Z\"/>\n",
              "  </svg>\n",
              "    </button>\n",
              "    <script>\n",
              "      (() => {\n",
              "      const buttonEl =\n",
              "        document.querySelector('#id_a3fe85f4-0c5a-4f39-8a70-d8ccb3e2751b button.colab-df-generate');\n",
              "      buttonEl.style.display =\n",
              "        google.colab.kernel.accessAllowed ? 'block' : 'none';\n",
              "\n",
              "      buttonEl.onclick = () => {\n",
              "        google.colab.notebook.generateWithVariable('train_dataset');\n",
              "      }\n",
              "      })();\n",
              "    </script>\n",
              "  </div>\n",
              "\n",
              "    </div>\n",
              "  </div>\n"
            ]
          },
          "metadata": {},
          "execution_count": 13
        }
      ]
    },
    {
      "cell_type": "markdown",
      "source": [
        "#### 1.2.6. 한국어 불용어 제거"
      ],
      "metadata": {
        "id": "1icLy5B99jmL"
      }
    },
    {
      "cell_type": "code",
      "source": [
        "!pip install konlpy"
      ],
      "metadata": {
        "colab": {
          "base_uri": "https://localhost:8080/"
        },
        "id": "-47-SKKn9sUF",
        "outputId": "7de2d08c-0ec5-4d11-a599-cd897e85382d"
      },
      "execution_count": 14,
      "outputs": [
        {
          "output_type": "stream",
          "name": "stdout",
          "text": [
            "Requirement already satisfied: konlpy in /usr/local/lib/python3.10/dist-packages (0.6.0)\n",
            "Requirement already satisfied: JPype1>=0.7.0 in /usr/local/lib/python3.10/dist-packages (from konlpy) (1.4.1)\n",
            "Requirement already satisfied: lxml>=4.1.0 in /usr/local/lib/python3.10/dist-packages (from konlpy) (4.9.3)\n",
            "Requirement already satisfied: numpy>=1.6 in /usr/local/lib/python3.10/dist-packages (from konlpy) (1.23.5)\n",
            "Requirement already satisfied: packaging in /usr/local/lib/python3.10/dist-packages (from JPype1>=0.7.0->konlpy) (23.2)\n"
          ]
        }
      ]
    },
    {
      "cell_type": "code",
      "source": [
        "from konlpy.tag import Okt"
      ],
      "metadata": {
        "id": "K8pA8PYF9nFh"
      },
      "execution_count": 15,
      "outputs": []
    },
    {
      "cell_type": "code",
      "source": [
        "# 불용어 정의\n",
        "stopwords = ['의','가','이','은','들','는','좀','잘','걍','과','도','를','으로','자','에','와','한','하다']"
      ],
      "metadata": {
        "id": "622XvK0K9nTi"
      },
      "execution_count": 16,
      "outputs": []
    },
    {
      "cell_type": "code",
      "source": [
        "train_dataset = list(train_dataset['document'])"
      ],
      "metadata": {
        "id": "SKPCffpC-BhK"
      },
      "execution_count": 17,
      "outputs": []
    },
    {
      "cell_type": "code",
      "source": [
        "# 형태소 분석기 OKT를 사용한 토큰화 작업\n",
        "okt = Okt()\n",
        "\n",
        "tokenized_data = []\n",
        "\n",
        "for sentence in train_dataset:\n",
        "    tokenized_sentence = okt.morphs(sentence, stem=True) # 토큰화\n",
        "    stopwords_removed_sentence = [word for word in tokenized_sentence if not word in stopwords] # 불용어 제거\n",
        "    tokenized_data.append(stopwords_removed_sentence)"
      ],
      "metadata": {
        "id": "e6YTX-2h9zN0"
      },
      "execution_count": 18,
      "outputs": []
    },
    {
      "cell_type": "code",
      "source": [
        "tokenized_data[0]"
      ],
      "metadata": {
        "colab": {
          "base_uri": "https://localhost:8080/"
        },
        "id": "mbeJhy7AupoV",
        "outputId": "eba0f8c8-848d-4ed6-9a0e-132932bb0238"
      },
      "execution_count": 19,
      "outputs": [
        {
          "output_type": "execute_result",
          "data": {
            "text/plain": [
              "['평점', '나쁘다', '않다', '짜다', '리', '더', '더욱', '아니다']"
            ]
          },
          "metadata": {},
          "execution_count": 19
        }
      ]
    },
    {
      "cell_type": "markdown",
      "source": [
        "#### 1.2.7. 데이터 분포 확인"
      ],
      "metadata": {
        "id": "Gd--0sL1-cy0"
      }
    },
    {
      "cell_type": "code",
      "source": [
        "import matplotlib.pyplot as plt"
      ],
      "metadata": {
        "id": "SQuIl5DU-jOT"
      },
      "execution_count": 20,
      "outputs": []
    },
    {
      "cell_type": "code",
      "source": [
        "print('리뷰의 최대 길이 :',max(len(review) for review in tokenized_data))\n",
        "print('리뷰의 평균 길이 :',sum(map(len, tokenized_data))/len(tokenized_data))\n",
        "plt.hist([len(review) for review in tokenized_data], bins=50)\n",
        "plt.xlabel('length of samples')\n",
        "plt.ylabel('number of samples')\n",
        "plt.show()"
      ],
      "metadata": {
        "colab": {
          "base_uri": "https://localhost:8080/",
          "height": 486
        },
        "id": "kqYcmJ3S-hLV",
        "outputId": "2b33a5b0-dc6e-4df3-f1d1-4f358b064296"
      },
      "execution_count": 21,
      "outputs": [
        {
          "output_type": "stream",
          "name": "stdout",
          "text": [
            "리뷰의 최대 길이 : 61\n",
            "리뷰의 평균 길이 : 16.23523589574398\n"
          ]
        },
        {
          "output_type": "display_data",
          "data": {
            "text/plain": [
              "<Figure size 640x480 with 1 Axes>"
            ],
            "image/png": "[encoded data removed]"
          },
          "metadata": {}
        }
      ]
    },
    {
      "cell_type": "markdown",
      "source": [
        "## 1.3. 워드 임베딩 구축"
      ],
      "metadata": {
        "id": "wapODq05-klD"
      }
    },
    {
      "cell_type": "code",
      "source": [
        "from gensim.models import Word2Vec"
      ],
      "metadata": {
        "id": "Qr4ZLX1x_By4"
      },
      "execution_count": 22,
      "outputs": []
    },
    {
      "cell_type": "markdown",
      "source": [
        "이번에는 gensim에서 제공하는 Word2Vec 모듈을 사용하여 토큰화 된 네이버 영화 리뷰 데이터를 학습합니다."
      ],
      "metadata": {
        "id": "fJUXgsW9_Ddq"
      }
    },
    {
      "cell_type": "code",
      "source": [
        "embedding_dim = 100\n",
        "\n",
        "# initiate the model with 100 dimensions of vectors, 5 words to look before and after each focus word, etc.\n",
        "# and perform the first epoch of training\n",
        "model = Word2Vec(\n",
        "    sentences = tokenized_data,\n",
        "    # size = 100,\n",
        "    window = 5,\n",
        "    min_count = 5,\n",
        "    workers = 4,\n",
        "    sg = 0\n",
        ")"
      ],
      "metadata": {
        "id": "AedCiUgo_Cic"
      },
      "execution_count": 23,
      "outputs": []
    },
    {
      "cell_type": "markdown",
      "source": [
        "학습이 완료되었으면, 이번에 구축한 임베딩 행렬의 크기를 알아봅시다!"
      ],
      "metadata": {
        "id": "2GK529PS_XE4"
      }
    },
    {
      "cell_type": "code",
      "source": [
        "print(model.wv.vectors.shape)"
      ],
      "metadata": {
        "colab": {
          "base_uri": "https://localhost:8080/"
        },
        "id": "U3dlpsIM_bF-",
        "outputId": "62b02fe5-146e-46be-aa07-f0cdf728f889"
      },
      "execution_count": 24,
      "outputs": [
        {
          "output_type": "stream",
          "name": "stdout",
          "text": [
            "(5079, 100)\n"
          ]
        }
      ]
    },
    {
      "cell_type": "markdown",
      "source": [
        "단어 사전에는 총 5079개의 단어가 존재하며, 각각의 단어는 우리가 미리 설정한 embedding_dim=100 차원으로 구성되어 있음"
      ],
      "metadata": {
        "id": "7b9CVoiS_eO0"
      }
    },
    {
      "cell_type": "code",
      "source": [
        "word_vectors = model.wv\n",
        "vocabs = list(word_vectors.key_to_index.keys())\n"
      ],
      "metadata": {
        "id": "HlhK0ydQCCSf"
      },
      "execution_count": 25,
      "outputs": []
    },
    {
      "cell_type": "code",
      "source": [
        "vocabs[:20]"
      ],
      "metadata": {
        "colab": {
          "base_uri": "https://localhost:8080/"
        },
        "id": "sIYLK_5PCIEA",
        "outputId": "88a7ec33-644c-4d33-d824-e56e3591375f"
      },
      "execution_count": 26,
      "outputs": [
        {
          "output_type": "execute_result",
          "data": {
            "text/plain": [
              "['영화',\n",
              " '보다',\n",
              " '을',\n",
              " '이다',\n",
              " '있다',\n",
              " '적',\n",
              " '없다',\n",
              " '로',\n",
              " '좋다',\n",
              " '만',\n",
              " '아니다',\n",
              " '되다',\n",
              " '에서',\n",
              " '같다',\n",
              " '다',\n",
              " '나오다',\n",
              " '생각',\n",
              " '인',\n",
              " '스토리',\n",
              " '연기']"
            ]
          },
          "metadata": {},
          "execution_count": 26
        }
      ]
    },
    {
      "cell_type": "markdown",
      "source": [
        "gensim 패키지에서 제공하는 most_similar 메소드를 사용하여, 원하는 단어와 유사한 단어들을 찾아봅시다!"
      ],
      "metadata": {
        "id": "scQR1WpW_ltV"
      }
    },
    {
      "cell_type": "code",
      "source": [
        "for sim_word in model.wv.most_similar(\"마블\"):\n",
        "  print(sim_word)"
      ],
      "metadata": {
        "colab": {
          "base_uri": "https://localhost:8080/"
        },
        "id": "nQJtlti0_q7h",
        "outputId": "24702875-9abb-419f-c793-6cfaa61b43e2"
      },
      "execution_count": 27,
      "outputs": [
        {
          "output_type": "stream",
          "name": "stdout",
          "text": [
            "('첫', 0.9896043539047241)\n",
            "('춤', 0.9887836575508118)\n",
            "('소름', 0.9879850149154663)\n",
            "('ㅠㅠㅠ', 0.9878511428833008)\n",
            "('남다', 0.9876872897148132)\n",
            "('완결', 0.987553060054779)\n",
            "('열심히', 0.9872277975082397)\n",
            "('극장판', 0.9872030019760132)\n",
            "('까지도', 0.9871425032615662)\n",
            "('로다', 0.9870924949645996)\n"
          ]
        }
      ]
    },
    {
      "cell_type": "code",
      "source": [
        "for sim_word in model.wv.most_similar(\"슬픔\"):\n",
        "  print(sim_word)"
      ],
      "metadata": {
        "colab": {
          "base_uri": "https://localhost:8080/"
        },
        "id": "2dkC-vfL_2yt",
        "outputId": "131c2691-266d-4424-c4af-d2cf74a174f4"
      },
      "execution_count": 28,
      "outputs": [
        {
          "output_type": "stream",
          "name": "stdout",
          "text": [
            "('아버지', 0.9983937740325928)\n",
            "('한다는', 0.998352587223053)\n",
            "('삶', 0.9981690645217896)\n",
            "('추억', 0.9981415867805481)\n",
            "('세상', 0.9981372952461243)\n",
            "('죽음', 0.9981117248535156)\n",
            "('진정하다', 0.9980825185775757)\n",
            "('부모', 0.9980553388595581)\n",
            "('간', 0.9980202317237854)\n",
            "('고맙다', 0.9980034828186035)\n"
          ]
        }
      ]
    },
    {
      "cell_type": "code",
      "source": [
        "for sim_word in model.wv.most_similar(\"짜다\"):\n",
        "  print(sim_word)"
      ],
      "metadata": {
        "colab": {
          "base_uri": "https://localhost:8080/"
        },
        "id": "iBiphgbsvi0k",
        "outputId": "e780964e-4d79-4065-c16b-99a704656d48"
      },
      "execution_count": 29,
      "outputs": [
        {
          "output_type": "stream",
          "name": "stdout",
          "text": [
            "('점수', 0.996618390083313)\n",
            "('주기', 0.9965268969535828)\n",
            "('적당하다', 0.9961923360824585)\n",
            "('대가', 0.996044397354126)\n",
            "('점주', 0.9959439039230347)\n",
            "('찍다', 0.9958831071853638)\n",
            "('평론가', 0.9954702258110046)\n",
            "('등록', 0.9954339861869812)\n",
            "('차라리', 0.9954171180725098)\n",
            "('도대체', 0.9954050183296204)\n"
          ]
        }
      ]
    },
    {
      "cell_type": "markdown",
      "source": [
        "혹은 similarity 메소드로 단어 간 유사도를 계산해볼 수도 있음"
      ],
      "metadata": {
        "id": "4eEES_I2AG3L"
      }
    },
    {
      "cell_type": "code",
      "source": [
        "word_vectors = model.wv\n",
        "vocabs = list(word_vectors.key_to_index.keys())\n",
        "\n",
        "if '슬픔' in vocabs and '눈물' in vocabs:\n",
        "    similarity_score = word_vectors.similarity('슬픔', '눈물')\n",
        "    print(f\"슬픔과 눈물의 유사도: {similarity_score}\")\n",
        "else:\n",
        "    print(\"단어가 존재하지 않습니다.\")\n"
      ],
      "metadata": {
        "colab": {
          "base_uri": "https://localhost:8080/"
        },
        "id": "FWMKFNDhAHtC",
        "outputId": "e84c1f2d-809c-4213-c765-f7816b3840f5"
      },
      "execution_count": 30,
      "outputs": [
        {
          "output_type": "stream",
          "name": "stdout",
          "text": [
            "슬픔과 눈물의 유사도: 0.9749342799186707\n"
          ]
        }
      ]
    },
    {
      "cell_type": "code",
      "source": [
        "word_vectors = model.wv\n",
        "vocabs = list(word_vectors.key_to_index.keys())\n",
        "\n",
        "if '슬픔' in vocabs and '재미' in vocabs:\n",
        "    similarity_score = word_vectors.similarity('슬픔', '재미')\n",
        "    print(f\"슬픔과 재미의 유사도: {similarity_score}\")\n",
        "else:\n",
        "    print(\"단어가 존재하지 않습니다.\")\n"
      ],
      "metadata": {
        "colab": {
          "base_uri": "https://localhost:8080/"
        },
        "id": "bBHSy1kyARs3",
        "outputId": "24a62063-5417-4d09-f9cb-d7cf6f6e2461"
      },
      "execution_count": 31,
      "outputs": [
        {
          "output_type": "stream",
          "name": "stdout",
          "text": [
            "슬픔과 재미의 유사도: 0.9226818084716797\n"
          ]
        }
      ]
    },
    {
      "cell_type": "code",
      "source": [
        "word_vectors = model.wv\n",
        "vocabs = list(word_vectors.key_to_index.keys())\n",
        "\n",
        "if '행목' in vocabs and '재미' in vocabs:\n",
        "    similarity_score = word_vectors.similarity('행복', '재미')\n",
        "    print(f\"행복과 재미의 유사도: {similarity_score}\")\n",
        "else:\n",
        "    print(\"단어가 존재하지 않습니다.\")\n"
      ],
      "metadata": {
        "colab": {
          "base_uri": "https://localhost:8080/"
        },
        "id": "sOo1MJPwvxrO",
        "outputId": "168dfad9-ad1c-4153-b335-35cd7557e785"
      },
      "execution_count": 32,
      "outputs": [
        {
          "output_type": "stream",
          "name": "stdout",
          "text": [
            "단어가 존재하지 않습니다.\n"
          ]
        }
      ]
    },
    {
      "cell_type": "markdown",
      "source": [
        "#2. 한국어 워드 임베딩 시각화"
      ],
      "metadata": {
        "id": "29oVtqUs_6iA"
      }
    },
    {
      "cell_type": "markdown",
      "source": [
        "고차원의 벡터를 시각화하기 위해서는 2차원 혹은 3차원으로 벡터를 축소하는 과정이 필요합니다."
      ],
      "metadata": {
        "id": "Vtgreg1vCUmv"
      }
    },
    {
      "cell_type": "markdown",
      "source": [
        "### 2.1. PCA 사용"
      ],
      "metadata": {
        "id": "kI3EEAX2Cdfo"
      }
    },
    {
      "cell_type": "markdown",
      "source": [
        "첫 번째로, PCA라 불리는 대표적인 차원 축소 방식을 사용해볼게요!"
      ],
      "metadata": {
        "id": "CJehahsDCYXw"
      }
    },
    {
      "cell_type": "code",
      "source": [
        "from sklearn.decomposition import PCA"
      ],
      "metadata": {
        "id": "YUU_QO3_ChQt"
      },
      "execution_count": 33,
      "outputs": []
    },
    {
      "cell_type": "code",
      "source": [
        "import matplotlib.font_manager"
      ],
      "metadata": {
        "id": "QXqeym-dDwfL"
      },
      "execution_count": 34,
      "outputs": []
    },
    {
      "cell_type": "code",
      "source": [
        "font_list = matplotlib.font_manager.findSystemFonts(fontpaths=None, fontext='ttf')\n",
        "[matplotlib.font_manager.FontProperties(fname=font).get_name() for font in font_list if 'Nanum' in font]"
      ],
      "metadata": {
        "colab": {
          "base_uri": "https://localhost:8080/"
        },
        "id": "APRKA-ATDyjA",
        "outputId": "c364823e-1afc-43b2-fc14-6cb7bf128987"
      },
      "execution_count": 35,
      "outputs": [
        {
          "output_type": "execute_result",
          "data": {
            "text/plain": [
              "['NanumSquareRound',\n",
              " 'NanumGothic',\n",
              " 'NanumMyeongjo',\n",
              " 'NanumMyeongjo',\n",
              " 'NanumSquareRound',\n",
              " 'NanumGothicCoding',\n",
              " 'NanumBarunGothic',\n",
              " 'NanumGothic',\n",
              " 'NanumSquare',\n",
              " 'NanumBarunGothic',\n",
              " 'NanumSquare',\n",
              " 'NanumGothicCoding']"
            ]
          },
          "metadata": {},
          "execution_count": 35
        }
      ]
    },
    {
      "cell_type": "code",
      "source": [
        "plt.rc('font', family='NanumBarunGothic')"
      ],
      "metadata": {
        "id": "TQXKt_CjEClN"
      },
      "execution_count": 36,
      "outputs": []
    },
    {
      "cell_type": "code",
      "source": [
        "word_vector_list = [word_vectors[word] for word in vocabs]"
      ],
      "metadata": {
        "id": "clm_TcLWC7_T"
      },
      "execution_count": 37,
      "outputs": []
    },
    {
      "cell_type": "code",
      "source": [
        "word_vector_list[0]"
      ],
      "metadata": {
        "colab": {
          "base_uri": "https://localhost:8080/"
        },
        "id": "vM3-w69hDAuQ",
        "outputId": "f90c2dbf-95af-416a-9334-41a5b8e5c5a6"
      },
      "execution_count": 38,
      "outputs": [
        {
          "output_type": "execute_result",
          "data": {
            "text/plain": [
              "array([-0.18511839,  0.17978175,  0.07410257,  0.04794002, -0.04646423,\n",
              "       -0.7801923 ,  0.27740908,  0.91098607, -0.36300778, -0.43015355,\n",
              "        0.0161161 , -0.78623605, -0.24487077,  0.06098358, -0.19318998,\n",
              "       -0.20388979,  0.39186066, -0.2862141 , -0.16731675, -0.78089964,\n",
              "        0.24744259,  0.11574481,  0.13520566, -0.23169197, -0.01727395,\n",
              "        0.22156069, -0.251918  , -0.13469197, -0.5505289 , -0.22501093,\n",
              "        0.7587833 ,  0.01182273,  0.37839782, -0.60167456, -0.2797473 ,\n",
              "        0.34520793,  0.18782058, -0.4619226 ,  0.00757208, -0.5338934 ,\n",
              "       -0.10343252, -0.46093604, -0.3007556 , -0.11563633,  0.497336  ,\n",
              "       -0.13987485, -0.19546205,  0.16762653,  0.30592123,  0.47633353,\n",
              "        0.29670963, -0.24642795, -0.1113417 , -0.1189715 , -0.04445774,\n",
              "        0.24040176,  0.18572985, -0.07184917, -0.2608892 ,  0.38749495,\n",
              "        0.2325596 ,  0.31239074, -0.06179285, -0.20179406, -0.46327814,\n",
              "        0.67377836, -0.05211113,  0.41616496, -0.61789054,  0.4616708 ,\n",
              "       -0.33308086,  0.46757177,  0.53029376, -0.18314758,  0.5478648 ,\n",
              "        0.23490955, -0.09454313, -0.08078908, -0.21050286,  0.00410777,\n",
              "       -0.33312896,  0.20926423, -0.5881365 ,  0.8179857 , -0.25750896,\n",
              "       -0.12060895,  0.14084692,  0.21547551,  0.37556428,  0.2778536 ,\n",
              "        0.62861574,  0.03145473, -0.05899077, -0.08978216,  0.6744013 ,\n",
              "        0.3309368 ,  0.06955351, -0.4762371 ,  0.00719518, -0.16753379],\n",
              "      dtype=float32)"
            ]
          },
          "metadata": {},
          "execution_count": 38
        }
      ]
    },
    {
      "cell_type": "code",
      "source": [
        "pca = PCA(n_components=2)\n",
        "xys = pca.fit_transform(word_vector_list)\n",
        "\n",
        "x_asix = xys[:, 0]\n",
        "y_asix = xys[:, 1]"
      ],
      "metadata": {
        "id": "YATO1J-QCj0O"
      },
      "execution_count": null,
      "outputs": []
    },
    {
      "cell_type": "code",
      "source": [
        "def plot_pca_graph(vocabs, x_asix, y_asix):\n",
        "  plt.figure(figsize=(25, 15))\n",
        "  plt.scatter(x_asix, y_asix, marker = 'o')\n",
        "  for i, v in enumerate(vocabs):\n",
        "    plt.annotate(v, xy=(x_asix[i], y_asix[i]))"
      ],
      "metadata": {
        "id": "4kJoaAUECx3g"
      },
      "execution_count": null,
      "outputs": []
    },
    {
      "cell_type": "code",
      "source": [
        "plot_pca_graph(vocabs, x_asix, y_asix)"
      ],
      "metadata": {
        "id": "Yp2s6LHTDYuL",
        "colab": {
          "base_uri": "https://localhost:8080/",
          "height": 184
        },
        "outputId": "23024c75-41aa-4691-beb3-e861d897dd72"
      },
      "execution_count": 2,
      "outputs": [
        {
          "output_type": "error",
          "ename": "NameError",
          "evalue": "ignored",
          "traceback": [
            "\u001b[0;31m---------------------------------------------------------------------------\u001b[0m",
            "\u001b[0;31mNameError\u001b[0m                                 Traceback (most recent call last)",
            "\u001b[0;32m<ipython-input-2-f14961892301>\u001b[0m in \u001b[0;36m<cell line: 1>\u001b[0;34m()\u001b[0m\n\u001b[0;32m----> 1\u001b[0;31m \u001b[0mplot_pca_graph\u001b[0m\u001b[0;34m(\u001b[0m\u001b[0mvocabs\u001b[0m\u001b[0;34m,\u001b[0m \u001b[0mx_asix\u001b[0m\u001b[0;34m,\u001b[0m \u001b[0my_asix\u001b[0m\u001b[0;34m)\u001b[0m\u001b[0;34m\u001b[0m\u001b[0;34m\u001b[0m\u001b[0m\n\u001b[0m",
            "\u001b[0;31mNameError\u001b[0m: name 'vocabs' is not defined"
          ]
        }
      ]
    },
    {
      "cell_type": "markdown",
      "source": [
        "결과를 보면, 많은 벡터들이 한 곳에 모여있기 때문에 임베딩의 품질을 제대로 확인할 수 없습니다."
      ],
      "metadata": {
        "id": "_sPE6Q7YDhZm"
      }
    },
    {
      "cell_type": "markdown",
      "source": [
        "### 2.2. t-SNE 사용"
      ],
      "metadata": {
        "id": "7xFFwmO1EqiN"
      }
    },
    {
      "cell_type": "markdown",
      "source": [
        "앞서 사용한 PCA가 자주 이용되는 차원 축소 방식이긴 하지만, PCA는 군집의 변별력을 해친다는 단점이 있음"
      ],
      "metadata": {
        "id": "JWJHxfUOEtaF"
      }
    },
    {
      "cell_type": "markdown",
      "source": [
        "이를 개선한 방법이 t-SNE 차원 축소 방식으로 이번에는 t-SNE 방식으로 차원을 축소해볼게요!"
      ],
      "metadata": {
        "id": "Y8gqgKeTE0vd"
      }
    },
    {
      "cell_type": "code",
      "source": [
        "from sklearn.manifold import TSNE"
      ],
      "metadata": {
        "id": "xm9zOVp5E64d"
      },
      "execution_count": null,
      "outputs": []
    },
    {
      "cell_type": "code",
      "source": [
        "tsne = TSNE(learning_rate = 100)\n",
        "transformed = tsne.fit_transform(word_vector_list)\n",
        "\n",
        "x_axis_tsne = transformed[:, 0]\n",
        "y_axis_tsne = transformed[:, 1]"
      ],
      "metadata": {
        "id": "SHQwPBrEE9LR"
      },
      "execution_count": null,
      "outputs": []
    },
    {
      "cell_type": "code",
      "source": [
        "def plot_tsne_graph(vocabs, x_asix, y_asix):\n",
        "  plt.figure(figsize=(30, 30))\n",
        "  plt.scatter(x_asix, y_asix, marker = 'o')\n",
        "  for i, v in enumerate(vocabs):\n",
        "    plt.annotate(v, xy=(x_asix[i], y_asix[i]))"
      ],
      "metadata": {
        "id": "unEDNUNJFiR_"
      },
      "execution_count": null,
      "outputs": []
    },
    {
      "cell_type": "code",
      "source": [
        "plot_tsne_graph(vocabs, x_axis_tsne, y_axis_tsne)"
      ],
      "metadata": {
        "id": "rvcgE7D5FxMs"
      },
      "execution_count": null,
      "outputs": []
    },
    {
      "cell_type": "markdown",
      "source": [
        "### 2.3. t-SNE 고도화"
      ],
      "metadata": {
        "id": "bkat3WRfHuro"
      }
    },
    {
      "cell_type": "markdown",
      "source": [
        "여전히 눈으로 확인하기 어려운데요,\n",
        "\n",
        "Python에서 제공하는 interactive visualization library인 [bokey](https://docs.bokeh.org/en/latest/)를 사용하여 t-SNE를 보기 좋게 시각화해볼게요!"
      ],
      "metadata": {
        "id": "T2yn34QTHeq2"
      }
    },
    {
      "cell_type": "code",
      "source": [
        "import pickle"
      ],
      "metadata": {
        "id": "8g1v_VU6GedC"
      },
      "execution_count": null,
      "outputs": []
    },
    {
      "cell_type": "code",
      "source": [
        "tsne_df = pd.DataFrame(transformed, columns=['x_coord', 'y_coord'])"
      ],
      "metadata": {
        "id": "ZUjhtFYBGSnZ"
      },
      "execution_count": null,
      "outputs": []
    },
    {
      "cell_type": "code",
      "source": [
        "tsne_df"
      ],
      "metadata": {
        "id": "v-odW6VoHUli"
      },
      "execution_count": null,
      "outputs": []
    },
    {
      "cell_type": "code",
      "source": [
        "tsne_df['word'] = vocabs\n",
        "tsne_df"
      ],
      "metadata": {
        "id": "gsG2YSHTHYsU"
      },
      "execution_count": null,
      "outputs": []
    },
    {
      "cell_type": "code",
      "source": [
        "from bokeh.plotting import figure, show, output_notebook\n",
        "from bokeh.models import HoverTool, ColumnDataSource, value"
      ],
      "metadata": {
        "id": "9B2Mft2rG6FB"
      },
      "execution_count": null,
      "outputs": []
    },
    {
      "cell_type": "code",
      "source": [
        "output_notebook()"
      ],
      "metadata": {
        "id": "T47AWOa-HFM2"
      },
      "execution_count": null,
      "outputs": []
    },
    {
      "cell_type": "code",
      "source": [
        "# prepare the data in a form suitable for bokeh.\n",
        "plot_data = ColumnDataSource(tsne_df)\n",
        "\n",
        "# create the plot and configure it\n",
        "tsne_plot = figure(title='t-SNE Word Embeddings',\n",
        "  plot_width = 800,\n",
        "  plot_height = 800,\n",
        "  active_scroll='wheel_zoom'\n",
        ")\n",
        "\n",
        "# add a hover tool to display words on roll-over\n",
        "tsne_plot.add_tools( HoverTool(tooltips = '@word') )\n",
        "\n",
        "tsne_plot.circle(\n",
        "    'x_coord', 'y_coord', source=plot_data,\n",
        "    color='red', line_alpha=0.2, fill_alpha=0.1,\n",
        "    size=10, hover_line_color='orange'\n",
        "  )\n",
        "\n",
        "# adjust visual elements of the plot\n",
        "tsne_plot.xaxis.visible = False\n",
        "tsne_plot.yaxis.visible = False\n",
        "tsne_plot.grid.grid_line_color = None\n",
        "tsne_plot.outline_line_color = None\n",
        "\n",
        "# show time!\n",
        "show(tsne_plot);"
      ],
      "metadata": {
        "id": "sVM44uaKG3rI"
      },
      "execution_count": null,
      "outputs": []
    },
    {
      "cell_type": "markdown",
      "source": [
        "### 2.4. 임베딩 프로젝터 활용"
      ],
      "metadata": {
        "id": "dqkPEhlUId2a"
      }
    },
    {
      "cell_type": "markdown",
      "source": [
        "조금 더 interactive한 분석을 위하여, 이번에는 임베딩 프로젝터(embedding projector)라는 Google이 제공하는 데이터 시각화 도구를 사용하여 우리가 학습한 임베딩 행렬을 시각화하고, 분석해봅시다!"
      ],
      "metadata": {
        "id": "fijaaNJYAdgt"
      }
    },
    {
      "cell_type": "markdown",
      "source": [
        "https://projector.tensorflow.org/"
      ],
      "metadata": {
        "id": "TrtjPnnoIno1"
      }
    },
    {
      "cell_type": "code",
      "source": [
        "from gensim.models import KeyedVectors"
      ],
      "metadata": {
        "id": "ajBb25hGIlDy"
      },
      "execution_count": null,
      "outputs": []
    },
    {
      "cell_type": "code",
      "source": [
        "model.wv.save_word2vec_format('sample_word2vec_embedding')"
      ],
      "metadata": {
        "id": "ngxh-vzrIpnI"
      },
      "execution_count": null,
      "outputs": []
    },
    {
      "cell_type": "code",
      "source": [
        "!python -m gensim.scripts.word2vec2tensor --input sample_word2vec_embedding --output sample_word2vec_embedding"
      ],
      "metadata": {
        "id": "YfpycZ-RIuvm"
      },
      "execution_count": null,
      "outputs": []
    },
    {
      "cell_type": "markdown",
      "source": [
        "이제, Embedding Project 사이트에 들어가서, tensor.tsv, metadata.tsv 파일을 업로드합니다."
      ],
      "metadata": {
        "id": "NYYfOPD3I6qA"
      }
    }
  ]
}