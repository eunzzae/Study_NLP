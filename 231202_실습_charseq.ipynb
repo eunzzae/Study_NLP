{
  "nbformat": 4,
  "nbformat_minor": 0,
  "metadata": {
    "colab": {
      "provenance": [],
      "authorship_tag": "ABX9TyOLWgu38OnQjuhK2lPdwRDn",
      "include_colab_link": true
    },
    "kernelspec": {
      "name": "python3",
      "display_name": "Python 3"
    },
    "language_info": {
      "name": "python"
    }
  },
  "cells": [
    {
      "cell_type": "markdown",
      "metadata": {
        "id": "view-in-github",
        "colab_type": "text"
      },
      "source": [
        "<a href=\"https://colab.research.google.com/github/eunzzae/Study_NLP/blob/main/231202_%EC%8B%A4%EC%8A%B5_charseq.ipynb\" target=\"_parent\"><img src=\"https://colab.research.google.com/assets/colab-badge.svg\" alt=\"Open In Colab\"/></a>"
      ]
    },
    {
      "cell_type": "markdown",
      "source": [
        "# RNN 학습"
      ],
      "metadata": {
        "id": "wvDTNRVGTsEo"
      }
    },
    {
      "cell_type": "code",
      "execution_count": 1,
      "metadata": {
        "id": "-O8OhOBBTioK"
      },
      "outputs": [],
      "source": [
        "import torch\n",
        "import torch.optim as optim\n",
        "import numpy as np"
      ]
    },
    {
      "cell_type": "code",
      "source": [
        "# Random seed to make results deterministic and reproducible\n",
        "torch.manual_seed(0)"
      ],
      "metadata": {
        "colab": {
          "base_uri": "https://localhost:8080/"
        },
        "id": "Tl7bNJwTTzhb",
        "outputId": "2a5a72a1-0ebc-4325-bbca-30bb79d85b7b"
      },
      "execution_count": 2,
      "outputs": [
        {
          "output_type": "execute_result",
          "data": {
            "text/plain": [
              "<torch._C.Generator at 0x7893293613b0>"
            ]
          },
          "metadata": {},
          "execution_count": 2
        }
      ]
    },
    {
      "cell_type": "markdown",
      "source": [
        "## 샘플데이터 준비"
      ],
      "metadata": {
        "id": "LrpvEc2rT5y8"
      }
    },
    {
      "cell_type": "code",
      "source": [
        "sample = \"i want to go to America.\""
      ],
      "metadata": {
        "id": "M6204c7-T42u"
      },
      "execution_count": 3,
      "outputs": []
    },
    {
      "cell_type": "markdown",
      "source": [
        "* 주어진 데이터의 vocab 사전을 만든다."
      ],
      "metadata": {
        "id": "VEmd-c5vUGK9"
      }
    },
    {
      "cell_type": "code",
      "source": [
        "# make dictionary\n",
        "char_set = sorted(list(set(sample))) # set()를 사용해서 중복제거, list()를 사용해서 리스트로 변환, sorted()를 사용해서 오름차순 정렬한다.\n",
        "char_dict = {c:i for i, c in enumerate(char_set)} # 딕셔너리(dict)를 사용하여 키-값 쌍을 생성한다.\n",
        "print(char_dict, len(char_dict))"
      ],
      "metadata": {
        "colab": {
          "base_uri": "https://localhost:8080/"
        },
        "id": "ylW_LlIoUFc6",
        "outputId": "1da2ac3f-3362-4e9e-e0d5-0b22d8d57243"
      },
      "execution_count": 6,
      "outputs": [
        {
          "output_type": "stream",
          "name": "stdout",
          "text": [
            "{' ': 0, '.': 1, 'A': 2, 'a': 3, 'c': 4, 'e': 5, 'g': 6, 'i': 7, 'm': 8, 'n': 9, 'o': 10, 'r': 11, 't': 12, 'w': 13} 14\n"
          ]
        }
      ]
    },
    {
      "cell_type": "markdown",
      "source": [
        "## 하이퍼파라미터 설정"
      ],
      "metadata": {
        "id": "9BEV0WrjWR57"
      }
    },
    {
      "cell_type": "code",
      "source": [
        "# hyper parameters\n",
        "dict_size=len(char_dict)\n",
        "hidden_size = 20\n",
        "learning_rate = 0.1"
      ],
      "metadata": {
        "id": "aNUZiveQUP5l"
      },
      "execution_count": 7,
      "outputs": []
    },
    {
      "cell_type": "markdown",
      "source": [
        "* 제작한 사전을 이용해서 알파벳들을 index로 변경해보자."
      ],
      "metadata": {
        "id": "2mFUOapBWcjb"
      }
    },
    {
      "cell_type": "code",
      "source": [
        "# data setting\n",
        "## 문자열 생성\n",
        "sample_idx = [char_dict[c] for c in sample] # sample 리스트에 있는 각 문자를 char_dict 딕셔너리에서 해당 문자의 값으로 매핑하는 코드이다.\n",
        "print(sample_idx, len(sample_idx))\n",
        "\n",
        "## x 데이터 생성\n",
        "x_data = [sample_idx[:-1], sample_idx[:-1]] # 리스트 슬라이싱을 사용하여 sample_idx 리스트에서 일부분을 추출하는 코드이다.\n",
        "print(x_data, len(x_data))\n",
        "\n",
        "## x 데이터 원핫 인코딩\n",
        "x_one_hot = [np.eye(dict_size)[x] for x in x_data] # x_data는 정수로 이루어진 리스트이며 dict_size는 원핫 인코딩을 위한 배열의 크기를 나타내는 변수임. np.yey(dict_size)[x]는 크기가 (dict_size, dict_size)인 단위행렬에서 x에 해당하는 행을 선택해서 반환한다.\n",
        "print(x_one_hot)\n",
        "\n",
        "## y 데이터 생성\n",
        "y_data = [sample_idx[1:], sample_idx[1:]]\n",
        "print(y_data, len(y_data))"
      ],
      "metadata": {
        "colab": {
          "base_uri": "https://localhost:8080/"
        },
        "id": "dvBZyr_cWcAE",
        "outputId": "e5bd3566-11be-4338-d87a-a01ff64417b4"
      },
      "execution_count": 13,
      "outputs": [
        {
          "output_type": "stream",
          "name": "stdout",
          "text": [
            "[7, 0, 13, 3, 9, 12, 0, 12, 10, 0, 6, 10, 0, 12, 10, 0, 2, 8, 5, 11, 7, 4, 3, 1] 24\n",
            "[[7, 0, 13, 3, 9, 12, 0, 12, 10, 0, 6, 10, 0, 12, 10, 0, 2, 8, 5, 11, 7, 4, 3], [7, 0, 13, 3, 9, 12, 0, 12, 10, 0, 6, 10, 0, 12, 10, 0, 2, 8, 5, 11, 7, 4, 3]] 2\n",
            "[array([[0., 0., 0., 0., 0., 0., 0., 1., 0., 0., 0., 0., 0., 0.],\n",
            "       [1., 0., 0., 0., 0., 0., 0., 0., 0., 0., 0., 0., 0., 0.],\n",
            "       [0., 0., 0., 0., 0., 0., 0., 0., 0., 0., 0., 0., 0., 1.],\n",
            "       [0., 0., 0., 1., 0., 0., 0., 0., 0., 0., 0., 0., 0., 0.],\n",
            "       [0., 0., 0., 0., 0., 0., 0., 0., 0., 1., 0., 0., 0., 0.],\n",
            "       [0., 0., 0., 0., 0., 0., 0., 0., 0., 0., 0., 0., 1., 0.],\n",
            "       [1., 0., 0., 0., 0., 0., 0., 0., 0., 0., 0., 0., 0., 0.],\n",
            "       [0., 0., 0., 0., 0., 0., 0., 0., 0., 0., 0., 0., 1., 0.],\n",
            "       [0., 0., 0., 0., 0., 0., 0., 0., 0., 0., 1., 0., 0., 0.],\n",
            "       [1., 0., 0., 0., 0., 0., 0., 0., 0., 0., 0., 0., 0., 0.],\n",
            "       [0., 0., 0., 0., 0., 0., 1., 0., 0., 0., 0., 0., 0., 0.],\n",
            "       [0., 0., 0., 0., 0., 0., 0., 0., 0., 0., 1., 0., 0., 0.],\n",
            "       [1., 0., 0., 0., 0., 0., 0., 0., 0., 0., 0., 0., 0., 0.],\n",
            "       [0., 0., 0., 0., 0., 0., 0., 0., 0., 0., 0., 0., 1., 0.],\n",
            "       [0., 0., 0., 0., 0., 0., 0., 0., 0., 0., 1., 0., 0., 0.],\n",
            "       [1., 0., 0., 0., 0., 0., 0., 0., 0., 0., 0., 0., 0., 0.],\n",
            "       [0., 0., 1., 0., 0., 0., 0., 0., 0., 0., 0., 0., 0., 0.],\n",
            "       [0., 0., 0., 0., 0., 0., 0., 0., 1., 0., 0., 0., 0., 0.],\n",
            "       [0., 0., 0., 0., 0., 1., 0., 0., 0., 0., 0., 0., 0., 0.],\n",
            "       [0., 0., 0., 0., 0., 0., 0., 0., 0., 0., 0., 1., 0., 0.],\n",
            "       [0., 0., 0., 0., 0., 0., 0., 1., 0., 0., 0., 0., 0., 0.],\n",
            "       [0., 0., 0., 0., 1., 0., 0., 0., 0., 0., 0., 0., 0., 0.],\n",
            "       [0., 0., 0., 1., 0., 0., 0., 0., 0., 0., 0., 0., 0., 0.]]), array([[0., 0., 0., 0., 0., 0., 0., 1., 0., 0., 0., 0., 0., 0.],\n",
            "       [1., 0., 0., 0., 0., 0., 0., 0., 0., 0., 0., 0., 0., 0.],\n",
            "       [0., 0., 0., 0., 0., 0., 0., 0., 0., 0., 0., 0., 0., 1.],\n",
            "       [0., 0., 0., 1., 0., 0., 0., 0., 0., 0., 0., 0., 0., 0.],\n",
            "       [0., 0., 0., 0., 0., 0., 0., 0., 0., 1., 0., 0., 0., 0.],\n",
            "       [0., 0., 0., 0., 0., 0., 0., 0., 0., 0., 0., 0., 1., 0.],\n",
            "       [1., 0., 0., 0., 0., 0., 0., 0., 0., 0., 0., 0., 0., 0.],\n",
            "       [0., 0., 0., 0., 0., 0., 0., 0., 0., 0., 0., 0., 1., 0.],\n",
            "       [0., 0., 0., 0., 0., 0., 0., 0., 0., 0., 1., 0., 0., 0.],\n",
            "       [1., 0., 0., 0., 0., 0., 0., 0., 0., 0., 0., 0., 0., 0.],\n",
            "       [0., 0., 0., 0., 0., 0., 1., 0., 0., 0., 0., 0., 0., 0.],\n",
            "       [0., 0., 0., 0., 0., 0., 0., 0., 0., 0., 1., 0., 0., 0.],\n",
            "       [1., 0., 0., 0., 0., 0., 0., 0., 0., 0., 0., 0., 0., 0.],\n",
            "       [0., 0., 0., 0., 0., 0., 0., 0., 0., 0., 0., 0., 1., 0.],\n",
            "       [0., 0., 0., 0., 0., 0., 0., 0., 0., 0., 1., 0., 0., 0.],\n",
            "       [1., 0., 0., 0., 0., 0., 0., 0., 0., 0., 0., 0., 0., 0.],\n",
            "       [0., 0., 1., 0., 0., 0., 0., 0., 0., 0., 0., 0., 0., 0.],\n",
            "       [0., 0., 0., 0., 0., 0., 0., 0., 1., 0., 0., 0., 0., 0.],\n",
            "       [0., 0., 0., 0., 0., 1., 0., 0., 0., 0., 0., 0., 0., 0.],\n",
            "       [0., 0., 0., 0., 0., 0., 0., 0., 0., 0., 0., 1., 0., 0.],\n",
            "       [0., 0., 0., 0., 0., 0., 0., 1., 0., 0., 0., 0., 0., 0.],\n",
            "       [0., 0., 0., 0., 1., 0., 0., 0., 0., 0., 0., 0., 0., 0.],\n",
            "       [0., 0., 0., 1., 0., 0., 0., 0., 0., 0., 0., 0., 0., 0.]])]\n",
            "[[0, 13, 3, 9, 12, 0, 12, 10, 0, 6, 10, 0, 12, 10, 0, 2, 8, 5, 11, 7, 4, 3, 1], [0, 13, 3, 9, 12, 0, 12, 10, 0, 6, 10, 0, 12, 10, 0, 2, 8, 5, 11, 7, 4, 3, 1]] 2\n"
          ]
        }
      ]
    },
    {
      "cell_type": "markdown",
      "source": [
        "* pytorch 학습을 위해 데이터의 타입을 torch로 변경한다."
      ],
      "metadata": {
        "id": "9Q0TBwiTY4Hl"
      }
    },
    {
      "cell_type": "code",
      "source": [
        "# transform as torch tensor variable\n",
        "X = torch.FloatTensor(x_one_hot)\n",
        "X = X.transpose(0,1) #\n",
        "Y = torch.LongTensor(y_data)\n",
        "print(X.size(), Y.size())"
      ],
      "metadata": {
        "colab": {
          "base_uri": "https://localhost:8080/"
        },
        "id": "bEgRoaeAWlwa",
        "outputId": "e8032640-b4ca-4142-bdec-3d5fe0c34bf8"
      },
      "execution_count": 20,
      "outputs": [
        {
          "output_type": "stream",
          "name": "stdout",
          "text": [
            "torch.Size([23, 2, 14]) torch.Size([2, 23])\n"
          ]
        }
      ]
    },
    {
      "cell_type": "markdown",
      "source": [
        "## 모델 구성"
      ],
      "metadata": {
        "id": "0Tu3dauzaO4j"
      }
    },
    {
      "cell_type": "code",
      "source": [
        "# declare RNN\n",
        "rnn = torch.nn.RNN(input_size=dict_size, hidden_size=hidden_size, batch_first=False)\n",
        "dnn = torch.nn.Linear(hidden_size, dict_size)"
      ],
      "metadata": {
        "id": "OWG_rxh2ZOvg"
      },
      "execution_count": 21,
      "outputs": []
    },
    {
      "cell_type": "markdown",
      "source": [
        "## 모델 학습\n",
        "* 다음 텍스트를 예측하는 것은 다중분류이다."
      ],
      "metadata": {
        "id": "sNGoXsVmb029"
      }
    },
    {
      "cell_type": "code",
      "source": [
        "# loss & optimizer settin\n",
        "criterion = torch.nn.CrossEntropyLoss()\n",
        "optimizer = optim.Adam(rnn.parameters(), learning_rate)"
      ],
      "metadata": {
        "id": "CXdAEyrgbzrL"
      },
      "execution_count": 22,
      "outputs": []
    },
    {
      "cell_type": "code",
      "source": [
        "# start training\n",
        "for i in range(50):\n",
        "    optimizer.zero_grad() # 옵티마이저 그래디언트 초기화한다.\n",
        "    outputs, _status = rnn(X) # 입력데이터 X를 RNN 모델에 전달하여 출력한다.\n",
        "    outputs = dnn(outputs) # RNN의 출력을 DNN에 전달하여 최종 출력을 얻는다.\n",
        "    print(outputs.size(), Y.size())\n",
        "    print(outputs.view(-1, dict_size).shape, Y.view(-1).shape) # view 함수는 pytorch tensor의 형태를 변환하거나 조작하기 위해 사용되는 함수이다. 'output' Tensor를 (-1, dict_size) 모양으로 변환한다.\n",
        "    loss = criterion(outputs.view(-1, dict_size), Y.view(-1)) # 출력값과 실제 정답 간의 손실을 계산한다.\n",
        "    loss.backward() # 역전파를 수행하여 그래디언트를 계산한다.\n",
        "    optimizer.step() # 계산된 그래디언트를 사용하여 옵티마이저가 모델의 파라미터를 업데이트 한다.\n",
        "\n",
        "    result = outputs.data.numpy().argmax(axis=1) # axis를 1로 변경한다. 모델의 출력에서 각 샘플에 대해 가장 높은 확률을 가진 클래스를 선택한다.\n",
        "    result_str = ''.join([char_set[c[0]] for c in result]) # 선택된 클래스를 문자로 변환하여 결과 문자열을 생성한다.\n",
        "    print(i, \"loss: \", loss.item(), \"prediction: \", result[0], \"true Y: \", y_data, \"prediction str: \", result_str) # 현재 에포크, 손실값, 모델의 예측, 실제 레이블, 예측된 문자열을 출력한다."
      ],
      "metadata": {
        "colab": {
          "base_uri": "https://localhost:8080/"
        },
        "id": "giVY1HaDcEcf",
        "outputId": "3e7148eb-b77a-466b-e3d8-743f2522ffbf"
      },
      "execution_count": 29,
      "outputs": [
        {
          "output_type": "stream",
          "name": "stdout",
          "text": [
            "torch.Size([23, 2, 14]) torch.Size([2, 23])\n",
            "torch.Size([46, 14]) torch.Size([46])\n",
            "0 loss:  2.4812076091766357 prediction:  [0 0 0 0 0 0 0 0 0 0 0 0 0 0] true Y:  [[0, 13, 3, 9, 12, 0, 12, 10, 0, 6, 10, 0, 12, 10, 0, 2, 8, 5, 11, 7, 4, 3, 1], [0, 13, 3, 9, 12, 0, 12, 10, 0, 6, 10, 0, 12, 10, 0, 2, 8, 5, 11, 7, 4, 3, 1]] prediction str:                         \n",
            "torch.Size([23, 2, 14]) torch.Size([2, 23])\n",
            "torch.Size([46, 14]) torch.Size([46])\n",
            "1 loss:  2.3526153564453125 prediction:  [0 0 0 0 0 0 0 0 0 0 0 0 0 0] true Y:  [[0, 13, 3, 9, 12, 0, 12, 10, 0, 6, 10, 0, 12, 10, 0, 2, 8, 5, 11, 7, 4, 3, 1], [0, 13, 3, 9, 12, 0, 12, 10, 0, 6, 10, 0, 12, 10, 0, 2, 8, 5, 11, 7, 4, 3, 1]] prediction str:                         \n",
            "torch.Size([23, 2, 14]) torch.Size([2, 23])\n",
            "torch.Size([46, 14]) torch.Size([46])\n",
            "2 loss:  2.263589382171631 prediction:  [0 0 0 0 0 0 0 0 0 0 0 0 0 0] true Y:  [[0, 13, 3, 9, 12, 0, 12, 10, 0, 6, 10, 0, 12, 10, 0, 2, 8, 5, 11, 7, 4, 3, 1], [0, 13, 3, 9, 12, 0, 12, 10, 0, 6, 10, 0, 12, 10, 0, 2, 8, 5, 11, 7, 4, 3, 1]] prediction str:                         \n",
            "torch.Size([23, 2, 14]) torch.Size([2, 23])\n",
            "torch.Size([46, 14]) torch.Size([46])\n",
            "3 loss:  2.2000701427459717 prediction:  [0 0 0 0 0 0 0 0 0 0 0 0 0 0] true Y:  [[0, 13, 3, 9, 12, 0, 12, 10, 0, 6, 10, 0, 12, 10, 0, 2, 8, 5, 11, 7, 4, 3, 1], [0, 13, 3, 9, 12, 0, 12, 10, 0, 6, 10, 0, 12, 10, 0, 2, 8, 5, 11, 7, 4, 3, 1]] prediction str:                         \n",
            "torch.Size([23, 2, 14]) torch.Size([2, 23])\n",
            "torch.Size([46, 14]) torch.Size([46])\n",
            "4 loss:  2.135895252227783 prediction:  [0 0 0 0 0 0 0 0 0 0 0 0 0 0] true Y:  [[0, 13, 3, 9, 12, 0, 12, 10, 0, 6, 10, 0, 12, 10, 0, 2, 8, 5, 11, 7, 4, 3, 1], [0, 13, 3, 9, 12, 0, 12, 10, 0, 6, 10, 0, 12, 10, 0, 2, 8, 5, 11, 7, 4, 3, 1]] prediction str:                         \n",
            "torch.Size([23, 2, 14]) torch.Size([2, 23])\n",
            "torch.Size([46, 14]) torch.Size([46])\n",
            "5 loss:  2.0688681602478027 prediction:  [0 0 0 0 0 0 0 0 0 0 0 0 0 0] true Y:  [[0, 13, 3, 9, 12, 0, 12, 10, 0, 6, 10, 0, 12, 10, 0, 2, 8, 5, 11, 7, 4, 3, 1], [0, 13, 3, 9, 12, 0, 12, 10, 0, 6, 10, 0, 12, 10, 0, 2, 8, 5, 11, 7, 4, 3, 1]] prediction str:                         \n",
            "torch.Size([23, 2, 14]) torch.Size([2, 23])\n",
            "torch.Size([46, 14]) torch.Size([46])\n",
            "6 loss:  1.996881127357483 prediction:  [0 0 0 0 0 0 0 0 0 0 0 0 0 0] true Y:  [[0, 13, 3, 9, 12, 0, 12, 10, 0, 6, 10, 0, 12, 10, 0, 2, 8, 5, 11, 7, 4, 3, 1], [0, 13, 3, 9, 12, 0, 12, 10, 0, 6, 10, 0, 12, 10, 0, 2, 8, 5, 11, 7, 4, 3, 1]] prediction str:                         \n",
            "torch.Size([23, 2, 14]) torch.Size([2, 23])\n",
            "torch.Size([46, 14]) torch.Size([46])\n",
            "7 loss:  1.9447742700576782 prediction:  [0 0 0 0 0 0 0 0 0 0 0 0 0 0] true Y:  [[0, 13, 3, 9, 12, 0, 12, 10, 0, 6, 10, 0, 12, 10, 0, 2, 8, 5, 11, 7, 4, 3, 1], [0, 13, 3, 9, 12, 0, 12, 10, 0, 6, 10, 0, 12, 10, 0, 2, 8, 5, 11, 7, 4, 3, 1]] prediction str:                         \n",
            "torch.Size([23, 2, 14]) torch.Size([2, 23])\n",
            "torch.Size([46, 14]) torch.Size([46])\n",
            "8 loss:  1.9025468826293945 prediction:  [0 0 0 0 0 0 0 0 0 0 0 0 0 0] true Y:  [[0, 13, 3, 9, 12, 0, 12, 10, 0, 6, 10, 0, 12, 10, 0, 2, 8, 5, 11, 7, 4, 3, 1], [0, 13, 3, 9, 12, 0, 12, 10, 0, 6, 10, 0, 12, 10, 0, 2, 8, 5, 11, 7, 4, 3, 1]] prediction str:                         \n",
            "torch.Size([23, 2, 14]) torch.Size([2, 23])\n",
            "torch.Size([46, 14]) torch.Size([46])\n",
            "9 loss:  1.8790538311004639 prediction:  [0 0 0 0 0 0 0 0 0 0 0 0 0 0] true Y:  [[0, 13, 3, 9, 12, 0, 12, 10, 0, 6, 10, 0, 12, 10, 0, 2, 8, 5, 11, 7, 4, 3, 1], [0, 13, 3, 9, 12, 0, 12, 10, 0, 6, 10, 0, 12, 10, 0, 2, 8, 5, 11, 7, 4, 3, 1]] prediction str:                         \n",
            "torch.Size([23, 2, 14]) torch.Size([2, 23])\n",
            "torch.Size([46, 14]) torch.Size([46])\n",
            "10 loss:  1.855427622795105 prediction:  [0 0 0 0 0 0 0 0 0 0 0 0 0 0] true Y:  [[0, 13, 3, 9, 12, 0, 12, 10, 0, 6, 10, 0, 12, 10, 0, 2, 8, 5, 11, 7, 4, 3, 1], [0, 13, 3, 9, 12, 0, 12, 10, 0, 6, 10, 0, 12, 10, 0, 2, 8, 5, 11, 7, 4, 3, 1]] prediction str:                         \n",
            "torch.Size([23, 2, 14]) torch.Size([2, 23])\n",
            "torch.Size([46, 14]) torch.Size([46])\n",
            "11 loss:  1.826591968536377 prediction:  [0 0 0 0 0 0 0 0 0 0 0 0 0 0] true Y:  [[0, 13, 3, 9, 12, 0, 12, 10, 0, 6, 10, 0, 12, 10, 0, 2, 8, 5, 11, 7, 4, 3, 1], [0, 13, 3, 9, 12, 0, 12, 10, 0, 6, 10, 0, 12, 10, 0, 2, 8, 5, 11, 7, 4, 3, 1]] prediction str:                         \n",
            "torch.Size([23, 2, 14]) torch.Size([2, 23])\n",
            "torch.Size([46, 14]) torch.Size([46])\n",
            "12 loss:  1.8102538585662842 prediction:  [0 0 0 0 0 0 0 0 0 0 0 0 0 0] true Y:  [[0, 13, 3, 9, 12, 0, 12, 10, 0, 6, 10, 0, 12, 10, 0, 2, 8, 5, 11, 7, 4, 3, 1], [0, 13, 3, 9, 12, 0, 12, 10, 0, 6, 10, 0, 12, 10, 0, 2, 8, 5, 11, 7, 4, 3, 1]] prediction str:                         \n",
            "torch.Size([23, 2, 14]) torch.Size([2, 23])\n",
            "torch.Size([46, 14]) torch.Size([46])\n",
            "13 loss:  1.789955496788025 prediction:  [0 0 0 0 0 0 0 0 0 0 0 0 0 0] true Y:  [[0, 13, 3, 9, 12, 0, 12, 10, 0, 6, 10, 0, 12, 10, 0, 2, 8, 5, 11, 7, 4, 3, 1], [0, 13, 3, 9, 12, 0, 12, 10, 0, 6, 10, 0, 12, 10, 0, 2, 8, 5, 11, 7, 4, 3, 1]] prediction str:                         \n",
            "torch.Size([23, 2, 14]) torch.Size([2, 23])\n",
            "torch.Size([46, 14]) torch.Size([46])\n",
            "14 loss:  1.7751485109329224 prediction:  [0 0 0 0 0 0 0 0 0 0 0 0 0 0] true Y:  [[0, 13, 3, 9, 12, 0, 12, 10, 0, 6, 10, 0, 12, 10, 0, 2, 8, 5, 11, 7, 4, 3, 1], [0, 13, 3, 9, 12, 0, 12, 10, 0, 6, 10, 0, 12, 10, 0, 2, 8, 5, 11, 7, 4, 3, 1]] prediction str:                         \n",
            "torch.Size([23, 2, 14]) torch.Size([2, 23])\n",
            "torch.Size([46, 14]) torch.Size([46])\n",
            "15 loss:  1.7621018886566162 prediction:  [0 0 0 0 0 0 0 0 0 0 0 0 0 0] true Y:  [[0, 13, 3, 9, 12, 0, 12, 10, 0, 6, 10, 0, 12, 10, 0, 2, 8, 5, 11, 7, 4, 3, 1], [0, 13, 3, 9, 12, 0, 12, 10, 0, 6, 10, 0, 12, 10, 0, 2, 8, 5, 11, 7, 4, 3, 1]] prediction str:                         \n",
            "torch.Size([23, 2, 14]) torch.Size([2, 23])\n",
            "torch.Size([46, 14]) torch.Size([46])\n",
            "16 loss:  1.750124216079712 prediction:  [0 0 0 0 0 0 0 0 0 0 0 0 0 0] true Y:  [[0, 13, 3, 9, 12, 0, 12, 10, 0, 6, 10, 0, 12, 10, 0, 2, 8, 5, 11, 7, 4, 3, 1], [0, 13, 3, 9, 12, 0, 12, 10, 0, 6, 10, 0, 12, 10, 0, 2, 8, 5, 11, 7, 4, 3, 1]] prediction str:                         \n",
            "torch.Size([23, 2, 14]) torch.Size([2, 23])\n",
            "torch.Size([46, 14]) torch.Size([46])\n",
            "17 loss:  1.7409799098968506 prediction:  [0 0 0 0 0 0 0 0 0 0 0 0 0 0] true Y:  [[0, 13, 3, 9, 12, 0, 12, 10, 0, 6, 10, 0, 12, 10, 0, 2, 8, 5, 11, 7, 4, 3, 1], [0, 13, 3, 9, 12, 0, 12, 10, 0, 6, 10, 0, 12, 10, 0, 2, 8, 5, 11, 7, 4, 3, 1]] prediction str:                         \n",
            "torch.Size([23, 2, 14]) torch.Size([2, 23])\n",
            "torch.Size([46, 14]) torch.Size([46])\n",
            "18 loss:  1.7334022521972656 prediction:  [0 0 0 0 0 0 0 0 0 0 0 0 0 0] true Y:  [[0, 13, 3, 9, 12, 0, 12, 10, 0, 6, 10, 0, 12, 10, 0, 2, 8, 5, 11, 7, 4, 3, 1], [0, 13, 3, 9, 12, 0, 12, 10, 0, 6, 10, 0, 12, 10, 0, 2, 8, 5, 11, 7, 4, 3, 1]] prediction str:                         \n",
            "torch.Size([23, 2, 14]) torch.Size([2, 23])\n",
            "torch.Size([46, 14]) torch.Size([46])\n",
            "19 loss:  1.7262169122695923 prediction:  [0 0 0 0 0 0 0 0 0 0 0 0 0 0] true Y:  [[0, 13, 3, 9, 12, 0, 12, 10, 0, 6, 10, 0, 12, 10, 0, 2, 8, 5, 11, 7, 4, 3, 1], [0, 13, 3, 9, 12, 0, 12, 10, 0, 6, 10, 0, 12, 10, 0, 2, 8, 5, 11, 7, 4, 3, 1]] prediction str:                         \n",
            "torch.Size([23, 2, 14]) torch.Size([2, 23])\n",
            "torch.Size([46, 14]) torch.Size([46])\n",
            "20 loss:  1.7187037467956543 prediction:  [0 0 0 0 0 0 0 0 0 0 0 0 0 0] true Y:  [[0, 13, 3, 9, 12, 0, 12, 10, 0, 6, 10, 0, 12, 10, 0, 2, 8, 5, 11, 7, 4, 3, 1], [0, 13, 3, 9, 12, 0, 12, 10, 0, 6, 10, 0, 12, 10, 0, 2, 8, 5, 11, 7, 4, 3, 1]] prediction str:                         \n",
            "torch.Size([23, 2, 14]) torch.Size([2, 23])\n",
            "torch.Size([46, 14]) torch.Size([46])\n",
            "21 loss:  1.710748553276062 prediction:  [0 0 0 0 0 0 0 0 0 0 0 0 0 0] true Y:  [[0, 13, 3, 9, 12, 0, 12, 10, 0, 6, 10, 0, 12, 10, 0, 2, 8, 5, 11, 7, 4, 3, 1], [0, 13, 3, 9, 12, 0, 12, 10, 0, 6, 10, 0, 12, 10, 0, 2, 8, 5, 11, 7, 4, 3, 1]] prediction str:                         \n",
            "torch.Size([23, 2, 14]) torch.Size([2, 23])\n",
            "torch.Size([46, 14]) torch.Size([46])\n",
            "22 loss:  1.7035316228866577 prediction:  [0 0 0 0 0 0 0 0 0 0 0 0 0 0] true Y:  [[0, 13, 3, 9, 12, 0, 12, 10, 0, 6, 10, 0, 12, 10, 0, 2, 8, 5, 11, 7, 4, 3, 1], [0, 13, 3, 9, 12, 0, 12, 10, 0, 6, 10, 0, 12, 10, 0, 2, 8, 5, 11, 7, 4, 3, 1]] prediction str:                         \n",
            "torch.Size([23, 2, 14]) torch.Size([2, 23])\n",
            "torch.Size([46, 14]) torch.Size([46])\n",
            "23 loss:  1.6975109577178955 prediction:  [0 0 0 0 0 0 0 0 0 0 0 0 0 0] true Y:  [[0, 13, 3, 9, 12, 0, 12, 10, 0, 6, 10, 0, 12, 10, 0, 2, 8, 5, 11, 7, 4, 3, 1], [0, 13, 3, 9, 12, 0, 12, 10, 0, 6, 10, 0, 12, 10, 0, 2, 8, 5, 11, 7, 4, 3, 1]] prediction str:                         \n",
            "torch.Size([23, 2, 14]) torch.Size([2, 23])\n",
            "torch.Size([46, 14]) torch.Size([46])\n",
            "24 loss:  1.6924655437469482 prediction:  [0 0 0 0 0 0 0 0 0 0 0 0 0 0] true Y:  [[0, 13, 3, 9, 12, 0, 12, 10, 0, 6, 10, 0, 12, 10, 0, 2, 8, 5, 11, 7, 4, 3, 1], [0, 13, 3, 9, 12, 0, 12, 10, 0, 6, 10, 0, 12, 10, 0, 2, 8, 5, 11, 7, 4, 3, 1]] prediction str:                         \n",
            "torch.Size([23, 2, 14]) torch.Size([2, 23])\n",
            "torch.Size([46, 14]) torch.Size([46])\n",
            "25 loss:  1.688072681427002 prediction:  [0 0 0 0 0 0 0 0 0 0 0 0 0 0] true Y:  [[0, 13, 3, 9, 12, 0, 12, 10, 0, 6, 10, 0, 12, 10, 0, 2, 8, 5, 11, 7, 4, 3, 1], [0, 13, 3, 9, 12, 0, 12, 10, 0, 6, 10, 0, 12, 10, 0, 2, 8, 5, 11, 7, 4, 3, 1]] prediction str:                         \n",
            "torch.Size([23, 2, 14]) torch.Size([2, 23])\n",
            "torch.Size([46, 14]) torch.Size([46])\n",
            "26 loss:  1.6845905780792236 prediction:  [0 0 0 0 0 0 0 0 0 0 0 0 0 0] true Y:  [[0, 13, 3, 9, 12, 0, 12, 10, 0, 6, 10, 0, 12, 10, 0, 2, 8, 5, 11, 7, 4, 3, 1], [0, 13, 3, 9, 12, 0, 12, 10, 0, 6, 10, 0, 12, 10, 0, 2, 8, 5, 11, 7, 4, 3, 1]] prediction str:                         \n",
            "torch.Size([23, 2, 14]) torch.Size([2, 23])\n",
            "torch.Size([46, 14]) torch.Size([46])\n",
            "27 loss:  1.6817461252212524 prediction:  [0 0 0 0 0 0 0 0 0 0 0 0 0 0] true Y:  [[0, 13, 3, 9, 12, 0, 12, 10, 0, 6, 10, 0, 12, 10, 0, 2, 8, 5, 11, 7, 4, 3, 1], [0, 13, 3, 9, 12, 0, 12, 10, 0, 6, 10, 0, 12, 10, 0, 2, 8, 5, 11, 7, 4, 3, 1]] prediction str:                         \n",
            "torch.Size([23, 2, 14]) torch.Size([2, 23])\n",
            "torch.Size([46, 14]) torch.Size([46])\n",
            "28 loss:  1.6788746118545532 prediction:  [0 0 0 0 0 0 0 0 0 0 0 0 0 0] true Y:  [[0, 13, 3, 9, 12, 0, 12, 10, 0, 6, 10, 0, 12, 10, 0, 2, 8, 5, 11, 7, 4, 3, 1], [0, 13, 3, 9, 12, 0, 12, 10, 0, 6, 10, 0, 12, 10, 0, 2, 8, 5, 11, 7, 4, 3, 1]] prediction str:                         \n",
            "torch.Size([23, 2, 14]) torch.Size([2, 23])\n",
            "torch.Size([46, 14]) torch.Size([46])\n",
            "29 loss:  1.675970435142517 prediction:  [0 0 0 0 0 0 0 0 0 0 0 0 0 0] true Y:  [[0, 13, 3, 9, 12, 0, 12, 10, 0, 6, 10, 0, 12, 10, 0, 2, 8, 5, 11, 7, 4, 3, 1], [0, 13, 3, 9, 12, 0, 12, 10, 0, 6, 10, 0, 12, 10, 0, 2, 8, 5, 11, 7, 4, 3, 1]] prediction str:                         \n",
            "torch.Size([23, 2, 14]) torch.Size([2, 23])\n",
            "torch.Size([46, 14]) torch.Size([46])\n",
            "30 loss:  1.6732124090194702 prediction:  [0 0 0 0 0 0 0 0 0 0 0 0 0 0] true Y:  [[0, 13, 3, 9, 12, 0, 12, 10, 0, 6, 10, 0, 12, 10, 0, 2, 8, 5, 11, 7, 4, 3, 1], [0, 13, 3, 9, 12, 0, 12, 10, 0, 6, 10, 0, 12, 10, 0, 2, 8, 5, 11, 7, 4, 3, 1]] prediction str:                         \n",
            "torch.Size([23, 2, 14]) torch.Size([2, 23])\n",
            "torch.Size([46, 14]) torch.Size([46])\n",
            "31 loss:  1.6704657077789307 prediction:  [0 0 0 0 0 0 0 0 0 0 0 0 0 0] true Y:  [[0, 13, 3, 9, 12, 0, 12, 10, 0, 6, 10, 0, 12, 10, 0, 2, 8, 5, 11, 7, 4, 3, 1], [0, 13, 3, 9, 12, 0, 12, 10, 0, 6, 10, 0, 12, 10, 0, 2, 8, 5, 11, 7, 4, 3, 1]] prediction str:                         \n",
            "torch.Size([23, 2, 14]) torch.Size([2, 23])\n",
            "torch.Size([46, 14]) torch.Size([46])\n",
            "32 loss:  1.6677148342132568 prediction:  [0 0 0 0 0 0 0 0 0 0 0 0 0 0] true Y:  [[0, 13, 3, 9, 12, 0, 12, 10, 0, 6, 10, 0, 12, 10, 0, 2, 8, 5, 11, 7, 4, 3, 1], [0, 13, 3, 9, 12, 0, 12, 10, 0, 6, 10, 0, 12, 10, 0, 2, 8, 5, 11, 7, 4, 3, 1]] prediction str:                         \n",
            "torch.Size([23, 2, 14]) torch.Size([2, 23])\n",
            "torch.Size([46, 14]) torch.Size([46])\n",
            "33 loss:  1.6652569770812988 prediction:  [0 0 0 0 0 0 0 0 0 0 0 0 0 0] true Y:  [[0, 13, 3, 9, 12, 0, 12, 10, 0, 6, 10, 0, 12, 10, 0, 2, 8, 5, 11, 7, 4, 3, 1], [0, 13, 3, 9, 12, 0, 12, 10, 0, 6, 10, 0, 12, 10, 0, 2, 8, 5, 11, 7, 4, 3, 1]] prediction str:                         \n",
            "torch.Size([23, 2, 14]) torch.Size([2, 23])\n",
            "torch.Size([46, 14]) torch.Size([46])\n",
            "34 loss:  1.6632318496704102 prediction:  [0 0 0 0 0 0 0 0 0 0 0 0 0 0] true Y:  [[0, 13, 3, 9, 12, 0, 12, 10, 0, 6, 10, 0, 12, 10, 0, 2, 8, 5, 11, 7, 4, 3, 1], [0, 13, 3, 9, 12, 0, 12, 10, 0, 6, 10, 0, 12, 10, 0, 2, 8, 5, 11, 7, 4, 3, 1]] prediction str:                         \n",
            "torch.Size([23, 2, 14]) torch.Size([2, 23])\n",
            "torch.Size([46, 14]) torch.Size([46])\n",
            "35 loss:  1.6615103483200073 prediction:  [0 0 0 0 0 0 0 0 0 0 0 0 0 0] true Y:  [[0, 13, 3, 9, 12, 0, 12, 10, 0, 6, 10, 0, 12, 10, 0, 2, 8, 5, 11, 7, 4, 3, 1], [0, 13, 3, 9, 12, 0, 12, 10, 0, 6, 10, 0, 12, 10, 0, 2, 8, 5, 11, 7, 4, 3, 1]] prediction str:                         \n",
            "torch.Size([23, 2, 14]) torch.Size([2, 23])\n",
            "torch.Size([46, 14]) torch.Size([46])\n",
            "36 loss:  1.6598472595214844 prediction:  [0 0 0 0 0 0 0 0 0 0 0 0 0 0] true Y:  [[0, 13, 3, 9, 12, 0, 12, 10, 0, 6, 10, 0, 12, 10, 0, 2, 8, 5, 11, 7, 4, 3, 1], [0, 13, 3, 9, 12, 0, 12, 10, 0, 6, 10, 0, 12, 10, 0, 2, 8, 5, 11, 7, 4, 3, 1]] prediction str:                         \n",
            "torch.Size([23, 2, 14]) torch.Size([2, 23])\n",
            "torch.Size([46, 14]) torch.Size([46])\n",
            "37 loss:  1.6581443548202515 prediction:  [0 0 0 0 0 0 0 0 0 0 0 0 0 0] true Y:  [[0, 13, 3, 9, 12, 0, 12, 10, 0, 6, 10, 0, 12, 10, 0, 2, 8, 5, 11, 7, 4, 3, 1], [0, 13, 3, 9, 12, 0, 12, 10, 0, 6, 10, 0, 12, 10, 0, 2, 8, 5, 11, 7, 4, 3, 1]] prediction str:                         \n",
            "torch.Size([23, 2, 14]) torch.Size([2, 23])\n",
            "torch.Size([46, 14]) torch.Size([46])\n",
            "38 loss:  1.6564844846725464 prediction:  [0 0 0 0 0 0 0 0 0 0 0 0 0 0] true Y:  [[0, 13, 3, 9, 12, 0, 12, 10, 0, 6, 10, 0, 12, 10, 0, 2, 8, 5, 11, 7, 4, 3, 1], [0, 13, 3, 9, 12, 0, 12, 10, 0, 6, 10, 0, 12, 10, 0, 2, 8, 5, 11, 7, 4, 3, 1]] prediction str:                         \n",
            "torch.Size([23, 2, 14]) torch.Size([2, 23])\n",
            "torch.Size([46, 14]) torch.Size([46])\n",
            "39 loss:  1.6549135446548462 prediction:  [0 0 0 0 0 0 0 0 0 0 0 0 0 0] true Y:  [[0, 13, 3, 9, 12, 0, 12, 10, 0, 6, 10, 0, 12, 10, 0, 2, 8, 5, 11, 7, 4, 3, 1], [0, 13, 3, 9, 12, 0, 12, 10, 0, 6, 10, 0, 12, 10, 0, 2, 8, 5, 11, 7, 4, 3, 1]] prediction str:                         \n",
            "torch.Size([23, 2, 14]) torch.Size([2, 23])\n",
            "torch.Size([46, 14]) torch.Size([46])\n",
            "40 loss:  1.6533340215682983 prediction:  [0 0 0 0 0 0 0 0 0 0 0 0 0 0] true Y:  [[0, 13, 3, 9, 12, 0, 12, 10, 0, 6, 10, 0, 12, 10, 0, 2, 8, 5, 11, 7, 4, 3, 1], [0, 13, 3, 9, 12, 0, 12, 10, 0, 6, 10, 0, 12, 10, 0, 2, 8, 5, 11, 7, 4, 3, 1]] prediction str:                         \n",
            "torch.Size([23, 2, 14]) torch.Size([2, 23])\n",
            "torch.Size([46, 14]) torch.Size([46])\n",
            "41 loss:  1.6516541242599487 prediction:  [0 0 0 0 0 0 0 0 0 0 0 0 0 0] true Y:  [[0, 13, 3, 9, 12, 0, 12, 10, 0, 6, 10, 0, 12, 10, 0, 2, 8, 5, 11, 7, 4, 3, 1], [0, 13, 3, 9, 12, 0, 12, 10, 0, 6, 10, 0, 12, 10, 0, 2, 8, 5, 11, 7, 4, 3, 1]] prediction str:                         \n",
            "torch.Size([23, 2, 14]) torch.Size([2, 23])\n",
            "torch.Size([46, 14]) torch.Size([46])\n",
            "42 loss:  1.650150179862976 prediction:  [0 0 0 0 0 0 0 0 0 0 0 0 0 0] true Y:  [[0, 13, 3, 9, 12, 0, 12, 10, 0, 6, 10, 0, 12, 10, 0, 2, 8, 5, 11, 7, 4, 3, 1], [0, 13, 3, 9, 12, 0, 12, 10, 0, 6, 10, 0, 12, 10, 0, 2, 8, 5, 11, 7, 4, 3, 1]] prediction str:                         \n",
            "torch.Size([23, 2, 14]) torch.Size([2, 23])\n",
            "torch.Size([46, 14]) torch.Size([46])\n",
            "43 loss:  1.6488856077194214 prediction:  [0 0 0 0 0 0 0 0 0 0 0 0 0 0] true Y:  [[0, 13, 3, 9, 12, 0, 12, 10, 0, 6, 10, 0, 12, 10, 0, 2, 8, 5, 11, 7, 4, 3, 1], [0, 13, 3, 9, 12, 0, 12, 10, 0, 6, 10, 0, 12, 10, 0, 2, 8, 5, 11, 7, 4, 3, 1]] prediction str:                         \n",
            "torch.Size([23, 2, 14]) torch.Size([2, 23])\n",
            "torch.Size([46, 14]) torch.Size([46])\n",
            "44 loss:  1.6472872495651245 prediction:  [0 0 0 0 0 0 0 0 0 0 0 0 0 0] true Y:  [[0, 13, 3, 9, 12, 0, 12, 10, 0, 6, 10, 0, 12, 10, 0, 2, 8, 5, 11, 7, 4, 3, 1], [0, 13, 3, 9, 12, 0, 12, 10, 0, 6, 10, 0, 12, 10, 0, 2, 8, 5, 11, 7, 4, 3, 1]] prediction str:                         \n",
            "torch.Size([23, 2, 14]) torch.Size([2, 23])\n",
            "torch.Size([46, 14]) torch.Size([46])\n",
            "45 loss:  1.6462422609329224 prediction:  [0 0 0 0 0 0 0 0 0 0 0 0 0 0] true Y:  [[0, 13, 3, 9, 12, 0, 12, 10, 0, 6, 10, 0, 12, 10, 0, 2, 8, 5, 11, 7, 4, 3, 1], [0, 13, 3, 9, 12, 0, 12, 10, 0, 6, 10, 0, 12, 10, 0, 2, 8, 5, 11, 7, 4, 3, 1]] prediction str:                         \n",
            "torch.Size([23, 2, 14]) torch.Size([2, 23])\n",
            "torch.Size([46, 14]) torch.Size([46])\n",
            "46 loss:  1.6452332735061646 prediction:  [0 0 0 0 0 0 0 0 0 0 0 0 0 0] true Y:  [[0, 13, 3, 9, 12, 0, 12, 10, 0, 6, 10, 0, 12, 10, 0, 2, 8, 5, 11, 7, 4, 3, 1], [0, 13, 3, 9, 12, 0, 12, 10, 0, 6, 10, 0, 12, 10, 0, 2, 8, 5, 11, 7, 4, 3, 1]] prediction str:                         \n",
            "torch.Size([23, 2, 14]) torch.Size([2, 23])\n",
            "torch.Size([46, 14]) torch.Size([46])\n",
            "47 loss:  1.6439595222473145 prediction:  [0 0 0 0 0 0 0 0 0 0 0 0 0 0] true Y:  [[0, 13, 3, 9, 12, 0, 12, 10, 0, 6, 10, 0, 12, 10, 0, 2, 8, 5, 11, 7, 4, 3, 1], [0, 13, 3, 9, 12, 0, 12, 10, 0, 6, 10, 0, 12, 10, 0, 2, 8, 5, 11, 7, 4, 3, 1]] prediction str:                         \n",
            "torch.Size([23, 2, 14]) torch.Size([2, 23])\n",
            "torch.Size([46, 14]) torch.Size([46])\n",
            "48 loss:  1.642624020576477 prediction:  [0 0 0 0 0 0 0 0 0 0 0 0 0 0] true Y:  [[0, 13, 3, 9, 12, 0, 12, 10, 0, 6, 10, 0, 12, 10, 0, 2, 8, 5, 11, 7, 4, 3, 1], [0, 13, 3, 9, 12, 0, 12, 10, 0, 6, 10, 0, 12, 10, 0, 2, 8, 5, 11, 7, 4, 3, 1]] prediction str:                         \n",
            "torch.Size([23, 2, 14]) torch.Size([2, 23])\n",
            "torch.Size([46, 14]) torch.Size([46])\n",
            "49 loss:  1.6414179801940918 prediction:  [0 0 0 0 0 0 0 0 0 0 0 0 0 0] true Y:  [[0, 13, 3, 9, 12, 0, 12, 10, 0, 6, 10, 0, 12, 10, 0, 2, 8, 5, 11, 7, 4, 3, 1], [0, 13, 3, 9, 12, 0, 12, 10, 0, 6, 10, 0, 12, 10, 0, 2, 8, 5, 11, 7, 4, 3, 1]] prediction str:                         \n"
          ]
        }
      ]
    },
    {
      "cell_type": "code",
      "source": [
        "import torch.nn as nn\n",
        "from torch.utils.data import Dataset, DataLoader\n",
        "\n",
        "# 문자열 샘플을 입력으로 받아 각 문자를 정수형 인덱스로 변환하여 데이터셋을 구성하는 클래스이다.\n",
        "class CharDataset(Dataset):\n",
        "    def __init__(self, samples, char_to_index): # __init__ 매서드는 샘플들과 문자를 정수 인덱스로 매핑한 'char_to_index'사전을 받아들인다.\n",
        "        self.samples = samples\n",
        "        self.char_to_index = char_to_index\n",
        "\n",
        "    def __len__(self): ## len 매서드는 데이터셋의 전체 길이를 반환한다. 입력된 샘플의 개수가 반환된다.\n",
        "        return len(self.samples)\n",
        "\n",
        "    def __getitem__(self, idx): # getitem 매서드는 주어진 인덱스(idx)에 해당하는 샘플을 처리한다.\n",
        "        sample = self.samples[idx]\n",
        "        indexed = [self.char_to_index[ch] for ch in sample] # 입력된 샘플을 하나씩 가져와서 각 문자를 'char_to_index'사전을 이용하여 해당 문자의 정수 인덱스로 변환한다.\n",
        "        X = torch.tensor(indexed[:-1], dtype=torch.long) # 변환된 인덱스를 이용하여 입력'X'와 출력'Y'를 생성한다.\n",
        "        Y = torch.tensor(indexed[1:], dtype=torch.long)\n",
        "        return X, Y\n",
        "\n",
        "samples = [\" if you want you\", \" if you want you\"]\n",
        "chars = sorted(set(\"\".join(samples)))\n",
        "char_to_index = {ch: i for i, ch in enumerate(chars)}\n",
        "index_to_char = {i: ch for i, ch in enumerate(chars)}\n",
        "\n",
        "dataset = CharDataset(samples, char_to_index)"
      ],
      "metadata": {
        "id": "UY5JoZZfcagB"
      },
      "execution_count": 37,
      "outputs": []
    },
    {
      "cell_type": "code",
      "source": [
        "batch_size = 2\n",
        "dataloader = DataLoader(dataset, batch_size=batch_size, shuffle=True)"
      ],
      "metadata": {
        "id": "-xjl7hmEixhP"
      },
      "execution_count": 38,
      "outputs": []
    },
    {
      "cell_type": "code",
      "source": [
        "class CharRNN(nn.Module):\n",
        "    def __init__(self, input_size, hidden_size, output_size, num_layers=1): # init 매서드는 모델의 구조를 정의한다.\n",
        "        super(CharRNN, self).__init__()\n",
        "        self.rnn = nn.RNN(input_size, hidden_size, num_layers, batch_first=False)\n",
        "        self.fc = nn.Linear(hidden_size, output_size)\n",
        "\n",
        "    def forward(self, x, hidden): # forward 매서드는 순전파 연산을 정의한다.\n",
        "        out, hidden = self.rnn(x, hidden) # 입력 x와 hidden을 받아 RNN 레이어를 통과한 결과 새로운 hidden을 반환한다.\n",
        "        out = self.fc(out) # 출력 out을 fc레이어를 통과시켜 최종 출력을 만든다.\n",
        "        return out, hidden\n",
        "\n",
        "    def init_hidden(self, batch_size): # init_hidden 매서드는 초기 hidden 상태를 반환하는 함수이다.\n",
        "        return torch.zeros(num_layers, batch_size, hidden_size)\n",
        "\n",
        "hidden_size = 128\n",
        "num_layers = 1\n",
        "input_size = 10\n",
        "model = CharRNN(input_size, hidden_size, input_size)"
      ],
      "metadata": {
        "id": "glasxBY2hSSo"
      },
      "execution_count": 39,
      "outputs": []
    },
    {
      "cell_type": "code",
      "source": [
        "model = CharRNN(len(chars), hidden_size, len(chars), num_layers=1)\n",
        "criterion = nn.CrossEntropyLoss()\n",
        "optimizer = optim.Adam(model.parameters(), lr=0.005)\n",
        "\n",
        "num_epochs = 200\n",
        "for epoch in range(num_epochs):\n",
        "    total_loss = 0\n",
        "    for X_batch, Y_batch in dataloader: # 데이터로더에서 미니배치(X_batch, Y_batch)를 순회한다.\n",
        "        batch_size = X_batch.size(0)\n",
        "        hidden = model.init_hidden(batch_size) # 새로운 미니배치에 대해 초기 hidden 상태를 초기화한다.\n",
        "        X_batch_onehot = nn.functional.one_hot(X_batch, num_classes=len(chars)).float() # 입력 데이터를 one-hot인코딩으로 변환한다.\n",
        "\n",
        "        optimizer.zero_grad()\n",
        "        output, hidden = model(X_batch_onehot.view(-1, batch_size, len(chars)), hidden) # 모델에 입력을 전달하여 출력을 생성한다. input => (sequence_length, batch_size, input_size)\n",
        "        # sequence_length가 -1인 경우 해당 차원의 크기를 자동으로 조정하고 나머지 차원들은 주어진 값에 따라 조정된다.\n",
        "        # 모델은 시퀀스 길이가 sequence_length인 미니배치 데이터를 받아들이기 위해 -1의 형태로 입력을 받음\n",
        "        print(output.view(-1, len(chars)).shape, Y_batch.view(-1).shape)\n",
        "        loss = criterion(output.view(-1, len(chars)), Y_batch.view(-1))\n",
        "        loss.backward()\n",
        "        optimizer.step()\n",
        "\n",
        "        total_loss += loss.item()\n",
        "\n",
        "    if epoch % 20 == 0:\n",
        "        print(f'Epoch {epoch}/{num_epochs}, Loss: {total_loss / len(dataloader)}')\n"
      ],
      "metadata": {
        "colab": {
          "base_uri": "https://localhost:8080/"
        },
        "id": "iDBAtyPWjvw6",
        "outputId": "9c3f2891-4334-49b9-bfc9-6f247fb00eac"
      },
      "execution_count": 41,
      "outputs": [
        {
          "output_type": "stream",
          "name": "stdout",
          "text": [
            "torch.Size([30, 10]) torch.Size([30])\n",
            "Epoch 0/200, Loss: 2.3289644718170166\n",
            "torch.Size([30, 10]) torch.Size([30])\n",
            "torch.Size([30, 10]) torch.Size([30])\n",
            "torch.Size([30, 10]) torch.Size([30])\n",
            "torch.Size([30, 10]) torch.Size([30])\n",
            "torch.Size([30, 10]) torch.Size([30])\n",
            "torch.Size([30, 10]) torch.Size([30])\n",
            "torch.Size([30, 10]) torch.Size([30])\n",
            "torch.Size([30, 10]) torch.Size([30])\n",
            "torch.Size([30, 10]) torch.Size([30])\n",
            "torch.Size([30, 10]) torch.Size([30])\n",
            "torch.Size([30, 10]) torch.Size([30])\n",
            "torch.Size([30, 10]) torch.Size([30])\n",
            "torch.Size([30, 10]) torch.Size([30])\n",
            "torch.Size([30, 10]) torch.Size([30])\n",
            "torch.Size([30, 10]) torch.Size([30])\n",
            "torch.Size([30, 10]) torch.Size([30])\n",
            "torch.Size([30, 10]) torch.Size([30])\n",
            "torch.Size([30, 10]) torch.Size([30])\n",
            "torch.Size([30, 10]) torch.Size([30])\n",
            "torch.Size([30, 10]) torch.Size([30])\n",
            "Epoch 20/200, Loss: 0.13980229198932648\n",
            "torch.Size([30, 10]) torch.Size([30])\n",
            "torch.Size([30, 10]) torch.Size([30])\n",
            "torch.Size([30, 10]) torch.Size([30])\n",
            "torch.Size([30, 10]) torch.Size([30])\n",
            "torch.Size([30, 10]) torch.Size([30])\n",
            "torch.Size([30, 10]) torch.Size([30])\n",
            "torch.Size([30, 10]) torch.Size([30])\n",
            "torch.Size([30, 10]) torch.Size([30])\n",
            "torch.Size([30, 10]) torch.Size([30])\n",
            "torch.Size([30, 10]) torch.Size([30])\n",
            "torch.Size([30, 10]) torch.Size([30])\n",
            "torch.Size([30, 10]) torch.Size([30])\n",
            "torch.Size([30, 10]) torch.Size([30])\n",
            "torch.Size([30, 10]) torch.Size([30])\n",
            "torch.Size([30, 10]) torch.Size([30])\n",
            "torch.Size([30, 10]) torch.Size([30])\n",
            "torch.Size([30, 10]) torch.Size([30])\n",
            "torch.Size([30, 10]) torch.Size([30])\n",
            "torch.Size([30, 10]) torch.Size([30])\n",
            "torch.Size([30, 10]) torch.Size([30])\n",
            "Epoch 40/200, Loss: 0.01689632423222065\n",
            "torch.Size([30, 10]) torch.Size([30])\n",
            "torch.Size([30, 10]) torch.Size([30])\n",
            "torch.Size([30, 10]) torch.Size([30])\n",
            "torch.Size([30, 10]) torch.Size([30])\n",
            "torch.Size([30, 10]) torch.Size([30])\n",
            "torch.Size([30, 10]) torch.Size([30])\n",
            "torch.Size([30, 10]) torch.Size([30])\n",
            "torch.Size([30, 10]) torch.Size([30])\n",
            "torch.Size([30, 10]) torch.Size([30])\n",
            "torch.Size([30, 10]) torch.Size([30])\n",
            "torch.Size([30, 10]) torch.Size([30])\n",
            "torch.Size([30, 10]) torch.Size([30])\n",
            "torch.Size([30, 10]) torch.Size([30])\n",
            "torch.Size([30, 10]) torch.Size([30])\n",
            "torch.Size([30, 10]) torch.Size([30])\n",
            "torch.Size([30, 10]) torch.Size([30])\n",
            "torch.Size([30, 10]) torch.Size([30])\n",
            "torch.Size([30, 10]) torch.Size([30])\n",
            "torch.Size([30, 10]) torch.Size([30])\n",
            "torch.Size([30, 10]) torch.Size([30])\n",
            "Epoch 60/200, Loss: 0.004931511357426643\n",
            "torch.Size([30, 10]) torch.Size([30])\n",
            "torch.Size([30, 10]) torch.Size([30])\n",
            "torch.Size([30, 10]) torch.Size([30])\n",
            "torch.Size([30, 10]) torch.Size([30])\n",
            "torch.Size([30, 10]) torch.Size([30])\n",
            "torch.Size([30, 10]) torch.Size([30])\n",
            "torch.Size([30, 10]) torch.Size([30])\n",
            "torch.Size([30, 10]) torch.Size([30])\n",
            "torch.Size([30, 10]) torch.Size([30])\n",
            "torch.Size([30, 10]) torch.Size([30])\n",
            "torch.Size([30, 10]) torch.Size([30])\n",
            "torch.Size([30, 10]) torch.Size([30])\n",
            "torch.Size([30, 10]) torch.Size([30])\n",
            "torch.Size([30, 10]) torch.Size([30])\n",
            "torch.Size([30, 10]) torch.Size([30])\n",
            "torch.Size([30, 10]) torch.Size([30])\n",
            "torch.Size([30, 10]) torch.Size([30])\n",
            "torch.Size([30, 10]) torch.Size([30])\n",
            "torch.Size([30, 10]) torch.Size([30])\n",
            "torch.Size([30, 10]) torch.Size([30])\n",
            "Epoch 80/200, Loss: 0.0028266317676752806\n",
            "torch.Size([30, 10]) torch.Size([30])\n",
            "torch.Size([30, 10]) torch.Size([30])\n",
            "torch.Size([30, 10]) torch.Size([30])\n",
            "torch.Size([30, 10]) torch.Size([30])\n",
            "torch.Size([30, 10]) torch.Size([30])\n",
            "torch.Size([30, 10]) torch.Size([30])\n",
            "torch.Size([30, 10]) torch.Size([30])\n",
            "torch.Size([30, 10]) torch.Size([30])\n",
            "torch.Size([30, 10]) torch.Size([30])\n",
            "torch.Size([30, 10]) torch.Size([30])\n",
            "torch.Size([30, 10]) torch.Size([30])\n",
            "torch.Size([30, 10]) torch.Size([30])\n",
            "torch.Size([30, 10]) torch.Size([30])\n",
            "torch.Size([30, 10]) torch.Size([30])\n",
            "torch.Size([30, 10]) torch.Size([30])\n",
            "torch.Size([30, 10]) torch.Size([30])\n",
            "torch.Size([30, 10]) torch.Size([30])\n",
            "torch.Size([30, 10]) torch.Size([30])\n",
            "torch.Size([30, 10]) torch.Size([30])\n",
            "torch.Size([30, 10]) torch.Size([30])\n",
            "Epoch 100/200, Loss: 0.002007090486586094\n",
            "torch.Size([30, 10]) torch.Size([30])\n",
            "torch.Size([30, 10]) torch.Size([30])\n",
            "torch.Size([30, 10]) torch.Size([30])\n",
            "torch.Size([30, 10]) torch.Size([30])\n",
            "torch.Size([30, 10]) torch.Size([30])\n",
            "torch.Size([30, 10]) torch.Size([30])\n",
            "torch.Size([30, 10]) torch.Size([30])\n",
            "torch.Size([30, 10]) torch.Size([30])\n",
            "torch.Size([30, 10]) torch.Size([30])\n",
            "torch.Size([30, 10]) torch.Size([30])\n",
            "torch.Size([30, 10]) torch.Size([30])\n",
            "torch.Size([30, 10]) torch.Size([30])\n",
            "torch.Size([30, 10]) torch.Size([30])\n",
            "torch.Size([30, 10]) torch.Size([30])\n",
            "torch.Size([30, 10]) torch.Size([30])\n",
            "torch.Size([30, 10]) torch.Size([30])\n",
            "torch.Size([30, 10]) torch.Size([30])\n",
            "torch.Size([30, 10]) torch.Size([30])\n",
            "torch.Size([30, 10]) torch.Size([30])\n",
            "torch.Size([30, 10]) torch.Size([30])\n",
            "Epoch 120/200, Loss: 0.0015342563856393099\n",
            "torch.Size([30, 10]) torch.Size([30])\n",
            "torch.Size([30, 10]) torch.Size([30])\n",
            "torch.Size([30, 10]) torch.Size([30])\n",
            "torch.Size([30, 10]) torch.Size([30])\n",
            "torch.Size([30, 10]) torch.Size([30])\n",
            "torch.Size([30, 10]) torch.Size([30])\n",
            "torch.Size([30, 10]) torch.Size([30])\n",
            "torch.Size([30, 10]) torch.Size([30])\n",
            "torch.Size([30, 10]) torch.Size([30])\n",
            "torch.Size([30, 10]) torch.Size([30])\n",
            "torch.Size([30, 10]) torch.Size([30])\n",
            "torch.Size([30, 10]) torch.Size([30])\n",
            "torch.Size([30, 10]) torch.Size([30])\n",
            "torch.Size([30, 10]) torch.Size([30])\n",
            "torch.Size([30, 10]) torch.Size([30])\n",
            "torch.Size([30, 10]) torch.Size([30])\n",
            "torch.Size([30, 10]) torch.Size([30])\n",
            "torch.Size([30, 10]) torch.Size([30])\n",
            "torch.Size([30, 10]) torch.Size([30])\n",
            "torch.Size([30, 10]) torch.Size([30])\n",
            "Epoch 140/200, Loss: 0.0012204379308968782\n",
            "torch.Size([30, 10]) torch.Size([30])\n",
            "torch.Size([30, 10]) torch.Size([30])\n",
            "torch.Size([30, 10]) torch.Size([30])\n",
            "torch.Size([30, 10]) torch.Size([30])\n",
            "torch.Size([30, 10]) torch.Size([30])\n",
            "torch.Size([30, 10]) torch.Size([30])\n",
            "torch.Size([30, 10]) torch.Size([30])\n",
            "torch.Size([30, 10]) torch.Size([30])\n",
            "torch.Size([30, 10]) torch.Size([30])\n",
            "torch.Size([30, 10]) torch.Size([30])\n",
            "torch.Size([30, 10]) torch.Size([30])\n",
            "torch.Size([30, 10]) torch.Size([30])\n",
            "torch.Size([30, 10]) torch.Size([30])\n",
            "torch.Size([30, 10]) torch.Size([30])\n",
            "torch.Size([30, 10]) torch.Size([30])\n",
            "torch.Size([30, 10]) torch.Size([30])\n",
            "torch.Size([30, 10]) torch.Size([30])\n",
            "torch.Size([30, 10]) torch.Size([30])\n",
            "torch.Size([30, 10]) torch.Size([30])\n",
            "torch.Size([30, 10]) torch.Size([30])\n",
            "Epoch 160/200, Loss: 0.0009977982845157385\n",
            "torch.Size([30, 10]) torch.Size([30])\n",
            "torch.Size([30, 10]) torch.Size([30])\n",
            "torch.Size([30, 10]) torch.Size([30])\n",
            "torch.Size([30, 10]) torch.Size([30])\n",
            "torch.Size([30, 10]) torch.Size([30])\n",
            "torch.Size([30, 10]) torch.Size([30])\n",
            "torch.Size([30, 10]) torch.Size([30])\n",
            "torch.Size([30, 10]) torch.Size([30])\n",
            "torch.Size([30, 10]) torch.Size([30])\n",
            "torch.Size([30, 10]) torch.Size([30])\n",
            "torch.Size([30, 10]) torch.Size([30])\n",
            "torch.Size([30, 10]) torch.Size([30])\n",
            "torch.Size([30, 10]) torch.Size([30])\n",
            "torch.Size([30, 10]) torch.Size([30])\n",
            "torch.Size([30, 10]) torch.Size([30])\n",
            "torch.Size([30, 10]) torch.Size([30])\n",
            "torch.Size([30, 10]) torch.Size([30])\n",
            "torch.Size([30, 10]) torch.Size([30])\n",
            "torch.Size([30, 10]) torch.Size([30])\n",
            "torch.Size([30, 10]) torch.Size([30])\n",
            "Epoch 180/200, Loss: 0.0008333392906934023\n",
            "torch.Size([30, 10]) torch.Size([30])\n",
            "torch.Size([30, 10]) torch.Size([30])\n",
            "torch.Size([30, 10]) torch.Size([30])\n",
            "torch.Size([30, 10]) torch.Size([30])\n",
            "torch.Size([30, 10]) torch.Size([30])\n",
            "torch.Size([30, 10]) torch.Size([30])\n",
            "torch.Size([30, 10]) torch.Size([30])\n",
            "torch.Size([30, 10]) torch.Size([30])\n",
            "torch.Size([30, 10]) torch.Size([30])\n",
            "torch.Size([30, 10]) torch.Size([30])\n",
            "torch.Size([30, 10]) torch.Size([30])\n",
            "torch.Size([30, 10]) torch.Size([30])\n",
            "torch.Size([30, 10]) torch.Size([30])\n",
            "torch.Size([30, 10]) torch.Size([30])\n",
            "torch.Size([30, 10]) torch.Size([30])\n",
            "torch.Size([30, 10]) torch.Size([30])\n",
            "torch.Size([30, 10]) torch.Size([30])\n",
            "torch.Size([30, 10]) torch.Size([30])\n",
            "torch.Size([30, 10]) torch.Size([30])\n"
          ]
        }
      ]
    },
    {
      "cell_type": "code",
      "source": [],
      "metadata": {
        "id": "_iNEA-Kvk4U_"
      },
      "execution_count": null,
      "outputs": []
    }
  ]
}